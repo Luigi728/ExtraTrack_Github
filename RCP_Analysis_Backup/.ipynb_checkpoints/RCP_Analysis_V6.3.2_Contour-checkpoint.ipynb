{
 "cells": [
  {
   "cell_type": "code",
   "execution_count": 1,
   "id": "460aa4fd-935e-46b2-8d09-f3d07edb3065",
   "metadata": {},
   "outputs": [],
   "source": [
    "import cartopy.crs as ccrs\n",
    "import cartopy.feature as cfeature\n",
    "from cartopy.mpl.gridliner import LATITUDE_FORMATTER, LONGITUDE_FORMATTER\n",
    "import cftime\n",
    "import datetime\n",
    "from datetime import date\n",
    "from matplotlib import pyplot\n",
    "from matplotlib import colors\n",
    "from matplotlib import font_manager\n",
    "from matplotlib.cm import ScalarMappable\n",
    "import matplotlib.colors as mcolors\n",
    "import matplotlib.dates as mdates\n",
    "import matplotlib.lines as mlines\n",
    "import matplotlib.patches as mpatches\n",
    "import matplotlib.ticker as mticker\n",
    "import numpy\n",
    "import pandas\n",
    "from PIL import Image\n",
    "import random\n",
    "import xarray as xr"
   ]
  },
  {
   "cell_type": "code",
   "execution_count": 2,
   "id": "bba2911b-d769-468b-9229-061a124e679f",
   "metadata": {},
   "outputs": [],
   "source": [
    "Diri = '/glade/u/home/whimkao//ExtraTrack/ExtraTrack_Data/Output_Files_V6/'\n",
    "Output_Diri = '/glade/u/home/whimkao//ExtraTrack/ExtraTrack_Github/RCP_Figs/Analysis_Figs_V6.3.2/'"
   ]
  },
  {
   "cell_type": "code",
   "execution_count": 3,
   "id": "d033720c-9137-42fc-8084-ae7f913b825c",
   "metadata": {},
   "outputs": [],
   "source": [
    "# Open File\n",
    "def Open_File(File):\n",
    "    DF = pandas.read_csv(File)\n",
    "    DF = DF.drop(\"Unnamed: 0\", axis=1)\n",
    "    return (DF)"
   ]
  },
  {
   "cell_type": "code",
   "execution_count": 4,
   "id": "eb9e9c47-7bfe-4b13-8423-6e5a87b4a9b3",
   "metadata": {},
   "outputs": [],
   "source": [
    "# Open Each File\n",
    "def Files_Open(Model, Diri):\n",
    "    Data_DF = Open_File(Diri+Model+'_Data_hPa_Output_V6.csv')\n",
    "    ET_DF = Open_File(Diri+Model+'_ET_hPa_Output_V6.csv')\n",
    "    Codes_DF = Open_File(Diri+Model+'_Codes_Output_V6.csv')\n",
    "    Time, Birth_Time, Begin_Time, Compl_Time, Death_Time, Peak_Time, Months = [], [], [], [], [], [], []\n",
    "# Edit Time Format\n",
    "    for i in range(len(Data_DF)):\n",
    "        Time.append(Datetime(Data_DF[\"Time(Z)\"][i]))\n",
    "        Months.append(Month(Data_DF[\"Time(Z)\"][i]))\n",
    "    for j in range(len(ET_DF)):\n",
    "        Birth_Time.append(Datetime(ET_DF[\"Genesis Time\"][j]))\n",
    "        Begin_Time.append(Datetime(ET_DF[\"ET Begin Time\"][j]))\n",
    "        Compl_Time.append(Datetime(ET_DF[\"ET Complete Time\"][j]))\n",
    "        Death_Time.append(Datetime(ET_DF[\"Dissipate Time\"][j]))\n",
    "        Peak_Time.append(Datetime(ET_DF[\"Peak Time\"][j]))\n",
    "    Data_DF[\"Time(Z)\"] = Time\n",
    "    Data_DF[\"Month\"] = Months\n",
    "    ET_DF[\"Genesis Time\"] = Birth_Time\n",
    "    ET_DF[\"ET Begin Time\"] = Begin_Time\n",
    "    ET_DF[\"ET Complete Time\"] = Compl_Time\n",
    "    ET_DF[\"Dissipate Time\"] = Death_Time\n",
    "    ET_DF[\"Peak Time\"] = Peak_Time\n",
    "    return (Data_DF, ET_DF, Codes_DF)"
   ]
  },
  {
   "cell_type": "code",
   "execution_count": 5,
   "id": "47f030d8-f7d1-4ebb-83bc-2aad6b254f1c",
   "metadata": {},
   "outputs": [],
   "source": [
    "def Datetime(Time):\n",
    "    try:\n",
    "        New_Time = datetime.datetime.strptime(Time, '%Y-%m-%d %H:%M:%S')\n",
    "    except:\n",
    "        New_Time = numpy.nan\n",
    "    return (New_Time)"
   ]
  },
  {
   "cell_type": "code",
   "execution_count": 6,
   "id": "20b442ea-0c84-4084-84a0-d620b07374b9",
   "metadata": {},
   "outputs": [],
   "source": [
    "def Month(Time):\n",
    "    try:\n",
    "        New_Time = datetime.datetime.strptime(Time, '%Y-%m-%d %H:%M:%S')\n",
    "        Month = New_Time.month\n",
    "    except:\n",
    "        Month = numpy.nan\n",
    "    return (Month)"
   ]
  },
  {
   "cell_type": "code",
   "execution_count": 7,
   "id": "e98b81a7-dbce-48fe-a327-77943b2a85db",
   "metadata": {},
   "outputs": [],
   "source": [
    "# Create Phase Distribution Bins\n",
    "def Create_Bins(Min, Max, Bin_Width):\n",
    "    Bins = numpy.arange(Min, Max+Bin_Width, Bin_Width)\n",
    "    return (Bins)\n",
    "VLT_Bins = Create_Bins(-600,600,50)\n",
    "B_Bins = Create_Bins(-45,135,7.5)\n",
    "Bins_Bounds = numpy.array([-600,600,50,-45,135,7.5])"
   ]
  },
  {
   "cell_type": "code",
   "execution_count": 8,
   "id": "db3958d4-a4e4-4994-80c7-4ef8473fdfc7",
   "metadata": {},
   "outputs": [],
   "source": [
    "Num_Years = numpy.array([90,93,93])"
   ]
  },
  {
   "cell_type": "code",
   "execution_count": 9,
   "id": "4c1487ee-465a-4cde-8f9a-8f50b64587b8",
   "metadata": {},
   "outputs": [],
   "source": [
    "Control_Data, Control_ET, Control_Codes = Files_Open(\"Control\", Diri)\n",
    "RCP45_Data, RCP45_ET, RCP45_Codes = Files_Open(\"RCP45\", Diri)\n",
    "RCP85_Data, RCP85_ET, RCP85_Codes = Files_Open(\"RCP85\", Diri)"
   ]
  },
  {
   "cell_type": "code",
   "execution_count": null,
   "id": "818edfb6-7fe4-434a-9378-488c8cfb4903",
   "metadata": {},
   "outputs": [],
   "source": []
  },
  {
   "cell_type": "code",
   "execution_count": null,
   "id": "ffe69ca9-470b-4df1-a1a1-e1b443823483",
   "metadata": {},
   "outputs": [],
   "source": []
  },
  {
   "cell_type": "code",
   "execution_count": null,
   "id": "dd619f2f-566d-4b54-a05b-61003782b900",
   "metadata": {},
   "outputs": [],
   "source": []
  },
  {
   "cell_type": "code",
   "execution_count": 10,
   "id": "7abc55f5-1c77-4595-b95c-c8fbc6b07731",
   "metadata": {},
   "outputs": [],
   "source": [
    "# Create Function to Calculate Phase Space Distribution\n",
    "def Phase_Space_Distr(DF, VLT_Bins, B_Bins, Model, Rela):\n",
    "    Length = len(DF)\n",
    "    VLT_B_Count, VLT_VUT_Count = Phase_Space_Count(DF, Length, VLT_Bins, B_Bins, 0, 0, 0)\n",
    "#\n",
    "# Calculate Phase Space Density\n",
    "    if Rela == True:\n",
    "        VLT_B_Density = VLT_B_Count / Length * 1000\n",
    "        VLT_VUT_Density = VLT_VUT_Count / Length * 1000\n",
    "        return (VLT_B_Density, VLT_VUT_Density)\n",
    "#\n",
    "# Calculate Phase Space Annual\n",
    "    else:\n",
    "        if Model == \"Control\":\n",
    "            Num_Year = 90\n",
    "        else:\n",
    "            Num_Year = 93\n",
    "        VLT_B_Annual = VLT_B_Count / Num_Year\n",
    "        VLT_VUT_Annual = VLT_VUT_Count / Num_Year\n",
    "        return (VLT_B_Annual, VLT_VUT_Annual)"
   ]
  },
  {
   "cell_type": "code",
   "execution_count": 11,
   "id": "2cb13aa7-640c-44e7-82a1-e6bfcbe2fd1f",
   "metadata": {},
   "outputs": [],
   "source": [
    "# Count Phase Space Distribution\n",
    "def Phase_Space_Count(DF, Length, VLT_Bins, B_Bins, Param_VLT, Param_B, Param_VUT):\n",
    "    VLT_B_Count = numpy.zeros((len(B_Bins)-1, len(VLT_Bins)-1))\n",
    "    VLT_VUT_Count = numpy.zeros((len(VLT_Bins)-1, len(VLT_Bins)-1))\n",
    "    VLT_B_Length = 0\n",
    "    VLT_VUT_Length = 0\n",
    "    for i in range(len(DF[\"VLT\"])):\n",
    "        for j in range(len(VLT_Bins)-1):\n",
    "            if DF[\"VLT\"][i] >= VLT_Bins[j]-Param_VLT and DF[\"VLT\"][i] <= VLT_Bins[j+1]+Param_VLT:\n",
    "                for k in range(len(B_Bins)-1):\n",
    "                    if DF[\"B\"][i] >= B_Bins[k]-Param_B and DF[\"B\"][i] <= B_Bins[k+1]+Param_B:\n",
    "                        VLT_B_Count[k][j] += 1\n",
    "                        VLT_B_Length += 1\n",
    "                for l in range(len(VLT_Bins)-1):\n",
    "                    if DF[\"VUT\"][i] >= VLT_Bins[l]-Param_VUT and DF[\"VUT\"][i] <= VLT_Bins[l+1]+Param_VUT:\n",
    "                        VLT_VUT_Count[l][j] += 1\n",
    "                        VLT_VUT_Length += 1\n",
    "    VLT_B_Final = VLT_B_Count / VLT_B_Length * Length\n",
    "    VLT_VUT_Final = VLT_VUT_Count / VLT_VUT_Length * Length\n",
    "    return (VLT_B_Final, VLT_VUT_Final)"
   ]
  },
  {
   "cell_type": "code",
   "execution_count": 17,
   "id": "e396687d-4a22-42ea-9697-564d741cb1a5",
   "metadata": {},
   "outputs": [],
   "source": [
    "# Calculate Percentage of Points in Each Quadrant\n",
    "def Phase_Space_Quadrant(Density, Var, Rela):\n",
    "    if Rela == True:\n",
    "        Density = Density / 1000\n",
    "    y_Length = len(Density)\n",
    "    x_Length = len(Density[0])\n",
    "    x_Mid = int(x_Length / 2)\n",
    "    if Var == \"VUT\":\n",
    "        y_Mid = int(y_Length / 2)\n",
    "    elif Var == \"B\":\n",
    "        y_Mid = int(y_Length / 3)\n",
    "    Bottom_Half = Density[:y_Mid]\n",
    "    Top_Half = Density[y_Mid:]\n",
    "    Q1 = 0\n",
    "    Q2 = 0\n",
    "    Q3 = 0\n",
    "    Q4 = 0\n",
    "    for i in range(len(Bottom_Half)):\n",
    "        Bottom_Right = numpy.sum(Bottom_Half[i][x_Mid:])\n",
    "        Q4 += Bottom_Right\n",
    "        Bottom_Left = numpy.sum(Bottom_Half[i][:x_Mid])\n",
    "        Q3 += Bottom_Left\n",
    "    for j in range(len(Top_Half)):\n",
    "        Top_Right = numpy.sum(Top_Half[j][x_Mid:])\n",
    "        Q1 += Top_Right\n",
    "        Top_Left = numpy.sum(Top_Half[j][:x_Mid])\n",
    "        Q2 += Top_Left\n",
    "    return (numpy.array([Q1, Q2, Q3, Q4]))"
   ]
  },
  {
   "cell_type": "code",
   "execution_count": 13,
   "id": "65fc610b-3b16-4a0c-9d65-4d54030721d6",
   "metadata": {},
   "outputs": [],
   "source": [
    "# Create Function For Colours\n",
    "Distr_Colours = ['lightskyblue', 'deepskyblue', 'lightseagreen', \\\n",
    "'limegreen', 'greenyellow', 'yellow', 'orange', 'red']\n",
    "Rela_Distr_Bounds = numpy.array([0.0001,1,2,5,10,20,30,40])\n",
    "Annual_Distr_Bounds = numpy.array([0.0001,0.1,0.2,0.5,1,2,3,4])"
   ]
  },
  {
   "cell_type": "code",
   "execution_count": 14,
   "id": "5a47fd1d-e42a-4045-b849-49e57ecec85f",
   "metadata": {},
   "outputs": [],
   "source": [
    "# Plot Cyclone Phase Distribution\n",
    "def Phase_Distr_Plot(DF, Model, Rela, Smooth, Savefig, Figname):\n",
    "# Use Function to Calculate Distributions\n",
    "    if Smooth == False:\n",
    "        VLT_B, VLT_VUT = Phase_Space_Distr(DF, VLT_Bins, B_Bins, Model, Rela)\n",
    "#\n",
    "# Define Colours and Bounds\n",
    "    if Rela == True:\n",
    "        Bounds = Rela_Distr_Bounds\n",
    "        Colours = Distr_Colours\n",
    "    else:\n",
    "        Bounds = Annual_Distr_Bounds\n",
    "        Colours = Distr_Colours\n",
    "    Fig = pyplot.figure(figsize=(16,8))\n",
    "#\n",
    "# VLT B Distribution\n",
    "    Axis = Fig.add_subplot(1,2,1)\n",
    "    VLT_Vals = VLT_Bins[1:] - 25\n",
    "    B_Vals = B_Bins[1:] - 4.75\n",
    "    pyplot.contourf(VLT_Vals, B_Vals, VLT_B, levels=Bounds, colors=Colours, extend='max')\n",
    "    Phase_Distr_Formatting(\"B\", Model, Rela, Axis)\n",
    "# Add Quadrant Percent\n",
    "    Quadrant_Percent = Phase_Space_Quadrant(VLT_B, \"B\", Rela)\n",
    "    xloc = [0.88,0.12,0.12,0.88]\n",
    "    yloc = [0.88,0.88,0.12,0.12]\n",
    "    for q in range(len(Quadrant_Percent)):\n",
    "        if Rela == True:\n",
    "            Axis.text(xloc[q], yloc[q], str('%5.3f' % Quadrant_Percent[q]), ha='center', va='center', \\\n",
    "            transform=Axis.transAxes, fontdict={'size':28},color='black')\n",
    "        else:\n",
    "            Axis.text(xloc[q], yloc[q], str('%5.2f' % Quadrant_Percent[q]), ha='center', va='center', \\\n",
    "            transform=Axis.transAxes, fontdict={'size':28},color='black')\n",
    "#\n",
    "# VLT VUT Distribution\n",
    "    Axis = Fig.add_subplot(1,2,2)\n",
    "    VLT_Vals = VLT_Bins[1:] - 25\n",
    "    VUT_Vals = VLT_Bins[1:] - 25\n",
    "    pyplot.contourf(VLT_Vals, VUT_Vals, VLT_VUT, levels=Bounds, colors=Colours, extend='max')\n",
    "    Phase_Distr_Formatting(\"VUT\", Model, Rela, Axis)\n",
    "# Add Quadrant Percent\n",
    "    Quadrant_Percent = Phase_Space_Quadrant(VLT_VUT, \"VUT\", Rela)\n",
    "    xloc = [0.88,0.12,0.12,0.88]\n",
    "    yloc = [0.88,0.88,0.12,0.12]\n",
    "    for q in range(len(Quadrant_Percent)):\n",
    "        if Rela == True:\n",
    "            Axis.text(xloc[q], yloc[q], str('%5.3f' % Quadrant_Percent[q]), ha='center', va='center', \\\n",
    "            transform=Axis.transAxes, fontdict={'size':28},color='black')\n",
    "        else:\n",
    "            Axis.text(xloc[q], yloc[q], str('%5.2f' % Quadrant_Percent[q]), ha='center', va='center', \\\n",
    "            transform=Axis.transAxes, fontdict={'size':28},color='black')\n",
    "#\n",
    "# Colour Bar\n",
    "    if Rela == True:\n",
    "        Cbar_Label = 'Density (Per 1000 Data Points)'\n",
    "    else:\n",
    "        Cbar_Label = 'Density (Per Year)'\n",
    "    C_Map = mcolors.LinearSegmentedColormap.from_list(\"Density (10^-3)\", Colours, N=len(Colours))\n",
    "    Norm = mcolors.BoundaryNorm(Bounds, C_Map.N, extend='max')\n",
    "    Cax = Axis.inset_axes([-0.75, -0.15, 1.3, 0.05], transform=Axis.transAxes)\n",
    "    Fig.colorbar(ScalarMappable(cmap=C_Map, norm=Norm), orientation='horizontal', cax=Cax, \\\n",
    "    label=Cbar_Label, ticks=Bounds, shrink=0.7)\n",
    "#\n",
    "# Save Fig\n",
    "    if Savefig == True:\n",
    "        Fig.savefig(Output_Diri+Figname+'.png', bbox_inches='tight')"
   ]
  },
  {
   "cell_type": "code",
   "execution_count": 15,
   "id": "b014fa16-83bd-41b3-bead-eadd905d7240",
   "metadata": {},
   "outputs": [],
   "source": [
    "# Formatting For Cyclone Phase Distribution Plot\n",
    "def Phase_Distr_Formatting(y_Var, Model, Rela, Axis):\n",
    "    x_Axis = Create_Bins(Bins_Bounds[0],Bins_Bounds[1],100)\n",
    "    pyplot.xlim(Bins_Bounds[0],Bins_Bounds[1])\n",
    "    if y_Var == \"B\":\n",
    "        y_Axis = Create_Bins(Bins_Bounds[3],Bins_Bounds[4],15)\n",
    "        pyplot.ylim(Bins_Bounds[3],Bins_Bounds[4])\n",
    "        pyplot.plot([-1000,1000], [15,15], 'black', linewidth=0.5)\n",
    "        pyplot.plot([0,0], [-150,300], 'black', linewidth=0.5)\n",
    "    else:\n",
    "        y_Axis = Create_Bins(Bins_Bounds[0],Bins_Bounds[1],100)\n",
    "        pyplot.ylim(Bins_Bounds[0],Bins_Bounds[1])\n",
    "        pyplot.plot([-1000,1000], [0,0], 'black', linewidth=0.5)\n",
    "        pyplot.plot([0,0], [-1000,1000], 'black', linewidth=0.5)\n",
    "    Axis.set_xticks(x_Axis)\n",
    "    Axis.set_yticks(y_Axis)\n",
    "    pyplot.xlabel('VLT', fontsize=12)\n",
    "    pyplot.ylabel(y_Var, fontsize=12)\n",
    "    Gridline = Axis.grid(linewidth=0.3, color='silver', linestyle='-')\n",
    "    if Rela == True:\n",
    "        pyplot.title(str(Model + ' (Relative)'), fontsize=18)\n",
    "    else:\n",
    "        pyplot.title(str(Model + ' (Annual)'), fontsize=18)"
   ]
  },
  {
   "cell_type": "code",
   "execution_count": null,
   "id": "0e162b5e-8389-4a84-898a-35a5c4c7dc23",
   "metadata": {},
   "outputs": [],
   "source": []
  },
  {
   "cell_type": "code",
   "execution_count": null,
   "id": "778d510f-812c-4583-95e5-aadddc10bea2",
   "metadata": {},
   "outputs": [],
   "source": []
  },
  {
   "cell_type": "code",
   "execution_count": null,
   "id": "dcf09e41-e42a-4a1b-a49c-2a82507105ce",
   "metadata": {},
   "outputs": [],
   "source": []
  },
  {
   "cell_type": "code",
   "execution_count": 18,
   "id": "35d5ab76-0438-45b3-b0d1-3e514258e73a",
   "metadata": {},
   "outputs": [
    {
     "data": {
      "image/png": "[encoded data removed]",
      "text/plain": [
       "<Figure size 1600x800 with 2 Axes>"
      ]
     },
     "metadata": {},
     "output_type": "display_data"
    }
   ],
   "source": [
    "# Plot Relative Phase Space Distribution For Control Run\n",
    "Fig = Phase_Distr_Plot(Control_Data, \"Control\", True, False, True, \"Control_Phase_Distr_Rela\")"
   ]
  },
  {
   "cell_type": "code",
   "execution_count": null,
   "id": "1393f891-bca7-4808-9384-49c9d8b75740",
   "metadata": {},
   "outputs": [],
   "source": [
    "# Plot Relative Phase Space Distribution For RCP4.5 Run\n",
    "Fig = Phase_Distr_Plot(RCP45_Data, \"RCP4.5\", True, False, True, \"RCP45_Phase_Distr_Rela\")"
   ]
  },
  {
   "cell_type": "code",
   "execution_count": null,
   "id": "3c5b4d53-3828-4cd4-b5b2-a0a4870a9565",
   "metadata": {},
   "outputs": [],
   "source": [
    "# Plot Relative Phase Space Distribution For RCP8.5 Run\n",
    "Fig = Phase_Distr_Plot(RCP85_Data, \"RCP8.5\", True, False, True, \"RCP85_Phase_Distr_Rela\")"
   ]
  },
  {
   "cell_type": "code",
   "execution_count": null,
   "id": "c189bc16-bb46-46fe-816b-be236c0abb6e",
   "metadata": {},
   "outputs": [],
   "source": []
  },
  {
   "cell_type": "code",
   "execution_count": null,
   "id": "6aa2eb20-9cd3-42f8-8d66-668007dc06d3",
   "metadata": {},
   "outputs": [],
   "source": [
    "# Plot Annual Phase Space Distribution For Control Run\n",
    "Fig = Phase_Distr_Plot(Control_Data, \"Control\", False, False, True, \"Control_Phase_Distr_Annual\")"
   ]
  },
  {
   "cell_type": "code",
   "execution_count": null,
   "id": "934c9644-980a-4c9e-9a04-18db0e49b2d7",
   "metadata": {},
   "outputs": [],
   "source": [
    "# Plot Annual Phase Space Distribution For RCP4.5 Run\n",
    "Fig = Phase_Distr_Plot(RCP45_Data, \"RCP4.5\", False, False, True, \"RCP45_Phase_Distr_Annual\")"
   ]
  },
  {
   "cell_type": "code",
   "execution_count": null,
   "id": "aa04e20c-21f0-4509-b2da-655c62f9a343",
   "metadata": {},
   "outputs": [],
   "source": [
    "# Plot Annual Phase Space Distribution For RCP8.5 Run\n",
    "Fig = Phase_Distr_Plot(RCP85_Data, \"RCP8.5\", False, False, True, \"RCP85_Phase_Distr_Annual\")"
   ]
  },
  {
   "cell_type": "code",
   "execution_count": null,
   "id": "4675b304-bc0d-4833-ae07-edfdf9f3172d",
   "metadata": {},
   "outputs": [],
   "source": []
  },
  {
   "cell_type": "code",
   "execution_count": null,
   "id": "0219f6bf-641a-4551-b642-86abe96f56e6",
   "metadata": {},
   "outputs": [],
   "source": []
  },
  {
   "cell_type": "code",
   "execution_count": null,
   "id": "d7f25857-3144-4b43-8665-c0cc4fff9a5d",
   "metadata": {},
   "outputs": [],
   "source": []
  },
  {
   "cell_type": "code",
   "execution_count": null,
   "id": "fbec7227-1aec-48b5-beb6-c8c01cf6e209",
   "metadata": {},
   "outputs": [],
   "source": [
    "# Calculate Difference Between Models\n",
    "def Phase_Space_Diff(DF_1, DF_2, Model_1, Model_2, Rela, Smooth):\n",
    "    if Smooth == False:\n",
    "        VLT_B_1, VLT_VUT_1 = Phase_Space_Distr(DF_1, VLT_Bins, B_Bins, Model_1, Rela)\n",
    "        VLT_B_2, VLT_VUT_2 = Phase_Space_Distr(DF_2, VLT_Bins, B_Bins, Model_2, Rela)\n",
    "    else:\n",
    "        VLT_B_1, VLT_VUT_1 = Phase_Space_Distr_Smooth(DF_1, VLT_Bins, B_Bins, Model_1, Rela)\n",
    "        VLT_B_2, VLT_VUT_2 = Phase_Space_Distr_Smooth(DF_2, VLT_Bins, B_Bins, Model_2, Rela)\n",
    "    VLT_B_Diff = VLT_B_1 - VLT_B_2\n",
    "    VLT_VUT_Diff = VLT_VUT_1 - VLT_VUT_2\n",
    "    VLT_B_Quadrant_Percent = Phase_Space_Quadrant(VLT_B_1, \"B\", Rela) - Phase_Space_Quadrant(VLT_B_2, \"B\", Rela)\n",
    "    VLT_VUT_Quadrant_Percent = Phase_Space_Quadrant(VLT_VUT_1, \"VUT\", Rela) - Phase_Space_Quadrant(VLT_VUT_2, \"VUT\", Rela)\n",
    "    return (VLT_B_Diff, VLT_VUT_Diff, VLT_B_Quadrant_Percent, VLT_VUT_Quadrant_Percent)"
   ]
  },
  {
   "cell_type": "code",
   "execution_count": null,
   "id": "6b08c858-1a29-4315-a60c-e9e698ae4b9d",
   "metadata": {},
   "outputs": [],
   "source": [
    "# Create Function of Colours of Cyclone Phase Difference Plots\n",
    "Diff_Colours = ['mediumblue', 'deepskyblue', 'cyan', 'lawngreen', 'white', 'lawngreen', \\\n",
    "'gold', 'darkorange', 'red']\n",
    "Rela_Diff_Bounds = numpy.array([-6,-4,-2,-0.0001,0.0001,2,4,6])\n",
    "Annual_Diff_Bounds = numpy.array([-3,-2,-1,-0.0001,0.0001,1,2,3])"
   ]
  },
  {
   "cell_type": "code",
   "execution_count": null,
   "id": "63e06167-fcc8-40b3-ae59-a922dfe262aa",
   "metadata": {},
   "outputs": [],
   "source": [
    "# Plot Cyclone Phase Distribution Difference Between ERA and REA\n",
    "def Phase_Diff_Plot(Model_1, Model_2, DF_1, DF_2, Rela, Smooth, Savefig, Figname):\n",
    "    VLT_B_Diff, VLT_VUT_Diff, VLT_B_Quadrant_Percent, VLT_VUT_Quadrant_Percent = \\\n",
    "    Phase_Space_Diff(DF_1, DF_2, Model_1, Model_2, Rela, Smooth)\n",
    "#\n",
    "# Define Colours and Bounds\n",
    "    if Rela == True:\n",
    "        Diff_Bounds = Rela_Diff_Bounds\n",
    "    else:\n",
    "        Diff_Bounds = Annual_Diff_Bounds\n",
    "    Fig = pyplot.figure(figsize=(16,8))\n",
    "#\n",
    "# VLT B Distribution\n",
    "    Axis = Fig.add_subplot(1,2,1)\n",
    "    VLT_Vals = VLT_Bins[1:] - 25\n",
    "    B_Vals = B_Bins[1:] - 4.75\n",
    "    pyplot.contourf(VLT_Vals, B_Vals, VLT_B_Diff, levels=Diff_Bounds, colors=Diff_Colours, extend='both')\n",
    "    Phase_Diff_Formatting(\"B\", Model_1, Model_2, Rela, Axis)\n",
    "# Add Quadrant Percent\n",
    "    xloc = [0.88,0.12,0.12,0.88]\n",
    "    yloc = [0.88,0.88,0.12,0.12]\n",
    "    for q in range(len(VLT_B_Quadrant_Percent)):\n",
    "        if Rela == True:\n",
    "            Axis.text(xloc[q], yloc[q], str('%5.3f' % VLT_B_Quadrant_Percent[q]), ha='center', va='center', \\\n",
    "            transform=Axis.transAxes, fontdict={'size':28},color='black')\n",
    "        else:\n",
    "            Axis.text(xloc[q], yloc[q], str('%5.2f' % VLT_B_Quadrant_Percent[q]), ha='center', va='center', \\\n",
    "            transform=Axis.transAxes, fontdict={'size':28},color='black')\n",
    "#\n",
    "# VLT VUT Distribution\n",
    "    Axis = Fig.add_subplot(1,2,2)\n",
    "    VLT_Vals = VLT_Bins[1:] - 25\n",
    "    VUT_Vals = VLT_Bins[1:] - 25\n",
    "    pyplot.contourf(VLT_Vals, VUT_Vals, VLT_VUT_Diff, levels=Diff_Bounds, colors=Diff_Colours, extend='both')\n",
    "    Phase_Diff_Formatting(\"VUT\", Model_1, Model_2, Rela, Axis)\n",
    "# Add Quadrant Percent\n",
    "    xloc = [0.88,0.12,0.12,0.88]\n",
    "    yloc = [0.88,0.88,0.12,0.12]\n",
    "    for q in range(len(VLT_VUT_Quadrant_Percent)):\n",
    "        if Rela == True:\n",
    "            Axis.text(xloc[q], yloc[q], str('%5.3f' % VLT_VUT_Quadrant_Percent[q]), ha='center', va='center', \\\n",
    "            transform=Axis.transAxes, fontdict={'size':28},color='black')\n",
    "        else:\n",
    "            Axis.text(xloc[q], yloc[q], str('%5.2f' % VLT_VUT_Quadrant_Percent[q]), ha='center', va='center', \\\n",
    "            transform=Axis.transAxes, fontdict={'size':28},color='black')\n",
    "#\n",
    "# Colour Bar\n",
    "    if Rela == True:\n",
    "        Cbar_Label = 'Density Difference (Per 1000 Data Points)'\n",
    "    else:\n",
    "        Cbar_Label = 'Density Difference (Per Year)'\n",
    "    C_Map = mcolors.LinearSegmentedColormap.from_list(\"Density (10^-3)\", Diff_Colours, N=len(Diff_Colours))\n",
    "    Norm = mcolors.BoundaryNorm(Diff_Bounds, C_Map.N, extend='both')\n",
    "    Cax = Axis.inset_axes([-0.75, -0.15, 1.3, 0.05], transform=Axis.transAxes)\n",
    "    Fig.colorbar(ScalarMappable(cmap=C_Map, norm=Norm), orientation='horizontal', cax=Cax, spacing='proportional', \\\n",
    "    label=Cbar_Label, ticks=Diff_Bounds, shrink=0.7)\n",
    "#\n",
    "# Save Fig\n",
    "    if Savefig == True:\n",
    "        Fig.savefig(Output_Diri+Figname+'.png', bbox_inches='tight')"
   ]
  },
  {
   "cell_type": "code",
   "execution_count": null,
   "id": "5313280a-601d-42a2-95cc-88e910d8488a",
   "metadata": {},
   "outputs": [],
   "source": [
    "# Formatting For Cyclone Phase Difference Plot\n",
    "def Phase_Diff_Formatting(y_Var, Model_1, Model_2, Rela, Axis):\n",
    "    x_Axis = Create_Bins(Bins_Bounds[0],Bins_Bounds[1],100)\n",
    "    pyplot.xlim(Bins_Bounds[0],Bins_Bounds[1])\n",
    "    if y_Var == \"B\":\n",
    "        y_Axis = Create_Bins(Bins_Bounds[3],Bins_Bounds[4],15)\n",
    "        pyplot.ylim(Bins_Bounds[3],Bins_Bounds[4])\n",
    "        pyplot.plot([-1000,1000], [15,15], 'black', linewidth=0.5)\n",
    "        pyplot.plot([0,0], [-150,300], 'black', linewidth=0.5)\n",
    "    else:\n",
    "        y_Axis = Create_Bins(Bins_Bounds[0],Bins_Bounds[1],100)\n",
    "        pyplot.ylim(Bins_Bounds[0],Bins_Bounds[1])\n",
    "        pyplot.plot([-1000,1000], [0,0], 'black', linewidth=0.5)\n",
    "        pyplot.plot([0,0], [-1000,1000], 'black', linewidth=0.5)\n",
    "    Axis.set_xticks(x_Axis)\n",
    "    Axis.set_yticks(y_Axis)\n",
    "    pyplot.xlabel('VLT', fontsize=12)\n",
    "    pyplot.ylabel(y_Var, fontsize=12)\n",
    "    Gridline = Axis.grid(linewidth=0.3, color='silver', linestyle='-')\n",
    "    if Rela == True:\n",
    "        pyplot.title(str(Model_1 + ' - ' + Model_2 + ' (Relative)'), fontsize=18)\n",
    "    else:\n",
    "        pyplot.title(str(Model_1 + ' - ' + Model_2 + ' (Annual)'), fontsize=18)"
   ]
  },
  {
   "cell_type": "code",
   "execution_count": null,
   "id": "cfe0353e-d73b-42a7-b455-e4cd48a8dc1a",
   "metadata": {},
   "outputs": [],
   "source": []
  },
  {
   "cell_type": "code",
   "execution_count": null,
   "id": "8ef02ab4-e70d-4b38-8f29-56b10f8ca9d6",
   "metadata": {},
   "outputs": [],
   "source": []
  },
  {
   "cell_type": "code",
   "execution_count": null,
   "id": "07e0bd21-c089-4d40-b24e-4491d6f13360",
   "metadata": {},
   "outputs": [],
   "source": []
  },
  {
   "cell_type": "code",
   "execution_count": null,
   "id": "6dc91944-01e0-40f4-b59a-92081bc65190",
   "metadata": {},
   "outputs": [],
   "source": [
    "# Plot Relative Difference Between Phase Space Distributions of RCP4.5 - Control\n",
    "Phase_Diff_Plot(\"RCP4.5\", \"Control\", RCP45_Data, Control_Data, \\\n",
    "True, False, True, \"RCP45-Control_Phase_Diff_Rela\")"
   ]
  },
  {
   "cell_type": "code",
   "execution_count": null,
   "id": "b302fac2-4cbb-4b48-b577-e9aef4b7c1ba",
   "metadata": {},
   "outputs": [],
   "source": [
    "# Plot Relative Difference Between Phase Space Distributions of RCP8.5 - Control\n",
    "Phase_Diff_Plot(\"RCP8.5\", \"Control\", RCP85_Data, Control_Data, \\\n",
    "True, False, True, \"RCP85-Control_Phase_Diff_Rela\")"
   ]
  },
  {
   "cell_type": "code",
   "execution_count": null,
   "id": "1b4aba53-7a4d-4e11-a233-d26c5d23c62f",
   "metadata": {},
   "outputs": [],
   "source": [
    "# Plot Relative Difference Between Phase Space Distributions of RCP8.5 - RCP4.5\n",
    "Phase_Diff_Plot(\"RCP8.5\", \"RCP4.5\", RCP85_Data, RCP45_Data, \\\n",
    "True, False, True, \"RCP85-RCP45_Phase_Diff_Rela\")"
   ]
  },
  {
   "cell_type": "code",
   "execution_count": null,
   "id": "adace0d0-55a4-4407-b79c-0e890739f128",
   "metadata": {},
   "outputs": [],
   "source": []
  },
  {
   "cell_type": "code",
   "execution_count": null,
   "id": "0164d306-9319-460c-8c44-b1d6cc46440a",
   "metadata": {},
   "outputs": [],
   "source": [
    "# Plot Annual Difference Between Phase Space Distributions of RCP4.5 - Control\n",
    "Phase_Diff_Plot(\"RCP4.5\", \"Control\", RCP45_Data, Control_Data, \\\n",
    "False, False, True, \"RCP45-Control_Phase_Diff_Annual\")"
   ]
  },
  {
   "cell_type": "code",
   "execution_count": null,
   "id": "e7f8c640-1315-4e9e-beb6-eb9314ed933e",
   "metadata": {},
   "outputs": [],
   "source": [
    "# Plot Annual Difference Between Phase Space Distributions of RCP8.5 - Control\n",
    "Phase_Diff_Plot(\"RCP8.5\", \"Control\", RCP85_Data, Control_Data, \\\n",
    "False, False, True, \"RCP85-Control_Phase_Diff_Annual\")"
   ]
  },
  {
   "cell_type": "code",
   "execution_count": null,
   "id": "3050e798-9909-4024-ad0e-00c2266d0013",
   "metadata": {},
   "outputs": [],
   "source": [
    "# Plot Annual Difference Between Phase Space Distributions of RCP8.5 - RCP4.5\n",
    "Phase_Diff_Plot(\"RCP8.5\", \"RCP4.5\", RCP85_Data, RCP45_Data, \\\n",
    "False, False, True, \"RCP85-RCP45_Phase_Diff_Annual\")"
   ]
  },
  {
   "cell_type": "code",
   "execution_count": null,
   "id": "0296de73-0c9b-47f3-8b09-7a07795336a1",
   "metadata": {},
   "outputs": [],
   "source": []
  },
  {
   "cell_type": "code",
   "execution_count": null,
   "id": "f50223af-ab48-4c4f-9354-18f441527711",
   "metadata": {},
   "outputs": [],
   "source": []
  },
  {
   "cell_type": "code",
   "execution_count": null,
   "id": "c3e9d450-963c-4a33-a84e-31ef626294c4",
   "metadata": {},
   "outputs": [],
   "source": []
  },
  {
   "cell_type": "code",
   "execution_count": null,
   "id": "8f45560b-4981-470b-a8d8-1d49a083e328",
   "metadata": {},
   "outputs": [],
   "source": [
    "# Create Subset of Data: Below 980hPa\n",
    "Control_980hPa = Control_Data[Control_Data[\"SLP(hPa)\"] <= 980].reset_index()\n",
    "RCP45_980hPa = RCP45_Data[RCP45_Data[\"SLP(hPa)\"] <= 980].reset_index()\n",
    "RCP85_980hPa = RCP85_Data[RCP85_Data[\"SLP(hPa)\"] <= 980].reset_index()"
   ]
  },
  {
   "cell_type": "code",
   "execution_count": null,
   "id": "1497e653-080f-4faa-b239-8021994611e5",
   "metadata": {},
   "outputs": [],
   "source": [
    "# Plot Relative Phase Space Distribution For Control Run\n",
    "Fig = Phase_Distr_Plot(Control_980hPa, \"Control\", True, False, True, \\\n",
    "\"Control_Phase_Distr_980hPa\")"
   ]
  },
  {
   "cell_type": "code",
   "execution_count": null,
   "id": "7d968bca-3742-4a90-8d51-cce20034dba2",
   "metadata": {},
   "outputs": [],
   "source": [
    "# Plot Relative Phase Space Distribution For RCP4.5 Run\n",
    "Fig = Phase_Distr_Plot(RCP45_980hPa, \"RCP4.5\", True, False, True, \\\n",
    "\"RCP45_Phase_Distr_980hPa\")"
   ]
  },
  {
   "cell_type": "code",
   "execution_count": null,
   "id": "39116186-7c9c-45ab-b145-28226f5e3483",
   "metadata": {},
   "outputs": [],
   "source": [
    "# Plot Relative Phase Space Distribution For RCP8.5 Run\n",
    "Fig = Phase_Distr_Plot(RCP85_980hPa, \"RCP8.5\", True, False, True, \\\n",
    "\"RCP85_Phase_Distr_980hPa\")"
   ]
  },
  {
   "cell_type": "code",
   "execution_count": null,
   "id": "c6c58a8d-b0c9-4d5e-806a-0ce266ec36cf",
   "metadata": {},
   "outputs": [],
   "source": [
    "# Plot Relative Difference Between Phase Space Distributions of RCP4.5 - Control\n",
    "Phase_Diff_Plot(\"RCP4.5\", \"Control\", RCP45_980hPa, Control_980hPa, \\\n",
    "True, False, True, \"RCP45-Control_Phase_Diff_980hPa\")"
   ]
  },
  {
   "cell_type": "code",
   "execution_count": null,
   "id": "95b3ea62-aadc-4783-b2c5-074ea664d6e1",
   "metadata": {},
   "outputs": [],
   "source": [
    "# Plot Relative Difference Between Phase Space Distributions of RCP8.5 - Control\n",
    "Phase_Diff_Plot(\"RCP8.5\", \"Control\", RCP85_980hPa, Control_980hPa, \\\n",
    "True, False, True, \"RCP85-Control_Phase_Diff_980hPa\")"
   ]
  },
  {
   "cell_type": "code",
   "execution_count": null,
   "id": "fcbf669f-2293-41d1-87b1-8f651f102ad3",
   "metadata": {},
   "outputs": [],
   "source": []
  },
  {
   "cell_type": "code",
   "execution_count": null,
   "id": "98182091-8798-4937-a32e-6c7f71bb1cc8",
   "metadata": {},
   "outputs": [],
   "source": []
  },
  {
   "cell_type": "code",
   "execution_count": null,
   "id": "3ddea3e2-5750-41c8-83cb-47b3f4a0dcab",
   "metadata": {},
   "outputs": [],
   "source": []
  }
 ],
 "metadata": {
  "kernelspec": {
   "display_name": "NPL 2023b",
   "language": "python",
   "name": "npl-2023b"
  },
  "language_info": {
   "codemirror_mode": {
    "name": "ipython",
    "version": 3
   },
   "file_extension": ".py",
   "mimetype": "text/x-python",
   "name": "python",
   "nbconvert_exporter": "python",
   "pygments_lexer": "ipython3",
   "version": "3.10.12"
  }
 },
 "nbformat": 4,
 "nbformat_minor": 5
}
