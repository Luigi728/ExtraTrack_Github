{
 "cells": [
  {
   "cell_type": "code",
   "execution_count": 1,
   "id": "49b3038d-c7d0-49f1-9f66-0d8c92d3445f",
   "metadata": {},
   "outputs": [
    {
     "name": "stdout",
     "output_type": "stream",
     "text": [
      "\n",
      "## You are using the Python ARM Radar Toolkit (Py-ART), an open source\n",
      "## library for working with weather radar data. Py-ART is partly\n",
      "## supported by the U.S. Department of Energy as part of the Atmospheric\n",
      "## Radiation Measurement (ARM) Climate Research Facility, an Office of\n",
      "## Science user facility.\n",
      "##\n",
      "## If you use this software to prepare a publication, please cite:\n",
      "##\n",
      "##     JJ Helmus and SM Collis, JORS 2016, doi: 10.5334/jors.119\n",
      "\n"
     ]
    }
   ],
   "source": [
    "import cartopy.crs as ccrs\n",
    "import cartopy.feature as cfeature\n",
    "from cartopy.mpl.gridliner import LATITUDE_FORMATTER, LONGITUDE_FORMATTER\n",
    "import cftime\n",
    "import datetime\n",
    "from datetime import date\n",
    "import fsspec\n",
    "import glob\n",
    "import holoviews as hv\n",
    "import hvplot.xarray\n",
    "from matplotlib import pyplot\n",
    "from matplotlib import colormaps\n",
    "from matplotlib import colors\n",
    "from matplotlib import font_manager\n",
    "from matplotlib.cm import ScalarMappable\n",
    "import matplotlib.colors as mcolors\n",
    "import matplotlib.dates as mdates\n",
    "import matplotlib.lines as mlines\n",
    "import matplotlib.patches as mpatches\n",
    "import matplotlib.ticker as mticker\n",
    "from metpy.plots import USCOUNTIES\n",
    "import numpy\n",
    "import open_radar_data\n",
    "from open_radar_data import DATASETS\n",
    "import panel\n",
    "import pandas\n",
    "from PIL import Image\n",
    "import pyart\n",
    "import random\n",
    "import xarray as xr\n",
    "import xradar as xd"
   ]
  },
  {
   "cell_type": "code",
   "execution_count": 2,
   "id": "42f5da94-339a-445d-ad62-09ebcfae645a",
   "metadata": {},
   "outputs": [
    {
     "name": "stdout",
     "output_type": "stream",
     "text": [
      "295.7573092090146\n",
      "1.47\n"
     ]
    }
   ],
   "source": [
    "# Q1\n",
    "a = 720 * 8000 / (4.1 ** 7)\n",
    "b = 0.21 * 7\n",
    "print (a)\n",
    "print (b)"
   ]
  },
  {
   "cell_type": "code",
   "execution_count": 3,
   "id": "9a1704e2-455b-4174-b965-c3863c35a017",
   "metadata": {},
   "outputs": [
    {
     "name": "stdout",
     "output_type": "stream",
     "text": [
      "2.4712917110589387\n",
      "1.6811508238496182\n",
      "0.06802721088435375\n"
     ]
    }
   ],
   "source": [
    "# Q2\n",
    "c = numpy.log10(296)\n",
    "d = c / 1.47\n",
    "g = 0.1 / 1.47\n",
    "print (c)\n",
    "print (d)\n",
    "print (g)"
   ]
  },
  {
   "cell_type": "code",
   "execution_count": 4,
   "id": "a6971dc7-fee6-40fa-aa49-814d00011498",
   "metadata": {},
   "outputs": [
    {
     "name": "stdout",
     "output_type": "stream",
     "text": [
      "0.4779620265237716\n"
     ]
    }
   ],
   "source": [
    "# Q3\n",
    "dBZ = 20\n",
    "R = 10 ** (g * dBZ - d)\n",
    "print (R)"
   ]
  },
  {
   "cell_type": "code",
   "execution_count": 5,
   "id": "8ead2a77-5b55-4ab9-b9c7-960a2cef8965",
   "metadata": {},
   "outputs": [
    {
     "name": "stdout",
     "output_type": "stream",
     "text": [
      "52.506095044411175\n"
     ]
    }
   ],
   "source": [
    "# Q3\n",
    "dBZ = 50\n",
    "R = 10 ** (g * dBZ - d)\n",
    "print (R)"
   ]
  },
  {
   "cell_type": "code",
   "execution_count": 6,
   "id": "e9548870-d549-4e0d-ad34-406b1705e500",
   "metadata": {},
   "outputs": [],
   "source": [
    "R = 10 ** (g * dBZ - d)"
   ]
  },
  {
   "cell_type": "code",
   "execution_count": null,
   "id": "95db11df-8154-4307-b7ea-cf442b5e54d2",
   "metadata": {},
   "outputs": [],
   "source": []
  },
  {
   "cell_type": "code",
   "execution_count": null,
   "id": "fa97d8c6-307c-4497-93a3-700a1c15031a",
   "metadata": {},
   "outputs": [],
   "source": []
  },
  {
   "cell_type": "code",
   "execution_count": null,
   "id": "c80b85ea-ab33-4c36-9b87-3d2dfd306448",
   "metadata": {},
   "outputs": [],
   "source": []
  },
  {
   "cell_type": "code",
   "execution_count": null,
   "id": "e75d0adf-3bb3-4a5d-b172-030c4724e853",
   "metadata": {},
   "outputs": [],
   "source": [
    "# Q4\n",
    "Reflectivity_File = DATASETS.fetch(\"Z__C_RJTD_20230801200000_RDR_JMAGPV_RS47937_Gar0p250km0p35deg_PRref_N11_ANAL_cfrad.nc\")\n",
    "ZDR_File = DATASETS.fetch(\"Z__C_RJTD_20230801200000_RDR_JMAGPV_RS47937_Gar0p250km0p35deg_PRzdr_N11_ANAL_cfrad.nc\")\n",
    "KDP_File = DATASETS.fetch(\"Z__C_RJTD_20230801200000_RDR_JMAGPV_RS47937_Gar0p250km0p35deg_PRkdp_N11_ANAL_cfrad.nc\")"
   ]
  }
 ],
 "metadata": {
  "kernelspec": {
   "display_name": "NPL 2023b",
   "language": "python",
   "name": "npl-2023b"
  },
  "language_info": {
   "codemirror_mode": {
    "name": "ipython",
    "version": 3
   },
   "file_extension": ".py",
   "mimetype": "text/x-python",
   "name": "python",
   "nbconvert_exporter": "python",
   "pygments_lexer": "ipython3",
   "version": "3.10.12"
  }
 },
 "nbformat": 4,
 "nbformat_minor": 5
}
