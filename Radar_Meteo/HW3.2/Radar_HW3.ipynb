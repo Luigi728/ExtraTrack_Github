{
 "cells": [
  {
   "cell_type": "code",
   "execution_count": 9,
   "id": "49b3038d-c7d0-49f1-9f66-0d8c92d3445f",
   "metadata": {},
   "outputs": [],
   "source": [
    "import cartopy.crs as ccrs\n",
    "import cartopy.feature as cfeature\n",
    "from cartopy.mpl.gridliner import LATITUDE_FORMATTER, LONGITUDE_FORMATTER\n",
    "import cftime\n",
    "import datetime\n",
    "from datetime import date\n",
    "import fsspec\n",
    "import glob\n",
    "import holoviews as hv\n",
    "import hvplot.xarray\n",
    "from matplotlib import pyplot\n",
    "from matplotlib import colormaps\n",
    "from matplotlib import colors\n",
    "from matplotlib import font_manager\n",
    "from matplotlib.cm import ScalarMappable\n",
    "import matplotlib.colors as mcolors\n",
    "import matplotlib.dates as mdates\n",
    "import matplotlib.lines as mlines\n",
    "import matplotlib.patches as mpatches\n",
    "import matplotlib.ticker as mticker\n",
    "from metpy.plots import USCOUNTIES\n",
    "import numpy\n",
    "from open_radar_data import DATASETS\n",
    "import pandas\n",
    "import panel\n",
    "from PIL import Image\n",
    "import pyart\n",
    "import random\n",
    "import xarray as xr\n",
    "import xradar as xd"
   ]
  },
  {
   "cell_type": "code",
   "execution_count": 2,
   "id": "42f5da94-339a-445d-ad62-09ebcfae645a",
   "metadata": {},
   "outputs": [
    {
     "name": "stdout",
     "output_type": "stream",
     "text": [
      "295.7573092090146\n",
      "1.47\n"
     ]
    }
   ],
   "source": [
    "# Q1\n",
    "a = 720 * 8000 / (4.1 ** 7)\n",
    "b = 0.21 * 7\n",
    "print (a)\n",
    "print (b)"
   ]
  },
  {
   "cell_type": "code",
   "execution_count": 3,
   "id": "9a1704e2-455b-4174-b965-c3863c35a017",
   "metadata": {},
   "outputs": [
    {
     "name": "stdout",
     "output_type": "stream",
     "text": [
      "2.4712917110589387\n",
      "1.6811508238496182\n",
      "0.06802721088435375\n"
     ]
    }
   ],
   "source": [
    "# Q2\n",
    "c = numpy.log10(296)\n",
    "d = c / 1.47\n",
    "g = 0.1 / 1.47\n",
    "print (c)\n",
    "print (d)\n",
    "print (g)"
   ]
  },
  {
   "cell_type": "code",
   "execution_count": 4,
   "id": "a6971dc7-fee6-40fa-aa49-814d00011498",
   "metadata": {},
   "outputs": [
    {
     "name": "stdout",
     "output_type": "stream",
     "text": [
      "0.4779620265237716\n"
     ]
    }
   ],
   "source": [
    "# Q3\n",
    "dBZ = 20\n",
    "R = 10 ** (g * dBZ - d)\n",
    "print (R)"
   ]
  },
  {
   "cell_type": "code",
   "execution_count": 5,
   "id": "8ead2a77-5b55-4ab9-b9c7-960a2cef8965",
   "metadata": {},
   "outputs": [
    {
     "name": "stdout",
     "output_type": "stream",
     "text": [
      "52.506095044411175\n"
     ]
    }
   ],
   "source": [
    "# Q3\n",
    "dBZ = 50\n",
    "R = 10 ** (g * dBZ - d)\n",
    "print (R)"
   ]
  },
  {
   "cell_type": "code",
   "execution_count": 6,
   "id": "e9548870-d549-4e0d-ad34-406b1705e500",
   "metadata": {},
   "outputs": [],
   "source": [
    "R = 10 ** (g * dBZ - d)"
   ]
  },
  {
   "cell_type": "code",
   "execution_count": null,
   "id": "95db11df-8154-4307-b7ea-cf442b5e54d2",
   "metadata": {},
   "outputs": [],
   "source": []
  },
  {
   "cell_type": "code",
   "execution_count": null,
   "id": "fa97d8c6-307c-4497-93a3-700a1c15031a",
   "metadata": {},
   "outputs": [],
   "source": []
  },
  {
   "cell_type": "code",
   "execution_count": null,
   "id": "c80b85ea-ab33-4c36-9b87-3d2dfd306448",
   "metadata": {},
   "outputs": [],
   "source": []
  },
  {
   "cell_type": "code",
   "execution_count": 13,
   "id": "e75d0adf-3bb3-4a5d-b172-030c4724e853",
   "metadata": {},
   "outputs": [
    {
     "ename": "ValueError",
     "evalue": "File 'Z__C_RJTD_20230801200000_RDR_JMAGPV_RS47937_Gar0p250km0p35deg_PRzdr_N11_ANAL_cfrad.nc' is not in the registry.",
     "output_type": "error",
     "traceback": [
      "\u001b[0;31m---------------------------------------------------------------------------\u001b[0m",
      "\u001b[0;31mValueError\u001b[0m                                Traceback (most recent call last)",
      "Cell \u001b[0;32mIn[13], line 3\u001b[0m\n\u001b[1;32m      1\u001b[0m \u001b[38;5;66;03m# Q4\u001b[39;00m\n\u001b[1;32m      2\u001b[0m \u001b[38;5;66;03m#Reflectivity_File = DATASETS.fetch(\"Z__C_RJTD_20230801200000_RDR_JMAGPV_RS47937_Gar0p250km0p70deg_PRref_N18_ANAL_cfrad.nc\")\u001b[39;00m\n\u001b[0;32m----> 3\u001b[0m zdr_File \u001b[38;5;241m=\u001b[39m \u001b[43mDATASETS\u001b[49m\u001b[38;5;241;43m.\u001b[39;49m\u001b[43mfetch\u001b[49m\u001b[43m(\u001b[49m\u001b[38;5;124;43m\"\u001b[39;49m\u001b[38;5;124;43mZ__C_RJTD_20230801200000_RDR_JMAGPV_RS47937_Gar0p250km0p35deg_PRzdr_N11_ANAL_cfrad.nc\u001b[39;49m\u001b[38;5;124;43m\"\u001b[39;49m\u001b[43m)\u001b[49m\n\u001b[1;32m      4\u001b[0m kdp_file \u001b[38;5;241m=\u001b[39m DATASETS\u001b[38;5;241m.\u001b[39mfetch(\u001b[38;5;124m\"\u001b[39m\u001b[38;5;124mZ__C_RJTD_20230801200000_RDR_JMAGPV_RS47937_Gar0p250km0p35deg_PRkdp_N11_ANAL_cfrad.nc\u001b[39m\u001b[38;5;124m\"\u001b[39m)\n",
      "File \u001b[0;32m/glade/u/apps/opt/conda/envs/npl-2023b/lib/python3.10/site-packages/pooch/core.py:561\u001b[0m, in \u001b[0;36mPooch.fetch\u001b[0;34m(self, fname, processor, downloader, progressbar)\u001b[0m\n\u001b[1;32m    510\u001b[0m \u001b[38;5;28;01mdef\u001b[39;00m \u001b[38;5;21mfetch\u001b[39m(\u001b[38;5;28mself\u001b[39m, fname, processor\u001b[38;5;241m=\u001b[39m\u001b[38;5;28;01mNone\u001b[39;00m, downloader\u001b[38;5;241m=\u001b[39m\u001b[38;5;28;01mNone\u001b[39;00m, progressbar\u001b[38;5;241m=\u001b[39m\u001b[38;5;28;01mFalse\u001b[39;00m):\n\u001b[1;32m    511\u001b[0m \u001b[38;5;250m    \u001b[39m\u001b[38;5;124;03m\"\"\"\u001b[39;00m\n\u001b[1;32m    512\u001b[0m \u001b[38;5;124;03m    Get the absolute path to a file in the local storage.\u001b[39;00m\n\u001b[1;32m    513\u001b[0m \n\u001b[0;32m   (...)\u001b[0m\n\u001b[1;32m    559\u001b[0m \n\u001b[1;32m    560\u001b[0m \u001b[38;5;124;03m    \"\"\"\u001b[39;00m\n\u001b[0;32m--> 561\u001b[0m     \u001b[38;5;28;43mself\u001b[39;49m\u001b[38;5;241;43m.\u001b[39;49m\u001b[43m_assert_file_in_registry\u001b[49m\u001b[43m(\u001b[49m\u001b[43mfname\u001b[49m\u001b[43m)\u001b[49m\n\u001b[1;32m    563\u001b[0m     \u001b[38;5;66;03m# Create the local data directory if it doesn't already exist\u001b[39;00m\n\u001b[1;32m    564\u001b[0m     make_local_storage(\u001b[38;5;28mstr\u001b[39m(\u001b[38;5;28mself\u001b[39m\u001b[38;5;241m.\u001b[39mabspath))\n",
      "File \u001b[0;32m/glade/u/apps/opt/conda/envs/npl-2023b/lib/python3.10/site-packages/pooch/core.py:608\u001b[0m, in \u001b[0;36mPooch._assert_file_in_registry\u001b[0;34m(self, fname)\u001b[0m\n\u001b[1;32m    603\u001b[0m \u001b[38;5;250m\u001b[39m\u001b[38;5;124;03m\"\"\"\u001b[39;00m\n\u001b[1;32m    604\u001b[0m \u001b[38;5;124;03mCheck if a file is in the registry and raise :class:`ValueError` if\u001b[39;00m\n\u001b[1;32m    605\u001b[0m \u001b[38;5;124;03mit's not.\u001b[39;00m\n\u001b[1;32m    606\u001b[0m \u001b[38;5;124;03m\"\"\"\u001b[39;00m\n\u001b[1;32m    607\u001b[0m \u001b[38;5;28;01mif\u001b[39;00m fname \u001b[38;5;129;01mnot\u001b[39;00m \u001b[38;5;129;01min\u001b[39;00m \u001b[38;5;28mself\u001b[39m\u001b[38;5;241m.\u001b[39mregistry:\n\u001b[0;32m--> 608\u001b[0m     \u001b[38;5;28;01mraise\u001b[39;00m \u001b[38;5;167;01mValueError\u001b[39;00m(\u001b[38;5;124mf\u001b[39m\u001b[38;5;124m\"\u001b[39m\u001b[38;5;124mFile \u001b[39m\u001b[38;5;124m'\u001b[39m\u001b[38;5;132;01m{\u001b[39;00mfname\u001b[38;5;132;01m}\u001b[39;00m\u001b[38;5;124m'\u001b[39m\u001b[38;5;124m is not in the registry.\u001b[39m\u001b[38;5;124m\"\u001b[39m)\n",
      "\u001b[0;31mValueError\u001b[0m: File 'Z__C_RJTD_20230801200000_RDR_JMAGPV_RS47937_Gar0p250km0p35deg_PRzdr_N11_ANAL_cfrad.nc' is not in the registry."
     ]
    }
   ],
   "source": [
    "# Q4\n",
    "Reflectivity_File = DATASETS.fetch(\"Z__C_RJTD_20230801200000_RDR_JMAGPV_RS47937_Gar0p250km0p35deg_PRref_N11_ANAL_cfrad.nc\")\n",
    "zdr_File = DATASETS.fetch(\"Z__C_RJTD_20230801200000_RDR_JMAGPV_RS47937_Gar0p250km0p35deg_PRzdr_N11_ANAL_cfrad.nc\")\n",
    "kdp_file = DATASETS.fetch(\"Z__C_RJTD_20230801200000_RDR_JMAGPV_RS47937_Gar0p250km0p35deg_PRkdp_N11_ANAL_cfrad.nc\")"
   ]
  },
  {
   "cell_type": "code",
   "execution_count": null,
   "id": "f4e69b74-7703-4f31-9948-059b726ad0ca",
   "metadata": {},
   "outputs": [],
   "source": [
    "radar = xd.io.open_cfradial1_datatree(reflectivity_file).xradar.georeference()\n",
    "radar"
   ]
  }
 ],
 "metadata": {
  "kernelspec": {
   "display_name": "NPL 2023b",
   "language": "python",
   "name": "npl-2023b"
  },
  "language_info": {
   "codemirror_mode": {
    "name": "ipython",
    "version": 3
   },
   "file_extension": ".py",
   "mimetype": "text/x-python",
   "name": "python",
   "nbconvert_exporter": "python",
   "pygments_lexer": "ipython3",
   "version": "3.10.12"
  }
 },
 "nbformat": 4,
 "nbformat_minor": 5
}
