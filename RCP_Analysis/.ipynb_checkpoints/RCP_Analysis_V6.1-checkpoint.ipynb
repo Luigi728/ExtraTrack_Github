{
 "cells": [
  {
   "cell_type": "code",
   "execution_count": 1,
   "id": "f0ad0ab9-3382-4f75-b98a-ceeabae6e0d1",
   "metadata": {
    "editable": true,
    "slideshow": {
     "slide_type": ""
    },
    "tags": []
   },
   "outputs": [],
   "source": [
    "import cartopy.crs as ccrs\n",
    "import cartopy.feature as cfeature\n",
    "from cartopy.mpl.gridliner import LATITUDE_FORMATTER, LONGITUDE_FORMATTER\n",
    "import cftime\n",
    "import datetime\n",
    "from datetime import date\n",
    "from matplotlib import pyplot\n",
    "from matplotlib import colors\n",
    "from matplotlib import font_manager\n",
    "from matplotlib.cm import ScalarMappable\n",
    "import matplotlib.colors as mcolors\n",
    "import matplotlib.dates as mdates\n",
    "import matplotlib.lines as mlines\n",
    "import matplotlib.patches as mpatches\n",
    "import matplotlib.ticker as mticker\n",
    "import numpy\n",
    "import pandas\n",
    "from PIL import Image\n",
    "import random\n",
    "import xarray as xr"
   ]
  },
  {
   "cell_type": "code",
   "execution_count": 2,
   "id": "36e3e8bb-5b7b-4f61-ae85-5e9d39fc21d3",
   "metadata": {},
   "outputs": [],
   "source": [
    "Diri = '/glade/u/home/whimkao//ExtraTrack/ExtraTrack_Data/RCP_Files_V4/'\n",
    "Output_Diri = '/glade/u/home/whimkao//ExtraTrack/ExtraTrack_Data/Output_Files_V6/'"
   ]
  },
  {
   "cell_type": "code",
   "execution_count": 3,
   "id": "bf58d309-5e19-4be0-b07c-8fa56d34f8d9",
   "metadata": {},
   "outputs": [],
   "source": [
    "# Open File\n",
    "def Create_DF(File):\n",
    "    Data = open(File, 'r')\n",
    "    Rows = []\n",
    "#\n",
    "# Organize Data\n",
    "    for Line in Data:\n",
    "        Rows.append(Line.strip())\n",
    "    Storm_Code, Storm_List_Orig = [], []\n",
    "    for i in range(len(Rows)):\n",
    "        if Rows[i][0:5] == 'start':\n",
    "            Code = Rows[i][41:45]\n",
    "            Storm_List_Orig.append(Code)\n",
    "        else:\n",
    "            Storm_Code.append(Code)\n",
    "    Array = numpy.zeros((13, len(Rows)-len(Storm_List_Orig)))\n",
    "    Time = []\n",
    "    k = -1\n",
    "    for i in range(len(Rows)):\n",
    "        if Rows[i][0:5] == 'start':\n",
    "            k += 1\n",
    "        else:\n",
    "            l = len(Rows[i]) - 100\n",
    "            Array[0][i-k-1] = float(Rows[i][0:6+l])\n",
    "            Array[1][i-k-1] = float(Rows[i][8+l:14+l])\n",
    "            Array[2][i-k-1] = float(Rows[i][17+l:24+l])\n",
    "            Array[3][i-k-1] = float(Rows[i][26+l:31+l])\n",
    "            Array[4][i-k-1] = float(Rows[i][34+l:41+l])\n",
    "            Array[5][i-k-1] = float(Rows[i][44+l:51+l])\n",
    "            Array[6][i-k-1] = float(Rows[i][54+l:61+l])\n",
    "            Array[7][i-k-1] = float(Rows[i][64+l:71+l])\n",
    "            Array[8][i-k-1] = float(Rows[i][74+l:81+l])\n",
    "            Time.append(datetime.datetime(year=int(Rows[i][84+l:88+l]), month=int(Rows[i][90+l:92+l]), \\\n",
    "            day=int(Rows[i][94+l:96+l]), hour=int(Rows[i][98+l:100+l])))\n",
    "#\n",
    "# Create DataFrame to Store Data\n",
    "    DF_All = pandas.DataFrame({\"Orig Code\": Storm_Code, \"Lon\": Array[0], \"Lat\": Array[1], \"SLP(hPa)\": Array[2], \\\n",
    "    \"Winds(m/s)\": Array[3], \"Dist(m)\": Array[4], \"Angle\": Array[5], \"B\": Array[6], \"VLT\": Array[7], \"VUT\": Array[8], \\\n",
    "    \"Orig Time(Z)\": Time})\n",
    "#\n",
    "# Remove Data Points Missing Phase Space Parameter Values (-999.0)\n",
    "    DF = DF_All[(DF_All[\"B\"] > -728) & (DF_All[\"VLT\"] > -728) & (DF_All[\"VUT\"] > -728)].reset_index()\n",
    "    return (DF, Storm_List_Orig)"
   ]
  },
  {
   "cell_type": "code",
   "execution_count": 4,
   "id": "a6da6f39-c4e1-4979-a6f0-0839f1bb1ad5",
   "metadata": {
    "editable": true,
    "slideshow": {
     "slide_type": ""
    },
    "tags": []
   },
   "outputs": [],
   "source": [
    "# Combine The Three Datasets Into One DataFrame of 90 or 93 Years For Each Scenario\n",
    "def Combine_DF(DF_A, DF_B, DF_C, Orig_List_A, Orig_List_B, Orig_List_C, Model):\n",
    "# Change Date For Simplicity of Analysis\n",
    "# Control Assigned to Years in the 20th Century\n",
    "# Each Year Within the Century are Independent\n",
    "    if Model == \"Control\":\n",
    "        Year_Start = 1900\n",
    "# RCP4.5 Assigned to Years in the 21st Century\n",
    "    elif Model == \"RCP45\":\n",
    "        Year_Start = 2000\n",
    "# RCP8.5 Assigned to Years in the 22nd Century\n",
    "    elif Model == \"RCP85\":\n",
    "        Year_Start = 2100\n",
    "# Create Empty Lists\n",
    "    Origi_List_A, Origi_List_B, Origi_List_C = [], [], []\n",
    "    New_List_A, New_List_B, New_List_C = [], [], []\n",
    "    New_Time, New_Code, ABC = [], [], []\n",
    "    Orig_Combine, New_Combine = [], []\n",
    "# Dataset A\n",
    "    Year = Year_Start\n",
    "    Orig_Year = DF_A[\"Orig Time(Z)\"][0].year\n",
    "    Year_Diff_A = Year - Orig_Year\n",
    "    Count = 0\n",
    "    for k in range(len(Orig_List_A)):\n",
    "        try:\n",
    "            Code, Year, Count = Update_Code(DF_A, Orig_List_A[k], Year_Diff_A, Year, Count)\n",
    "            Origi_List_A.append(Orig_List_A[k])\n",
    "            New_List_A.append(Code)\n",
    "        except:\n",
    "            Kinen = 728\n",
    "# Dataset B\n",
    "    Year += 1\n",
    "    Orig_Year = DF_B[\"Orig Time(Z)\"][0].year\n",
    "    Year_Diff_B = Year - Orig_Year\n",
    "    Count = 0\n",
    "    for k in range(len(Orig_List_B)):\n",
    "        try:\n",
    "            Code, Year, Count = Update_Code(DF_B, Orig_List_B[k], Year_Diff_B, Year, Count)\n",
    "            Origi_List_B.append(Orig_List_B[k])\n",
    "            New_List_B.append(Code)\n",
    "        except:\n",
    "            Kinen = 728\n",
    "# Dataset C\n",
    "    Year += 1\n",
    "    Orig_Year = DF_C[\"Orig Time(Z)\"][0].year\n",
    "    Year_Diff_C = Year - Orig_Year\n",
    "    Count = 0\n",
    "    for k in range(len(Orig_List_C)):\n",
    "        try:\n",
    "            Code, Year, Count = Update_Code(DF_C, Orig_List_C[k], Year_Diff_C, Year, Count)\n",
    "            Origi_List_C.append(Orig_List_C[k])\n",
    "            New_List_C.append(Code)\n",
    "        except:\n",
    "            Kinen = 728\n",
    "#\n",
    "# Combine Into New Time and Codes List\n",
    "    New_Code, New_Time, ABC, Orig_Combine, New_Combine = Combine_Lists(DF_A, Origi_List_A, New_List_A, Year_Diff_A, \\\n",
    "    New_Code, New_Time, ABC, Orig_Combine, New_Combine, \"A\")\n",
    "    New_Code, New_Time, ABC, Orig_Combine, New_Combine = Combine_Lists(DF_B, Origi_List_B, New_List_B, Year_Diff_B, \\\n",
    "    New_Code, New_Time, ABC, Orig_Combine, New_Combine, \"B\")\n",
    "    New_Code, New_Time, ABC, Orig_Combine, New_Combine = Combine_Lists(DF_C, Origi_List_C, New_List_C, Year_Diff_C, \\\n",
    "    New_Code, New_Time, ABC, Orig_Combine, New_Combine, \"C\")\n",
    "#\n",
    "# Concatenate Other Variables\n",
    "    Vars = [\"Lon\", \"Lat\", \"SLP(hPa)\", \"Winds(m/s)\", \"Dist(m)\", \"Angle\", \"B\", \"VLT\", \"VUT\"]\n",
    "    Total_Length = len(New_Code)\n",
    "    Array = numpy.zeros((9,Total_Length))\n",
    "    for n in range(len(Vars)):\n",
    "        List = []\n",
    "        for k in range(len(DF_A)):\n",
    "            List.append(DF_A[Vars[n]][k])\n",
    "        for k in range(len(DF_B)):\n",
    "            List.append(DF_B[Vars[n]][k])\n",
    "        for k in range(len(DF_C)):\n",
    "            List.append(DF_C[Vars[n]][k])\n",
    "        Array[n] = List\n",
    "#\n",
    "# Create DataFrame to Store Data\n",
    "    DF_Combine = pandas.DataFrame({\"Code\": New_Code, \"Lon\": Array[0], \"Lat\": Array[1], \"SLP(hPa)\": Array[2], \\\n",
    "    \"Winds(m/s)\": Array[3], \"B\": Array[6], \"VLT\": Array[7], \"VUT\": Array[8], \"Time(Z)\": New_Time})\n",
    "    Codes_DF = pandas.DataFrame({\"ABC\": ABC, \"Orig Code\": Orig_Combine, \"New Code\": New_Combine})\n",
    "    Year_Diffs = numpy.array([Year_Diff_A, Year_Diff_B, Year_Diff_C])\n",
    "    return (DF_Combine, Codes_DF, Year_Diffs)"
   ]
  },
  {
   "cell_type": "code",
   "execution_count": 5,
   "id": "db3425f5-0a27-4e01-bebb-76948faaffa1",
   "metadata": {},
   "outputs": [],
   "source": [
    "# Update Storm Code to Contain Year and Storm Number\n",
    "def Update_Code(DF, Orig_Code, Year_Diff_A, Year, Count):\n",
    "    DF_Storm = DF[DF[\"Orig Code\"] == Orig_Code].reset_index()\n",
    "    Orig_Year = DF_Storm[\"Orig Time(Z)\"][0].year\n",
    "    Time_Year = Orig_Year + Year_Diff_A\n",
    "    if Time_Year == Year:\n",
    "        Count += 1\n",
    "    else:\n",
    "        Year += 1\n",
    "        Count = 1\n",
    "    if Count < 10:\n",
    "        Code = \"TC\"+str(Year)+\"0\"+str(Count)\n",
    "    else:\n",
    "        Code = \"TC\"+str(Year)+str(Count)\n",
    "    return (Code, Year, Count)"
   ]
  },
  {
   "cell_type": "code",
   "execution_count": 6,
   "id": "0685dd59-c4f4-420a-97b3-bf89262d0441",
   "metadata": {},
   "outputs": [],
   "source": [
    "# Combine Lists\n",
    "def Combine_Lists(DF, Orig_List, New_List, Year_Diff, New_Code, New_Time, ABC, Orig_Combine, New_Combine, Y):\n",
    "    for i in range(len(DF)):\n",
    "        for l in range(len(Orig_List)):\n",
    "# Update Storm Code\n",
    "            if DF[\"Orig Code\"][i] == Orig_List[l]:\n",
    "                New_Code.append(New_List[l])\n",
    "# Update Year\n",
    "                Orig_Time = DF[\"Orig Time(Z)\"][i]\n",
    "                New_Time.append(Update_Year(Orig_Time, Year_Diff))\n",
    "    for m in range(len(Orig_List)):\n",
    "        ABC.append(Y)\n",
    "        Orig_Combine.append(Orig_List[m])\n",
    "        New_Combine.append(New_List[m])\n",
    "    return (New_Code, New_Time, ABC, Orig_Combine, New_Combine)"
   ]
  },
  {
   "cell_type": "code",
   "execution_count": 7,
   "id": "bd009122-8d02-4693-a3bc-ce6c903c1727",
   "metadata": {},
   "outputs": [],
   "source": [
    "# Change Year of Data\n",
    "def Update_Year(Orig_Time, Year_Diff):\n",
    "    Year_Update = Orig_Time.year + Year_Diff\n",
    "# Febuary 29 Issues\n",
    "    if Orig_Time.month == 2 and Orig_Time.day == 29:\n",
    "        New_Time = Orig_Time.replace(year=Year_Update, day=28)\n",
    "    else:\n",
    "        New_Time = Orig_Time.replace(year=Year_Update)\n",
    "    return (New_Time)"
   ]
  },
  {
   "cell_type": "code",
   "execution_count": 8,
   "id": "cb3cca02-d0c1-48d5-b44d-ecce1a28fbb5",
   "metadata": {},
   "outputs": [],
   "source": [
    "# Open Name List File\n",
    "def Open_Name_List(File):\n",
    "    Name_File = pandas.read_csv(File)\n",
    "    Headings = list(Name_File.columns)\n",
    "    Name_List = []\n",
    "    for i in range(len(Headings)):\n",
    "        for j in range(len(Name_File)):\n",
    "            Name_List.append(Name_File[Headings[i]][j])\n",
    "    return (Name_List)"
   ]
  },
  {
   "cell_type": "code",
   "execution_count": 9,
   "id": "7f19c405-00f6-461c-b1f7-648700f534ed",
   "metadata": {},
   "outputs": [],
   "source": [
    "# Assign Names to Each Cyclone Code\n",
    "def Assign_Name(Name_List, Codes, DF):\n",
    "    Storm_Names = []\n",
    "    for i in range(len(Codes)):\n",
    "        Name = Name_List[int(i%len(Name_List))]\n",
    "        Storm_Names.append(Name)\n",
    "    Codes[\"Name\"] = Storm_Names\n",
    "    DF_Names = []\n",
    "    for k in range(len(DF)):\n",
    "        Code = DF[\"Code\"][k]\n",
    "        Name = list(Codes[Codes[\"New Code\"] == Code][\"Name\"])[0]\n",
    "        DF_Names.append(Name)\n",
    "    DF.insert(1, \"Name\", DF_Names)\n",
    "    return (Codes, DF)"
   ]
  },
  {
   "cell_type": "code",
   "execution_count": 10,
   "id": "2b5525e4-0d83-4040-a886-45c94b9af0da",
   "metadata": {},
   "outputs": [],
   "source": [
    "# Function to Find Distance Between Two Points\n",
    "def Find_Distance(y1, y2, x1, x2):\n",
    "    Start_Lat = y1 * numpy.pi / 180\n",
    "    End_Lat = y2 * numpy.pi / 180\n",
    "    Start_Lon = x1 * numpy.pi / 180\n",
    "    End_Lon = x2 * numpy.pi / 180\n",
    "    Lat_Diff = End_Lat - Start_Lat\n",
    "    Lon_Diff = End_Lon - Start_Lon\n",
    "    Earth_Rad = 6378\n",
    "    Distance = 2 * Earth_Rad * numpy.sqrt((numpy.sin(Lat_Diff/2))**2 + \\\n",
    "    numpy.cos(Start_Lat) * numpy.cos(End_Lat) * (numpy.sin(Lon_Diff/2))**2)\n",
    "    return (Distance)"
   ]
  },
  {
   "cell_type": "code",
   "execution_count": 11,
   "id": "0212d175-728c-4e64-a65f-c865e63d48c5",
   "metadata": {},
   "outputs": [],
   "source": [
    "# Find a Specific Storm Within the DataFrame\n",
    "def Find_Storm(DF, Code):\n",
    "    DF_Storm = DF[DF[\"Code\"] == Code].reset_index()\n",
    "    return (DF_Storm)"
   ]
  },
  {
   "cell_type": "code",
   "execution_count": null,
   "id": "4d5cfee4-5db0-4933-ac51-40f87c3c90b9",
   "metadata": {},
   "outputs": [],
   "source": []
  },
  {
   "cell_type": "code",
   "execution_count": null,
   "id": "e6f34919-cd0a-4068-b189-fdfe53139b3a",
   "metadata": {},
   "outputs": [],
   "source": []
  },
  {
   "cell_type": "code",
   "execution_count": null,
   "id": "e6290456-0efe-47ca-aef4-ab83ad6d1e08",
   "metadata": {},
   "outputs": [],
   "source": []
  },
  {
   "cell_type": "code",
   "execution_count": 12,
   "id": "9d29aac5-9852-467b-bbd3-c9ec7227ff5e",
   "metadata": {},
   "outputs": [],
   "source": [
    "# Open Name List\n",
    "Name_List = Open_Name_List('Storm_Name_List.csv')"
   ]
  },
  {
   "cell_type": "code",
   "execution_count": 13,
   "id": "bc2a90ef-525c-498c-acb7-f8b0b7426fb4",
   "metadata": {
    "tags": []
   },
   "outputs": [],
   "source": [
    "# Apply Functions to Open Datasets\n",
    "Control_A_Data_V0, Control_A_Storm_List_V0 = Create_DF(Diri + 'traj_et_dtime900.control.002_avg_V4')\n",
    "Control_B_Data_V0, Control_B_Storm_List_V0 = Create_DF(Diri + 'traj_et_dtime900.control.003_avg_V4')\n",
    "Control_C_Data_V0, Control_C_Storm_List_V0 = Create_DF(Diri + 'traj_et_dtime900.control_avg_V4')"
   ]
  },
  {
   "cell_type": "code",
   "execution_count": 14,
   "id": "dd59402f-72c9-4bff-aeb4-c0b9b7fc423c",
   "metadata": {
    "editable": true,
    "slideshow": {
     "slide_type": ""
    },
    "tags": []
   },
   "outputs": [],
   "source": [
    "# Process Control DataFrames\n",
    "Control_Data_V1, Control_Codes_V1, Control_Year_Diffs = \\\n",
    "Combine_DF(Control_A_Data_V0, Control_B_Data_V0, Control_C_Data_V0, \\\n",
    "Control_A_Storm_List_V0, Control_B_Storm_List_V0, Control_C_Storm_List_V0, \"Control\")\n",
    "Control_Codes_V2, Control_Data_V2 = Assign_Name(Name_List, Control_Codes_V1, Control_Data_V1)"
   ]
  },
  {
   "cell_type": "code",
   "execution_count": 15,
   "id": "4eff17ac-313d-402c-aecd-ececbeb4a27e",
   "metadata": {
    "tags": []
   },
   "outputs": [],
   "source": [
    "# Apply Functions to Open Datasets\n",
    "RCP45_A_Data_V0, RCP45_A_Storm_List_V0 = Create_DF(Diri + 'traj_et_dtime900.rcp45_avg_V4')\n",
    "RCP45_B_Data_V0, RCP45_B_Storm_List_V0 = Create_DF(Diri + 'traj_et_dtime900.rcp45.002_avg_V4')\n",
    "RCP45_C_Data_V0, RCP45_C_Storm_List_V0 = Create_DF(Diri + 'traj_et_dtime900.rcp45.003_avg_V4')"
   ]
  },
  {
   "cell_type": "code",
   "execution_count": 16,
   "id": "0c5db523-571a-4e51-9046-46dc662e2eaa",
   "metadata": {},
   "outputs": [],
   "source": [
    "# Process RCP4.5 DataFrames\n",
    "RCP45_Data_V1, RCP45_Codes_V1, RCP45_Year_Diffs = \\\n",
    "Combine_DF(RCP45_A_Data_V0, RCP45_B_Data_V0, RCP45_C_Data_V0, \\\n",
    "RCP45_A_Storm_List_V0, RCP45_B_Storm_List_V0, RCP45_C_Storm_List_V0, \"RCP45\")\n",
    "RCP45_Codes_V2, RCP45_Data_V2 = Assign_Name(Name_List, RCP45_Codes_V1, RCP45_Data_V1)"
   ]
  },
  {
   "cell_type": "code",
   "execution_count": 17,
   "id": "cc6714b9-de29-44db-abc8-fa9be43800ce",
   "metadata": {
    "tags": []
   },
   "outputs": [],
   "source": [
    "# Apply Functions to Open Datasets\n",
    "RCP85_A_Data_V0, RCP85_A_Storm_List_V0 = Create_DF(Diri + 'traj_et_dtime900.rcp85_avg_V4')\n",
    "RCP85_B_Data_V0, RCP85_B_Storm_List_V0 = Create_DF(Diri + 'traj_et_dtime900.rcp85.003_avg_V4')\n",
    "RCP85_C_Data_V0, RCP85_C_Storm_List_V0 = Create_DF(Diri + 'traj_et_dtime900.rcp85.004_avg_V4')"
   ]
  },
  {
   "cell_type": "code",
   "execution_count": 18,
   "id": "53ecc77c-46b5-4230-9f67-9dd57cc6edf0",
   "metadata": {},
   "outputs": [],
   "source": [
    "# Process RCP8.5 DataFrames\n",
    "RCP85_Data_V1, RCP85_Codes_V1, RCP85_Year_Diffs = \\\n",
    "Combine_DF(RCP85_A_Data_V0, RCP85_B_Data_V0, RCP85_C_Data_V0, \\\n",
    "RCP85_A_Storm_List_V0, RCP85_B_Storm_List_V0, RCP85_C_Storm_List_V0, \"RCP85\")\n",
    "RCP85_Codes_V2, RCP85_Data_V2 = Assign_Name(Name_List, RCP85_Codes_V1, RCP85_Data_V1)"
   ]
  },
  {
   "cell_type": "code",
   "execution_count": null,
   "id": "18fb0b2a-f28a-4eab-b9b0-484549faedca",
   "metadata": {},
   "outputs": [],
   "source": []
  },
  {
   "cell_type": "code",
   "execution_count": 19,
   "id": "afa97e57-fd0d-49a8-9aa6-af2d08a4e5e9",
   "metadata": {},
   "outputs": [],
   "source": [
    "# Check For Repeated Entries\n",
    "def Repeated_Check(DF):\n",
    "    for i in range(len(DF)):\n",
    "        Lat = DF[\"Lat\"][i]\n",
    "        Lon = DF[\"Lon\"][i]\n",
    "        Time = DF[\"Time(Z)\"][i]\n",
    "        DF_Repeat = DF[(DF[\"Lat\"] == Lat) & (DF[\"Lon\"] == Lon) & (DF[\"Time(Z)\"] == Time)]\n",
    "# Deleted Repeated Entries\n",
    "        if len(DF_Repeat) > 1:\n",
    "            print (DF[\"Code\"][i], Time)"
   ]
  },
  {
   "cell_type": "code",
   "execution_count": null,
   "id": "99539e91-3d45-449d-8f75-67dd3cac489e",
   "metadata": {},
   "outputs": [],
   "source": []
  },
  {
   "cell_type": "code",
   "execution_count": null,
   "id": "7bc126d2-d56a-45c2-a9eb-625a130cfa24",
   "metadata": {},
   "outputs": [],
   "source": []
  },
  {
   "cell_type": "code",
   "execution_count": null,
   "id": "34cdb66d-2a5f-404a-be3c-57384281909e",
   "metadata": {},
   "outputs": [],
   "source": []
  },
  {
   "cell_type": "code",
   "execution_count": 20,
   "id": "a81bfa7a-dee5-4b41-8b88-9e7323e271f9",
   "metadata": {
    "editable": true,
    "slideshow": {
     "slide_type": ""
    },
    "tags": []
   },
   "outputs": [],
   "source": [
    "# Create DF With Extratropical Transition Information of Each Storm\n",
    "def Storm_Info_DF(DF, Codes):\n",
    "    ABC = []\n",
    "    Trans_Types, Start_Times, End_Times, Track_Discons = [], [], [], []\n",
    "    for i in range(len(Codes)):\n",
    "        DF_Storm_Orig = DF[DF[\"Code\"] == Codes[\"New Code\"][i]].reset_index()\n",
    "        DF_Storm, Track_Discons = DF_Fixing(DF_Storm_Orig, Track_Discons)\n",
    "        Trans_Type, Start_Time_t, End_Time_t = ET_Function(DF_Storm)\n",
    "        if Start_Time_t > 0:\n",
    "            Start_Time = DF_Storm[\"Time(Z)\"][Start_Time_t]\n",
    "        else:\n",
    "            Start_Time = numpy.nan\n",
    "        if End_Time_t > 0:\n",
    "            End_Time = DF_Storm[\"Time(Z)\"][End_Time_t]\n",
    "        else:\n",
    "            End_Time = numpy.nan\n",
    "        Start_Times.append(Start_Time)\n",
    "        End_Times.append(End_Time)\n",
    "        Trans_Types.append(Trans_Type)\n",
    "        ABC.append(Codes[\"ABC\"][i])\n",
    "        if i == 0:\n",
    "            DF_Fixed = DF_Storm.copy()\n",
    "        else:\n",
    "            DF_Fixed = pandas.concat([DF_Fixed, DF_Storm])\n",
    "    DF_Fixed = DF_Fixed.reset_index()\n",
    "    DF_Fixed = DF_Fixed.drop(\"index\", axis=1)\n",
    "#\n",
    "# Create Storms DF\n",
    "    Storms_DF_Orig = pandas.DataFrame({\"Code\": Codes[\"New Code\"], \"Name\": Codes[\"Name\"], \\\n",
    "    \"ABC\": ABC, \"Trans Type\": Trans_Types, \"ET Begin Time\": Start_Times, \"ET Complete Time\": End_Times})\n",
    "    return (DF_Fixed, Storms_DF_Orig)"
   ]
  },
  {
   "cell_type": "code",
   "execution_count": 21,
   "id": "d665b702-46ff-4fa7-9d3a-40f108a2b38d",
   "metadata": {
    "tags": []
   },
   "outputs": [],
   "source": [
    "# Function For Check For Time Discontinuity\n",
    "def Time_Discontinuity(DF_Storm):\n",
    "    Time_Continuous = 0\n",
    "    for k in range(len(DF_Storm)):\n",
    "        if k > 0 and Time_Continuous == 0:\n",
    "#            print (k)\n",
    "# If Over 24 Hours of Missing Data\n",
    "            if DF_Storm[\"Time(Z)\"][k] - DF_Storm[\"Time(Z)\"][k-1] >= datetime.timedelta(hours=24):\n",
    "# Divide Array Into Before The Time Discontinuity and After It\n",
    "                Before = DF_Storm[\"Time(Z)\"][k-1]\n",
    "                After = DF_Storm[\"Time(Z)\"][k]\n",
    "                DF_Before = DF_Storm[DF_Storm[\"Time(Z)\"] <= Before].reset_index()\n",
    "                DF_After = DF_Storm[DF_Storm[\"Time(Z)\"] >= After].reset_index()\n",
    "# Choose the Part with the Lowest Min SLP to Keep\n",
    "                if numpy.min(DF_After[\"SLP(hPa)\"]) <= numpy.min(DF_Before[\"SLP(hPa)\"]) and \\\n",
    "                len(DF_After) > len(DF_Before):\n",
    "                    DF_Storm_Updated = DF_After\n",
    "                else:\n",
    "                    DF_Storm_Updated = DF_Before\n",
    "                Time_Continuous = 1\n",
    "                DF_Storm_Updated = DF_Storm_Updated.drop(\"level_0\", axis=1)\n",
    "# Repeat Until No More Time Discontinuity\n",
    "    if Time_Continuous == 0:\n",
    "        DF_Storm_Updated = DF_Storm.copy()\n",
    "    return (DF_Storm_Updated)"
   ]
  },
  {
   "cell_type": "code",
   "execution_count": 22,
   "id": "771b22cb-1f9a-461c-a7a2-fec0cda7c2d6",
   "metadata": {
    "tags": []
   },
   "outputs": [],
   "source": [
    "# Function For Check For Track Discontinuity\n",
    "def Track_Discontinuity(DF_Storm):\n",
    "    Track_Continuous = 0\n",
    "    Track_Discon = []\n",
    "    for k in range(len(DF_Storm)):\n",
    "        if k > 1 and Track_Continuous == 0:\n",
    "# Calculate Distance Between Each 6 Hour Interval\n",
    "            Distance_1 = Find_Distance(DF_Storm[\"Lat\"][k], DF_Storm[\"Lat\"][k-1], \\\n",
    "            DF_Storm[\"Lon\"][k], DF_Storm[\"Lon\"][k-1])\n",
    "            Distance_2 = Find_Distance(DF_Storm[\"Lat\"][k-1], DF_Storm[\"Lat\"][k-2], \\\n",
    "            DF_Storm[\"Lon\"][k-1], DF_Storm[\"Lon\"][k-2])\n",
    "# If Distance >= 800km and Distance Over 5 Times Further Than Previous Time Interval\n",
    "            if Distance_1 >= 800 and Distance_1 >= Distance_2 * 5:\n",
    "                Track_Discon = [DF_Storm[\"Code\"][0], DF_Storm[\"Time(Z)\"][k]]\n",
    "# Divide Array Into Before The Track Discontinuity and After It\n",
    "                Before = DF_Storm[\"Time(Z)\"][k-1]\n",
    "                After = DF_Storm[\"Time(Z)\"][k]\n",
    "                DF_Before = DF_Storm[DF_Storm[\"Time(Z)\"] <= Before].reset_index()\n",
    "                DF_After = DF_Storm[DF_Storm[\"Time(Z)\"] >= After].reset_index()\n",
    "# Choose the Part with the Lowest Min SLP to Keep\n",
    "                if numpy.min(DF_After[\"SLP(hPa)\"]) <= numpy.min(DF_Before[\"SLP(hPa)\"]) and \\\n",
    "                len(DF_After) > len(DF_Before):\n",
    "                    DF_Storm_Updated = DF_After\n",
    "                else:\n",
    "                    DF_Storm_Updated = DF_Before\n",
    "                Track_Continuous = 1\n",
    "                DF_Storm_Updated = DF_Storm_Updated.drop(\"level_0\", axis=1)\n",
    "# Repeat Until No More Track Discontinuity\n",
    "    if Track_Continuous == 0:\n",
    "        DF_Storm_Updated = DF_Storm.copy()\n",
    "    return (DF_Storm_Updated, Track_Discon)"
   ]
  },
  {
   "cell_type": "code",
   "execution_count": 23,
   "id": "1f55ef42-6366-4c0e-9b47-813ae0fff99d",
   "metadata": {},
   "outputs": [],
   "source": [
    "# Fix Storms That Have Time Discontinuity or Track Discontinuity\n",
    "def DF_Fixing(DF_Storm_Orig, Track_Discons):\n",
    "    Bottom_Right = False\n",
    "    Top_Right = False\n",
    "    Bottom_Left = False\n",
    "    Top_Left = False\n",
    "    Bottom_Right_t, Top_Right_t, Bottom_Left_t = [], [], []\n",
    "    ET_Complete = False\n",
    "#\n",
    "# Check For Time Discontinuity\n",
    "    DF_Storm = Time_Discontinuity(DF_Storm_Orig)\n",
    "# Repeat to Check Again\n",
    "    DF_Storm = Time_Discontinuity(DF_Storm)\n",
    "    DF_Storm = Time_Discontinuity(DF_Storm)\n",
    "#\n",
    "# Check For Track Discontinuity\n",
    "    DF_Storm, Track_Discon = Track_Discontinuity(DF_Storm)\n",
    "    if len(Track_Discon) > 0:\n",
    "        Track_Discons.append(Track_Discon)\n",
    "# Repeat to Check Again\n",
    "    DF_Storm, Track_Discon = Track_Discontinuity(DF_Storm)\n",
    "    if len(Track_Discon) > 0:\n",
    "        Track_Discons.append(Track_Discon)\n",
    "    DF_Storm, Track_Discon = Track_Discontinuity(DF_Storm)\n",
    "    if len(Track_Discon) > 0:\n",
    "        Track_Discons.append(Track_Discon)\n",
    "    return (DF_Storm, Track_Discons)"
   ]
  },
  {
   "cell_type": "code",
   "execution_count": 24,
   "id": "c3751f15-cf12-4557-999c-3741efee7be2",
   "metadata": {
    "editable": true,
    "slideshow": {
     "slide_type": ""
    },
    "tags": []
   },
   "outputs": [],
   "source": [
    "# Function to Find Whether a Storm Has Completed ET, and Start and End Time of ET\n",
    "def ET_Function(DF_Storm):\n",
    "    Tropical_Begin = False\n",
    "    ET_Begin = False\n",
    "    ET_Complete = False\n",
    "    Bottom_Right_t, Top_Right_t, Bottom_Left_t = [], [], []\n",
    "    Start_Time_t, End_Time_t, Trans_Type = -728, -728, -728\n",
    "    for t in range(len(DF_Storm)):\n",
    "        if ET_Complete == False:\n",
    "            if Tropical_Begin == False:\n",
    "# Storm Must First Be Tropical\n",
    "                if DF_Storm[\"B\"][t] <= 15 and DF_Storm[\"VLT\"][t] >= 0:\n",
    "                    Tropical_Begin = True\n",
    "                    Bottom_Right_t.append(t)\n",
    "            if Tropical_Begin == True:\n",
    "# Storm Must Be Tropical For At Least 48 Hours\n",
    "                if len(Bottom_Right_t) <= 8:\n",
    "                    if DF_Storm[\"B\"][t] <= 15 and DF_Storm[\"VLT\"][t] >= 0:\n",
    "                        Bottom_Right_t.append(t)\n",
    "#\n",
    "# Enter Next Stage If Storm Remains Tropical For At Least 48 Hours\n",
    "                else:\n",
    "                    if ET_Begin == False:\n",
    "# If Storm Enters Top Right Quadrant = ET Begin\n",
    "                        if DF_Storm[\"B\"][t] > 15 and DF_Storm[\"VLT\"][t] >= 0:\n",
    "                            ET_Begin = True\n",
    "                            Start_Time_t = t\n",
    "                            Top_Right_t.append(t)\n",
    "# If Storm Enters Bottom Left Quadrant = ET Begin\n",
    "                        elif DF_Storm[\"B\"][t] <= 15 and DF_Storm[\"VLT\"][t] < 0:\n",
    "                            ET_Begin = True\n",
    "                            Start_Time_t = t\n",
    "                            Bottom_Left_t.append(t)\n",
    "# If Storm Directly Enters Top Left Quadrant = ET Complete\n",
    "                        elif DF_Storm[\"B\"][t] > 15 and DF_Storm[\"VLT\"][t] < 0:\n",
    "                            ET_Complete = True\n",
    "                            Start_Time_t, End_Time_t = t, t\n",
    "                            Trans_Type = 3\n",
    "#\n",
    "# After ET Initiation\n",
    "                    elif ET_Begin == True:\n",
    "                        if len(Top_Right_t) > 0 and len(Top_Right_t) >= len(Bottom_Left_t):\n",
    "# If Storm Remains in Top Right Quadrant\n",
    "                            if DF_Storm[\"B\"][t] > 15 and DF_Storm[\"VLT\"][t] >= 0:\n",
    "                                Top_Right_t.append(t)\n",
    "# If Storm Enters Top Left Quadrant = ET Complete\n",
    "                            elif DF_Storm[\"VLT\"][t] < 0:\n",
    "                                if DF_Storm[\"B\"][t] > 10:\n",
    "                                    ET_Complete = True\n",
    "                                    End_Time_t, Trans_Type = t, 1\n",
    "# If Storm Enters Bottom Left Quadrant\n",
    "                                else:\n",
    "                                    Bottom_Left_t.append(t)\n",
    "                            elif DF_Storm[\"B\"][t] <= 15 and DF_Storm[\"VLT\"][t] >= 0:\n",
    "# If Storm Returns to Bottom Right Quadrant For Over 24 Hours\n",
    "                                if t-4 > Top_Right_t[len(Top_Right_t)-1]:\n",
    "                                    ET_Begin = False\n",
    "                                    Top_Right_t = []\n",
    "                        elif len(Bottom_Left_t) > 0:\n",
    "# If Storm Remains in Bottom Left Quadrant\n",
    "                            if DF_Storm[\"B\"][t] <= 15 and DF_Storm[\"VLT\"][t] < 0:\n",
    "                                Bottom_Left_t.append(t)\n",
    "# If Storm Enters Top Left Quadrant = ET Complete\n",
    "                            elif DF_Storm[\"B\"][t] > 15:\n",
    "                                if DF_Storm[\"VLT\"][t] <= 0:\n",
    "                                    ET_Complete = True\n",
    "                                    End_Time_t, Trans_Type = t, 2\n",
    "# If Storm Enters Top Right Quadrant\n",
    "                                else:\n",
    "                                    Top_Right_t.append(t)\n",
    "                            elif DF_Storm[\"B\"][t] <= 15 and DF_Storm[\"VLT\"][t] >= 0:\n",
    "# If Storm Returns to Bottom Right Quadrant For Over 24 Hours\n",
    "                                if t-4 > Bottom_Left_t[len(Bottom_Left_t)-1]:\n",
    "                                    ET_Begin = False\n",
    "                                    Bottom_Left_t = []\n",
    "#\n",
    "# If Storm Did Not Spend At Least 48 Hours as Tropical\n",
    "    if len(Bottom_Right_t) <= 8:\n",
    "        Trans_Type = -728\n",
    "# If ET Never Begun:\n",
    "    elif End_Time_t == -728:\n",
    "        if Start_Time_t == -728:\n",
    "            Trans_Type = -1\n",
    "# If ET Began But Did Not Complete:\n",
    "        else:\n",
    "            Trans_Type = 0\n",
    "    return (Trans_Type, Start_Time_t, End_Time_t)"
   ]
  },
  {
   "cell_type": "code",
   "execution_count": 25,
   "id": "f05d7305-6f78-4426-a8e1-a629f6fa6980",
   "metadata": {
    "editable": true,
    "slideshow": {
     "slide_type": ""
    },
    "tags": []
   },
   "outputs": [],
   "source": [
    "# Apply Function For Control DataFrames\n",
    "Control_Data_V3, Control_ET_V1 = Storm_Info_DF(Control_Data_V2, Control_Codes_V2)"
   ]
  },
  {
   "cell_type": "code",
   "execution_count": 26,
   "id": "32650d67-0ced-4ff7-ab90-0580683fb7cc",
   "metadata": {
    "tags": []
   },
   "outputs": [],
   "source": [
    "# Apply Function For RCP4.5 DataFrames\n",
    "RCP45_Data_V3, RCP45_ET_V1 = Storm_Info_DF(RCP45_Data_V2, RCP45_Codes_V2)"
   ]
  },
  {
   "cell_type": "code",
   "execution_count": 27,
   "id": "91f0702e-7294-4d3f-aeb0-27ffbfa4d775",
   "metadata": {
    "tags": []
   },
   "outputs": [],
   "source": [
    "# Apply Function For RCP8.5 DataFrames\n",
    "RCP85_Data_V3, RCP85_ET_V1 = Storm_Info_DF(RCP85_Data_V2, RCP85_Codes_V2)"
   ]
  },
  {
   "cell_type": "code",
   "execution_count": null,
   "id": "3f6cd97e-7660-4204-9464-2c73f9893c22",
   "metadata": {},
   "outputs": [],
   "source": []
  },
  {
   "cell_type": "code",
   "execution_count": null,
   "id": "f2517ece-262e-47bb-a8b8-b10c4eedfc2a",
   "metadata": {},
   "outputs": [],
   "source": []
  },
  {
   "cell_type": "code",
   "execution_count": null,
   "id": "b3757a27-346a-4d0e-a11d-d78e28581cf6",
   "metadata": {},
   "outputs": [],
   "source": []
  },
  {
   "cell_type": "code",
   "execution_count": 28,
   "id": "862f3141-24de-4b3b-9089-633cd38c87c4",
   "metadata": {},
   "outputs": [],
   "source": [
    "# Add Storm Phase into DataFrame\n",
    "def Storm_Phase_Info(Data_DF_Orig, ET_DF):\n",
    "    Data_DF = Data_DF_Orig.copy()\n",
    "    Storm_Phase_List = []\n",
    "    for i in range(len(ET_DF)):\n",
    "        DF_Storm = Data_DF[Data_DF[\"Code\"] == ET_DF[\"Code\"][i]].reset_index()\n",
    "        Trans_Type, Start_Time, End_Time = ET_DF[\"Trans Type\"][i], ET_DF[\"ET Begin Time\"][i], ET_DF[\"ET Complete Time\"][i]\n",
    "# Find Storm Phase Based on ET Start Time and ET End Time\n",
    "        Storm_Phase = Find_Storm_Phase(DF_Storm, Start_Time, End_Time, Trans_Type)\n",
    "        for j in range(len(Storm_Phase)):\n",
    "            Storm_Phase_List.append(Storm_Phase[j])\n",
    "    Data_DF[\"Storm Phase\"] = Storm_Phase_List\n",
    "    Data_DF = Data_DF.drop(\"level_0\", axis=1)\n",
    "    return (Data_DF)"
   ]
  },
  {
   "cell_type": "code",
   "execution_count": 29,
   "id": "ec3666ff-3b7a-427c-806e-6f051d11a349",
   "metadata": {},
   "outputs": [],
   "source": [
    "# Function to Find Storm Phase\n",
    "def Find_Storm_Phase(DF_Storm, Start_Time, End_Time, Trans_Type):\n",
    "    Time = list(DF_Storm[\"Time(Z)\"])\n",
    "    Storm_Phase = []\n",
    "    for k in range(len(DF_Storm)):\n",
    "# If Before ET Start = Tropical\n",
    "# If Between ET Start and ET End = Transitioning\n",
    "# If After ET End = Extratropical\n",
    "        if Trans_Type <= -1:\n",
    "            Storm_Phase.append(\"Tropical\")\n",
    "        elif Trans_Type == 0:\n",
    "            if Time[k] < Start_Time:\n",
    "                Storm_Phase.append(\"Tropical\")\n",
    "            else:\n",
    "                Storm_Phase.append(\"Transition\")\n",
    "        else:\n",
    "            if Time[k] < Start_Time:\n",
    "                Storm_Phase.append(\"Tropical\")\n",
    "            elif Time[k] < End_Time:\n",
    "                Storm_Phase.append(\"Transition\")\n",
    "            else:\n",
    "                Storm_Phase.append(\"Extratropical\")\n",
    "    return (Storm_Phase)"
   ]
  },
  {
   "cell_type": "code",
   "execution_count": 30,
   "id": "6d666218-178d-44b8-b765-e0cd26584fab",
   "metadata": {},
   "outputs": [],
   "source": [
    "# Apply Function\n",
    "Control_Data_V4 = Storm_Phase_Info(Control_Data_V3, Control_ET_V1)\n",
    "RCP45_Data_V4 = Storm_Phase_Info(RCP45_Data_V3, RCP45_ET_V1)\n",
    "RCP85_Data_V4 = Storm_Phase_Info(RCP85_Data_V3, RCP85_ET_V1)"
   ]
  },
  {
   "cell_type": "code",
   "execution_count": null,
   "id": "b8af99d1-3635-4717-a522-f7631925ff11",
   "metadata": {},
   "outputs": [],
   "source": []
  },
  {
   "cell_type": "code",
   "execution_count": null,
   "id": "c0681f9c-b8c6-415f-a0eb-61491d1aed04",
   "metadata": {},
   "outputs": [],
   "source": []
  },
  {
   "cell_type": "code",
   "execution_count": 35,
   "id": "f3d7e195-b23e-4e9d-9007-0c57f7a163cf",
   "metadata": {},
   "outputs": [],
   "source": [
    "# Add ET Transition Lat Lon SLP Into ET DataFrame\n",
    "def ET_Variables(Main_DF, ET_DF_Orig):\n",
    "    ET_DF = ET_DF_Orig.copy()\n",
    "    Array = numpy.zeros((15, len(ET_DF)))\n",
    "    Trop_Peak_Times = []\n",
    "    Peak_Times = []\n",
    "    Birth_Times = []\n",
    "    Death_Times = []\n",
    "    for i in range(len(ET_DF)):\n",
    "        Code = ET_DF[\"Code\"][i]\n",
    "        Trans_Type, Start_Time, End_Time = ET_DF[\"Trans Type\"][i], ET_DF[\"ET Begin Time\"][i], ET_DF[\"ET Complete Time\"][i]\n",
    "        Storm = Main_DF[Main_DF[\"Code\"] == Code].reset_index()\n",
    "#\n",
    "# Find Genesis and Dissipation Time\n",
    "        Birth_Time = Storm[\"Time(Z)\"][0]\n",
    "        Death_Time = Storm[\"Time(Z)\"][len(Storm)-1]\n",
    "        Birth_Times.append(Birth_Time)\n",
    "        Death_Times.append(Death_Time)\n",
    "#\n",
    "# Find Lat, Lon, Time at Storm Peak\n",
    "        Min_SLP = numpy.min(Storm[\"SLP(hPa)\"])\n",
    "        Storm_Peak = Storm[Storm[\"SLP(hPa)\"] == Min_SLP]\n",
    "        Array[0][i] = Min_SLP\n",
    "        Array[1][i] = float(Storm_Peak[\"Lon\"].iloc[0])\n",
    "        Array[2][i] = float(Storm_Peak[\"Lat\"].iloc[0])\n",
    "        Peak_Time = Storm_Peak[\"Time(Z)\"].iloc[0]\n",
    "        Peak_Times.append(Peak_Time)\n",
    "#\n",
    "# Find Lat, Lon, Time at Tropical Phase Peak\n",
    "        Storm_Trop = Storm[Storm[\"Storm Phase\"] == \"Tropical\"]\n",
    "        Trop_Min_SLP = numpy.min(Storm_Trop[\"SLP(hPa)\"])\n",
    "        Trop_Peak = Storm[Storm[\"SLP(hPa)\"] == Trop_Min_SLP]\n",
    "        Array[3][i] = Trop_Min_SLP\n",
    "        Array[4][i] = float(Trop_Peak[\"Lon\"].iloc[0])\n",
    "        Array[5][i] = float(Trop_Peak[\"Lat\"].iloc[0])\n",
    "        Trop_Peak_Time = Trop_Peak[\"Time(Z)\"].iloc[0]\n",
    "        Trop_Peak_Times.append(Trop_Peak_Time)\n",
    "#\n",
    "# Find SLP, Lon, Lat at ET Begin\n",
    "        if Trans_Type > -1:\n",
    "            Begin = Storm[Storm[\"Time(Z)\"] == Start_Time]\n",
    "            Array[6][i] = float(Begin[\"SLP(hPa)\"].iloc[0])\n",
    "            Array[7][i] = float(Begin[\"Lon\"].iloc[0])\n",
    "            Array[8][i] = float(Begin[\"Lat\"].iloc[0])\n",
    "        else:\n",
    "            Array[6][i], Array[7][i], Array[8][i] = numpy.nan, numpy.nan, numpy.nan\n",
    "#\n",
    "# Find SLP, Lon, Lat at ET Complete\n",
    "        if Trans_Type > 0:\n",
    "            Complete = Storm[Storm[\"Time(Z)\"] == End_Time]\n",
    "            Array[9][i] = float(Complete[\"SLP(hPa)\"].iloc[0])\n",
    "            Array[10][i] = float(Complete[\"Lon\"].iloc[0])\n",
    "            Array[11][i] = float(Complete[\"Lat\"].iloc[0])\n",
    "        else:\n",
    "            Array[9][i], Array[10][i], Array[11][i] = numpy.nan, numpy.nan, numpy.nan\n",
    "#\n",
    "# Append Into ET DF\n",
    "    ET_DF[\"Trop Peak Time\"] = Trop_Peak_Times\n",
    "    ET_DF[\"Peak Time\"] = Peak_Times\n",
    "    ET_DF[\"Genesis Time\"] = Birth_Times\n",
    "    ET_DF[\"Dissipation Time\"] = Death_Times\n",
    "    ET_DF[\"Peak SLP\"] = Array[0]\n",
    "    ET_DF[\"Peak Lon\"] = Array[1]\n",
    "    ET_DF[\"Peak Lat\"] = Array[2]\n",
    "    ET_DF[\"Trop Peak SLP\"] = Array[3]\n",
    "    ET_DF[\"Trop Peak Lon\"] = Array[4]\n",
    "    ET_DF[\"Trop Peak Lat\"] = Array[5]\n",
    "    ET_DF[\"ET Begin SLP\"] = Array[6]\n",
    "    ET_DF[\"ET Begin Lon\"] = Array[7]\n",
    "    ET_DF[\"ET Begin Lat\"] = Array[8]\n",
    "    ET_DF[\"ET Complete SLP\"] = Array[9]\n",
    "    ET_DF[\"ET Complete Lon\"] = Array[10]\n",
    "    ET_DF[\"ET Complete Lat\"] = Array[11]\n",
    "    return (ET_DF)"
   ]
  },
  {
   "cell_type": "code",
   "execution_count": 36,
   "id": "c23c0ed4-ab64-42d8-88b6-df76f93a83d7",
   "metadata": {},
   "outputs": [
    {
     "name": "stdout",
     "output_type": "stream",
     "text": [
      "    index      Code  Name    Lon    Lat  SLP(hPa)  Winds(m/s)      B     VLT  \\\n",
      "0       0  TC190001  Alex -82.19  27.99   1015.45        13.9   4.71   37.04   \n",
      "1       1  TC190001  Alex -82.26  27.79   1015.45        13.8   6.18  -12.97   \n",
      "2       2  TC190001  Alex -82.33  27.58   1015.45        13.7   3.28   -8.22   \n",
      "3       3  TC190001  Alex -82.40  27.38   1015.45        13.7   3.45   -0.38   \n",
      "4       4  TC190001  Alex -82.46  28.31   1014.22        11.7   1.72    8.23   \n",
      "5       5  TC190001  Alex -83.53  27.86   1012.62        14.8   0.32   22.94   \n",
      "6       6  TC190001  Alex -82.89  27.96   1008.76        19.1   0.21   39.65   \n",
      "7       7  TC190001  Alex -83.82  27.88   1008.62        19.4   1.75   55.27   \n",
      "8       8  TC190001  Alex -83.53  27.86   1007.86        18.3  -0.94   69.00   \n",
      "9       9  TC190001  Alex -83.66  28.01   1005.88        24.0   2.62   79.44   \n",
      "10     10  TC190001  Alex -83.82  27.88   1003.74        24.7   6.06   87.97   \n",
      "11     11  TC190001  Alex -83.96  28.04   1003.81        21.7   5.16   87.89   \n",
      "12     12  TC190001  Alex -84.18  28.29   1003.34        22.5   8.58   83.53   \n",
      "13     13  TC190001  Alex -84.03  28.96   1004.62        18.5  13.78   78.25   \n",
      "14     14  TC190001  Alex -85.02  29.57   1002.32        20.3  14.52   71.19   \n",
      "15     15  TC190001  Alex -86.24  29.79   1003.27        19.6  14.95   62.70   \n",
      "16     16  TC190001  Alex -86.69  29.67   1002.44        21.0  14.54   60.99   \n",
      "17     17  TC190001  Alex -87.25  29.16   1004.50        17.7  10.17   63.24   \n",
      "18     18  TC190001  Alex -86.81  28.99   1003.38        17.8   3.46   77.12   \n",
      "19     19  TC190001  Alex -85.89  29.09   1002.59        22.8  -2.66   90.98   \n",
      "20     20  TC190001  Alex -85.87  29.38    998.56        22.8  -3.81  116.91   \n",
      "21     21  TC190001  Alex -85.62  29.61    997.13        26.0  -5.51  143.12   \n",
      "22     22  TC190001  Alex -85.18  29.43    991.09        30.7  -6.04  143.39   \n",
      "23     23  TC190001  Alex -84.91  29.95    987.41        35.6  -2.83  138.65   \n",
      "24     24  TC190001  Alex -85.42  30.52    992.72        25.6  -3.93  137.31   \n",
      "25     25  TC190001  Alex -85.82  30.45    998.09        21.2  -9.90  124.83   \n",
      "26     26  TC190001  Alex -85.80  30.93   1000.76        19.2  -9.25  110.61   \n",
      "27     27  TC190001  Alex -85.94  31.08   1002.83        17.1  -7.99  116.59   \n",
      "28     28  TC190001  Alex -86.57  31.27   1003.22        17.1  -4.17  118.98   \n",
      "29     29  TC190001  Alex -86.09  31.24   1003.75        18.3   2.27  118.34   \n",
      "30     30  TC190001  Alex -86.34  31.02   1003.19        15.8   4.07  122.93   \n",
      "31     31  TC190001  Alex -86.49  30.88   1002.98        17.6   6.53  116.89   \n",
      "32     32  TC190001  Alex -86.34  31.02   1000.72        18.7   5.11  109.59   \n",
      "33     33  TC190001  Alex -86.49  30.88   1002.02        19.4  -0.16  100.69   \n",
      "34     34  TC190001  Alex -86.73  31.13   1002.59        13.8  -3.65   93.34   \n",
      "35     35  TC190001  Alex -86.87  31.28   1004.90        14.9  -2.10   80.95   \n",
      "36     36  TC190001  Alex -87.40  31.85   1005.71        13.1  -3.41   74.07   \n",
      "37     37  TC190001  Alex -88.09  32.26   1006.78        11.5  -2.62   72.50   \n",
      "38     38  TC190001  Alex -88.72  32.44   1005.53        13.7  -1.24   74.55   \n",
      "39     39  TC190001  Alex -89.42  33.15   1005.28        12.3  -2.85   73.28   \n",
      "40     40  TC190001  Alex -90.28  33.72   1004.20        12.8  -5.34   71.60   \n",
      "41     41  TC190001  Alex -89.98  33.71   1005.31        13.8  -5.58   71.69   \n",
      "42     42  TC190001  Alex -90.02  34.77   1005.47        13.8  -8.61   78.35   \n",
      "43     43  TC190001  Alex -90.75  35.18   1005.60        13.4 -12.17   83.18   \n",
      "44     44  TC190001  Alex -90.77  35.48   1003.85        13.1 -10.92   88.90   \n",
      "45     45  TC190001  Alex -90.96  36.10   1003.50        14.8  -7.23   98.93   \n",
      "46     46  TC190001  Alex -91.62  36.27   1001.90        13.8  -7.87  106.15   \n",
      "47     47  TC190001  Alex -91.12  36.26   1002.01        15.8  -6.87  101.30   \n",
      "48     48  TC190001  Alex -90.84  36.54   1002.33        14.9  -0.56   92.59   \n",
      "49     49  TC190001  Alex -91.11  36.78   1003.66        15.3  -2.40   85.56   \n",
      "50     50  TC190001  Alex -90.67  36.39   1004.93        14.5  -5.00   80.23   \n",
      "51     51  TC190001  Alex -90.31  37.05   1006.71        14.2  -2.18   75.18   \n",
      "52     52  TC190001  Alex -90.08  37.27   1006.87        16.1  -1.87   68.24   \n",
      "53     53  TC190001  Alex -90.31  37.05   1008.72        14.4  -1.75   57.15   \n",
      "54     54  TC190001  Alex -90.08  37.27   1010.12        14.1   4.59   39.76   \n",
      "55     55  TC190001  Alex -90.31  37.05   1011.32        11.4  10.05   18.39   \n",
      "56     56  TC190001  Alex -90.50  36.75   1013.19        10.9  12.43    2.65   \n",
      "57     57  TC190001  Alex -90.75  36.25   1015.57         9.6  18.74   -8.00   \n",
      "58     58  TC190001  Alex -90.75  36.00   1015.96        12.2  19.21  -12.36   \n",
      "\n",
      "       VUT             Time(Z)    Storm Phase  \n",
      "0   -36.64 1900-06-19 12:00:00       Tropical  \n",
      "1   -23.15 1900-06-19 18:00:00       Tropical  \n",
      "2   -18.60 1900-06-20 00:00:00       Tropical  \n",
      "3   -18.54 1900-06-20 06:00:00       Tropical  \n",
      "4    -4.21 1900-06-20 12:00:00       Tropical  \n",
      "5    -0.35 1900-06-20 18:00:00       Tropical  \n",
      "6    14.13 1900-06-21 00:00:00       Tropical  \n",
      "7    22.64 1900-06-21 06:00:00       Tropical  \n",
      "8    28.63 1900-06-21 12:00:00       Tropical  \n",
      "9    24.97 1900-06-21 18:00:00       Tropical  \n",
      "10   26.71 1900-06-22 00:00:00       Tropical  \n",
      "11   20.48 1900-06-22 06:00:00       Tropical  \n",
      "12   14.27 1900-06-22 12:00:00       Tropical  \n",
      "13    8.01 1900-06-22 18:00:00       Tropical  \n",
      "14   14.59 1900-06-23 00:00:00       Tropical  \n",
      "15   19.23 1900-06-23 06:00:00       Tropical  \n",
      "16   30.02 1900-06-23 12:00:00       Tropical  \n",
      "17   42.84 1900-06-23 18:00:00       Tropical  \n",
      "18   44.53 1900-06-24 00:00:00       Tropical  \n",
      "19   52.89 1900-06-24 06:00:00       Tropical  \n",
      "20   61.03 1900-06-24 12:00:00       Tropical  \n",
      "21   75.46 1900-06-24 18:00:00       Tropical  \n",
      "22   98.28 1900-06-25 00:00:00       Tropical  \n",
      "23  123.23 1900-06-25 06:00:00       Tropical  \n",
      "24  125.99 1900-06-25 12:00:00       Tropical  \n",
      "25  116.76 1900-06-25 18:00:00       Tropical  \n",
      "26   93.74 1900-06-26 00:00:00       Tropical  \n",
      "27   65.60 1900-06-26 06:00:00       Tropical  \n",
      "28   44.91 1900-06-26 12:00:00       Tropical  \n",
      "29   22.04 1900-06-26 18:00:00       Tropical  \n",
      "30   19.18 1900-06-27 00:00:00       Tropical  \n",
      "31   23.25 1900-06-27 06:00:00       Tropical  \n",
      "32   23.63 1900-06-27 12:00:00       Tropical  \n",
      "33   33.13 1900-06-27 18:00:00       Tropical  \n",
      "34   47.89 1900-06-28 00:00:00       Tropical  \n",
      "35   49.11 1900-06-28 06:00:00       Tropical  \n",
      "36   54.89 1900-06-28 12:00:00       Tropical  \n",
      "37   54.78 1900-06-28 18:00:00       Tropical  \n",
      "38   41.68 1900-06-29 00:00:00       Tropical  \n",
      "39   42.53 1900-06-29 06:00:00       Tropical  \n",
      "40   50.23 1900-06-29 12:00:00       Tropical  \n",
      "41   44.80 1900-06-29 18:00:00       Tropical  \n",
      "42   43.83 1900-06-30 00:00:00       Tropical  \n",
      "43   47.88 1900-06-30 06:00:00       Tropical  \n",
      "44   41.28 1900-06-30 12:00:00       Tropical  \n",
      "45   24.76 1900-06-30 18:00:00       Tropical  \n",
      "46   19.77 1900-07-01 00:00:00       Tropical  \n",
      "47   16.42 1900-07-01 06:00:00       Tropical  \n",
      "48   16.97 1900-07-01 12:00:00       Tropical  \n",
      "49   -0.88 1900-07-01 18:00:00       Tropical  \n",
      "50   -7.54 1900-07-02 00:00:00       Tropical  \n",
      "51  -18.65 1900-07-02 06:00:00       Tropical  \n",
      "52  -23.12 1900-07-02 12:00:00       Tropical  \n",
      "53  -31.71 1900-07-02 18:00:00       Tropical  \n",
      "54  -19.70 1900-07-03 00:00:00       Tropical  \n",
      "55  -10.79 1900-07-03 06:00:00       Tropical  \n",
      "56   -2.00 1900-07-03 12:00:00       Tropical  \n",
      "57   -0.20 1900-07-03 18:00:00  Extratropical  \n",
      "58    2.47 1900-07-04 00:00:00  Extratropical  \n"
     ]
    },
    {
     "ename": "KeyError",
     "evalue": "0",
     "output_type": "error",
     "traceback": [
      "\u001b[0;31m---------------------------------------------------------------------------\u001b[0m",
      "\u001b[0;31mKeyError\u001b[0m                                  Traceback (most recent call last)",
      "File \u001b[0;32m/glade/u/apps/opt/conda/envs/npl-2023b/lib/python3.10/site-packages/pandas/core/indexes/base.py:3653\u001b[0m, in \u001b[0;36mIndex.get_loc\u001b[0;34m(self, key)\u001b[0m\n\u001b[1;32m   3652\u001b[0m \u001b[38;5;28;01mtry\u001b[39;00m:\n\u001b[0;32m-> 3653\u001b[0m     \u001b[38;5;28;01mreturn\u001b[39;00m \u001b[38;5;28;43mself\u001b[39;49m\u001b[38;5;241;43m.\u001b[39;49m\u001b[43m_engine\u001b[49m\u001b[38;5;241;43m.\u001b[39;49m\u001b[43mget_loc\u001b[49m\u001b[43m(\u001b[49m\u001b[43mcasted_key\u001b[49m\u001b[43m)\u001b[49m\n\u001b[1;32m   3654\u001b[0m \u001b[38;5;28;01mexcept\u001b[39;00m \u001b[38;5;167;01mKeyError\u001b[39;00m \u001b[38;5;28;01mas\u001b[39;00m err:\n",
      "File \u001b[0;32m/glade/u/apps/opt/conda/envs/npl-2023b/lib/python3.10/site-packages/pandas/_libs/index.pyx:147\u001b[0m, in \u001b[0;36mpandas._libs.index.IndexEngine.get_loc\u001b[0;34m()\u001b[0m\n",
      "File \u001b[0;32m/glade/u/apps/opt/conda/envs/npl-2023b/lib/python3.10/site-packages/pandas/_libs/index.pyx:176\u001b[0m, in \u001b[0;36mpandas._libs.index.IndexEngine.get_loc\u001b[0;34m()\u001b[0m\n",
      "File \u001b[0;32mpandas/_libs/hashtable_class_helper.pxi:7080\u001b[0m, in \u001b[0;36mpandas._libs.hashtable.PyObjectHashTable.get_item\u001b[0;34m()\u001b[0m\n",
      "File \u001b[0;32mpandas/_libs/hashtable_class_helper.pxi:7088\u001b[0m, in \u001b[0;36mpandas._libs.hashtable.PyObjectHashTable.get_item\u001b[0;34m()\u001b[0m\n",
      "\u001b[0;31mKeyError\u001b[0m: 0",
      "\nThe above exception was the direct cause of the following exception:\n",
      "\u001b[0;31mKeyError\u001b[0m                                  Traceback (most recent call last)",
      "Cell \u001b[0;32mIn[36], line 2\u001b[0m\n\u001b[1;32m      1\u001b[0m \u001b[38;5;66;03m# Apply Function\u001b[39;00m\n\u001b[0;32m----> 2\u001b[0m Control_ET_V2 \u001b[38;5;241m=\u001b[39m \u001b[43mET_Variables\u001b[49m\u001b[43m(\u001b[49m\u001b[43mControl_Data_V4\u001b[49m\u001b[43m,\u001b[49m\u001b[43m \u001b[49m\u001b[43mControl_ET_V1\u001b[49m\u001b[43m)\u001b[49m\n\u001b[1;32m      3\u001b[0m RCP45_ET_V2 \u001b[38;5;241m=\u001b[39m ET_Variables(RCP45_Data_V4, RCP45_ET_V1)\n\u001b[1;32m      4\u001b[0m RCP85_ET_V2 \u001b[38;5;241m=\u001b[39m ET_Variables(RCP85_Data_V4, RCP85_ET_V1)\n",
      "Cell \u001b[0;32mIn[35], line 16\u001b[0m, in \u001b[0;36mET_Variables\u001b[0;34m(Main_DF, ET_DF_Orig)\u001b[0m\n\u001b[1;32m     13\u001b[0m         \u001b[38;5;28mprint\u001b[39m (Storm)\n\u001b[1;32m     14\u001b[0m \u001b[38;5;66;03m#\u001b[39;00m\n\u001b[1;32m     15\u001b[0m \u001b[38;5;66;03m# Find Genesis and Dissipation Time\u001b[39;00m\n\u001b[0;32m---> 16\u001b[0m         Birth_Time \u001b[38;5;241m=\u001b[39m \u001b[43mStorm\u001b[49m\u001b[43m[\u001b[49m\u001b[38;5;241;43m0\u001b[39;49m\u001b[43m]\u001b[49m[\u001b[38;5;124m\"\u001b[39m\u001b[38;5;124mTime(Z)\u001b[39m\u001b[38;5;124m\"\u001b[39m]\n\u001b[1;32m     17\u001b[0m         Death_Time \u001b[38;5;241m=\u001b[39m Storm[\u001b[38;5;28mlen\u001b[39m(Storm)\u001b[38;5;241m-\u001b[39m\u001b[38;5;241m1\u001b[39m][\u001b[38;5;124m\"\u001b[39m\u001b[38;5;124mTime(Z)\u001b[39m\u001b[38;5;124m\"\u001b[39m]\n\u001b[1;32m     18\u001b[0m         Birth_Times\u001b[38;5;241m.\u001b[39mappend(Birth_Time)\n",
      "File \u001b[0;32m/glade/u/apps/opt/conda/envs/npl-2023b/lib/python3.10/site-packages/pandas/core/frame.py:3761\u001b[0m, in \u001b[0;36mDataFrame.__getitem__\u001b[0;34m(self, key)\u001b[0m\n\u001b[1;32m   3759\u001b[0m \u001b[38;5;28;01mif\u001b[39;00m \u001b[38;5;28mself\u001b[39m\u001b[38;5;241m.\u001b[39mcolumns\u001b[38;5;241m.\u001b[39mnlevels \u001b[38;5;241m>\u001b[39m \u001b[38;5;241m1\u001b[39m:\n\u001b[1;32m   3760\u001b[0m     \u001b[38;5;28;01mreturn\u001b[39;00m \u001b[38;5;28mself\u001b[39m\u001b[38;5;241m.\u001b[39m_getitem_multilevel(key)\n\u001b[0;32m-> 3761\u001b[0m indexer \u001b[38;5;241m=\u001b[39m \u001b[38;5;28;43mself\u001b[39;49m\u001b[38;5;241;43m.\u001b[39;49m\u001b[43mcolumns\u001b[49m\u001b[38;5;241;43m.\u001b[39;49m\u001b[43mget_loc\u001b[49m\u001b[43m(\u001b[49m\u001b[43mkey\u001b[49m\u001b[43m)\u001b[49m\n\u001b[1;32m   3762\u001b[0m \u001b[38;5;28;01mif\u001b[39;00m is_integer(indexer):\n\u001b[1;32m   3763\u001b[0m     indexer \u001b[38;5;241m=\u001b[39m [indexer]\n",
      "File \u001b[0;32m/glade/u/apps/opt/conda/envs/npl-2023b/lib/python3.10/site-packages/pandas/core/indexes/base.py:3655\u001b[0m, in \u001b[0;36mIndex.get_loc\u001b[0;34m(self, key)\u001b[0m\n\u001b[1;32m   3653\u001b[0m     \u001b[38;5;28;01mreturn\u001b[39;00m \u001b[38;5;28mself\u001b[39m\u001b[38;5;241m.\u001b[39m_engine\u001b[38;5;241m.\u001b[39mget_loc(casted_key)\n\u001b[1;32m   3654\u001b[0m \u001b[38;5;28;01mexcept\u001b[39;00m \u001b[38;5;167;01mKeyError\u001b[39;00m \u001b[38;5;28;01mas\u001b[39;00m err:\n\u001b[0;32m-> 3655\u001b[0m     \u001b[38;5;28;01mraise\u001b[39;00m \u001b[38;5;167;01mKeyError\u001b[39;00m(key) \u001b[38;5;28;01mfrom\u001b[39;00m \u001b[38;5;21;01merr\u001b[39;00m\n\u001b[1;32m   3656\u001b[0m \u001b[38;5;28;01mexcept\u001b[39;00m \u001b[38;5;167;01mTypeError\u001b[39;00m:\n\u001b[1;32m   3657\u001b[0m     \u001b[38;5;66;03m# If we have a listlike key, _check_indexing_error will raise\u001b[39;00m\n\u001b[1;32m   3658\u001b[0m     \u001b[38;5;66;03m#  InvalidIndexError. Otherwise we fall through and re-raise\u001b[39;00m\n\u001b[1;32m   3659\u001b[0m     \u001b[38;5;66;03m#  the TypeError.\u001b[39;00m\n\u001b[1;32m   3660\u001b[0m     \u001b[38;5;28mself\u001b[39m\u001b[38;5;241m.\u001b[39m_check_indexing_error(key)\n",
      "\u001b[0;31mKeyError\u001b[0m: 0"
     ]
    }
   ],
   "source": [
    "# Apply Function\n",
    "Control_ET_V2 = ET_Variables(Control_Data_V4, Control_ET_V1)\n",
    "RCP45_ET_V2 = ET_Variables(RCP45_Data_V4, RCP45_ET_V1)\n",
    "RCP85_ET_V2 = ET_Variables(RCP85_Data_V4, RCP85_ET_V1)"
   ]
  },
  {
   "cell_type": "code",
   "execution_count": null,
   "id": "735309eb-bf5c-4280-a46a-4b5d314f15db",
   "metadata": {},
   "outputs": [],
   "source": [
    "print (len(Control_ET_V2), len(RCP45_ET_V2), len(RCP85_ET_V2))"
   ]
  },
  {
   "cell_type": "code",
   "execution_count": null,
   "id": "8b02ff6f-ff8e-465a-b616-838954f71e86",
   "metadata": {},
   "outputs": [],
   "source": []
  },
  {
   "cell_type": "code",
   "execution_count": null,
   "id": "725aa1b0-daac-42f1-a4c1-bc3f1e4af43e",
   "metadata": {},
   "outputs": [],
   "source": []
  },
  {
   "cell_type": "code",
   "execution_count": null,
   "id": "715e60f9-2c70-423d-8ce5-c584a4582d18",
   "metadata": {
    "editable": true,
    "slideshow": {
     "slide_type": ""
    },
    "tags": []
   },
   "outputs": [],
   "source": [
    "# Filter Out Storms That Have Not Been Tropical For At Least 48 Hours\n",
    "def Tropical_Filter(Data_DF_Orig, ET_DF_Orig, Codes_DF_Orig):\n",
    "    Filtered_ET_0 = ET_DF_Orig[ET_DF_Orig[\"Trans Type\"] > -728].reset_index().drop(\"index\", axis=1)\n",
    "# Filter Out Storms With Peak SLP >= 1000hPa\n",
    "    Filtered_ET = Filtered_ET_0[Filtered_ET_0[\"Peak SLP\"] < 1000].reset_index().drop(\"index\", axis=1)\n",
    "    Code_List = Filtered_ET[\"Code\"]\n",
    "    Filtered_DF = Data_DF_Orig[Data_DF_Orig[\"Code\"].isin(Code_List)].reset_index().drop(\"index\", axis=1)\n",
    "    Filtered_Codes = Codes_DF_Orig[Codes_DF_Orig[\"New Code\"].isin(Code_List)].reset_index().drop(\"index\", axis=1)\n",
    "    return (Filtered_DF, Filtered_ET, Filtered_Codes)"
   ]
  },
  {
   "cell_type": "code",
   "execution_count": null,
   "id": "05b1966b-9210-4971-a86f-63b96012b0cb",
   "metadata": {},
   "outputs": [],
   "source": [
    "# Apply Function\n",
    "Control_Data_V5, Control_ET_V5, Control_Codes_V5 = Tropical_Filter(Control_Data_V4, Control_ET_V2, Control_Codes_V2)\n",
    "RCP45_Data_V5, RCP45_ET_V5, RCP45_Codes_V5 = Tropical_Filter(RCP45_Data_V4, RCP45_ET_V2, RCP45_Codes_V2)\n",
    "RCP85_Data_V5, RCP85_ET_V5, RCP85_Codes_V5 = Tropical_Filter(RCP85_Data_V4, RCP85_ET_V2, RCP85_Codes_V2)"
   ]
  },
  {
   "cell_type": "code",
   "execution_count": null,
   "id": "00bec582-cf3d-49ae-b8a4-77d299718ae3",
   "metadata": {},
   "outputs": [],
   "source": [
    "print (len(Control_ET_V5), len(RCP45_ET_V5), len(RCP85_ET_V5))"
   ]
  },
  {
   "cell_type": "code",
   "execution_count": null,
   "id": "11667056-8b73-48aa-ab1d-ce1629a4d08d",
   "metadata": {},
   "outputs": [],
   "source": []
  },
  {
   "cell_type": "code",
   "execution_count": null,
   "id": "f732465f-a161-4f41-a7e3-269dc91c2008",
   "metadata": {},
   "outputs": [],
   "source": []
  },
  {
   "cell_type": "code",
   "execution_count": null,
   "id": "90be27ed-8cd5-4d76-bf9e-3bb5914ec731",
   "metadata": {},
   "outputs": [],
   "source": []
  },
  {
   "cell_type": "code",
   "execution_count": null,
   "id": "f0ffa22a-6872-49c5-a3c5-9554b9105ae0",
   "metadata": {},
   "outputs": [],
   "source": [
    "# Count Trans Type\n",
    "Control_ET_Count = numpy.zeros(3)\n",
    "RCP45_ET_Count = numpy.zeros(3)\n",
    "RCP85_ET_Count = numpy.zeros(3)\n",
    "Control_ET_Count[0] = len(Control_ET_V5[Control_ET_V5[\"Trans Type\"] <= -1])\n",
    "Control_ET_Count[1] = len(Control_ET_V5[Control_ET_V5[\"Trans Type\"] == 0])\n",
    "Control_ET_Count[2] = len(Control_ET_V5[Control_ET_V5[\"Trans Type\"] >= 1])\n",
    "RCP45_ET_Count[0] = len(RCP45_ET_V5[RCP45_ET_V5[\"Trans Type\"] <= -1])\n",
    "RCP45_ET_Count[1] = len(RCP45_ET_V5[RCP45_ET_V5[\"Trans Type\"] == 0])\n",
    "RCP45_ET_Count[2] = len(RCP45_ET_V5[RCP45_ET_V5[\"Trans Type\"] >= 1])\n",
    "RCP85_ET_Count[0] = len(RCP85_ET_V5[RCP85_ET_V5[\"Trans Type\"] <= -1])\n",
    "RCP85_ET_Count[1] = len(RCP85_ET_V5[RCP85_ET_V5[\"Trans Type\"] == 0])\n",
    "RCP85_ET_Count[2] = len(RCP85_ET_V5[RCP85_ET_V5[\"Trans Type\"] >= 1])"
   ]
  },
  {
   "cell_type": "code",
   "execution_count": null,
   "id": "7fc3895a-5c4d-4602-bb8b-d8c2d86c4de1",
   "metadata": {},
   "outputs": [],
   "source": [
    "# Calculate Percentages of ET Completion\n",
    "Control_ET_Percents = Control_ET_Count / len(Control_ET_V5)\n",
    "RCP45_ET_Percents = RCP45_ET_Count / len(RCP45_ET_V5)\n",
    "RCP85_ET_Percents = RCP85_ET_Count / len(RCP85_ET_V5)\n",
    "print (Control_ET_Percents)\n",
    "print (RCP45_ET_Percents)\n",
    "print (RCP85_ET_Percents)"
   ]
  },
  {
   "cell_type": "code",
   "execution_count": null,
   "id": "1c2847cd-6915-4f32-a02f-c24a32ad0326",
   "metadata": {},
   "outputs": [],
   "source": [
    "# Show Percentages of ET Completion\n",
    "ET_Percents = pandas.DataFrame({\"Trans Type\": [\"No ET\", \"ET Incomplete\", \"ET Complete\"], \\\n",
    "\"Control\": Control_ET_Percents, \"RCP4.5\": RCP45_ET_Percents, \"RCP8.5\": RCP85_ET_Percents})\n",
    "ET_Percents"
   ]
  },
  {
   "cell_type": "code",
   "execution_count": null,
   "id": "75595edd-5ce4-4fc4-a7c5-06f583430b6c",
   "metadata": {},
   "outputs": [],
   "source": []
  },
  {
   "cell_type": "code",
   "execution_count": null,
   "id": "ddb32ff6-6195-4f57-837d-eb10c54eec04",
   "metadata": {},
   "outputs": [],
   "source": []
  },
  {
   "cell_type": "code",
   "execution_count": null,
   "id": "db54e064-9623-47aa-be29-d774f29dcf26",
   "metadata": {},
   "outputs": [],
   "source": []
  },
  {
   "cell_type": "code",
   "execution_count": null,
   "id": "f80f9d3c-9f66-470c-b980-0af527f6f8f0",
   "metadata": {
    "editable": true,
    "slideshow": {
     "slide_type": ""
    },
    "tags": []
   },
   "outputs": [],
   "source": [
    "# Filter For Storms That Completed ET Transition\n",
    "def ET_Filter(Data_DF_Orig, ET_DF_Orig):\n",
    "    ET_DF = ET_DF_Orig[ET_DF_Orig[\"Trans Type\"] > 0].reset_index().drop(\"index\", axis=1)\n",
    "    Code_List = ET_DF[\"Code\"]\n",
    "    Filtered_DF = Data_DF_Orig[Data_DF_Orig[\"Code\"].isin(Code_List)].reset_index().drop(\"index\", axis=1)\n",
    "    return (Filtered_DF, ET_DF)"
   ]
  },
  {
   "cell_type": "code",
   "execution_count": null,
   "id": "25c215f0-ee34-4538-9542-3b04178103f6",
   "metadata": {},
   "outputs": [],
   "source": [
    "# Apply Function\n",
    "Control_Data_V6, Control_ET_V6 = ET_Filter(Control_Data_V5, Control_ET_V5)\n",
    "RCP45_Data_V6, RCP45_ET_V6 = ET_Filter(RCP45_Data_V5, RCP45_ET_V5)\n",
    "RCP85_Data_V6, RCP85_ET_V6 = ET_Filter(RCP85_Data_V5, RCP85_ET_V5)"
   ]
  },
  {
   "cell_type": "code",
   "execution_count": null,
   "id": "e510a67a-3598-4792-aa19-fd7c8e35222e",
   "metadata": {},
   "outputs": [],
   "source": [
    "print (len(Control_ET_V6), len(RCP45_ET_V6), len(RCP85_ET_V6))"
   ]
  },
  {
   "cell_type": "code",
   "execution_count": null,
   "id": "1725b2b5-b80a-43c7-b3cf-7917af2a2297",
   "metadata": {},
   "outputs": [],
   "source": []
  },
  {
   "cell_type": "code",
   "execution_count": null,
   "id": "1dcb6342-16d1-4767-b10f-42259e04e08f",
   "metadata": {},
   "outputs": [],
   "source": []
  },
  {
   "cell_type": "code",
   "execution_count": null,
   "id": "2f319f5a-a89f-4745-82b2-2f6fa23d642b",
   "metadata": {},
   "outputs": [],
   "source": []
  },
  {
   "cell_type": "code",
   "execution_count": null,
   "id": "df594646-b716-4d0c-ba88-4a239009d118",
   "metadata": {},
   "outputs": [],
   "source": [
    "# Filter For Storms With Trop Peak SLP <= 990, ET Begin SLP <= 1008 and ET Complete SLP <= 1008\n",
    "def SLP_Filter(Data_DF_Orig, ET_DF_Orig):\n",
    "    ET_DF = ET_DF_Orig[(ET_DF_Orig[\"Trop Peak SLP\"] <= 990) & (ET_DF_Orig[\"ET Begin SLP\"] <= 1008) & \\\n",
    "    (ET_DF_Orig[\"ET Complete SLP\"] <= 1008)].reset_index().drop(\"index\", axis=1)\n",
    "    Code_List = ET_DF[\"Code\"]\n",
    "    Filtered_DF = Data_DF_Orig[Data_DF_Orig[\"Code\"].isin(Code_List)].reset_index().drop(\"index\", axis=1)\n",
    "    return (Filtered_DF, ET_DF)"
   ]
  },
  {
   "cell_type": "code",
   "execution_count": null,
   "id": "a508bb2c-5ef1-498e-9230-95a3651a9cd5",
   "metadata": {},
   "outputs": [],
   "source": [
    "# Apply Function\n",
    "Control_Data_V7, Control_ET_V7 = SLP_Filter(Control_Data_V6, Control_ET_V6)\n",
    "RCP45_Data_V7, RCP45_ET_V7 = SLP_Filter(RCP45_Data_V6, RCP45_ET_V6)\n",
    "RCP85_Data_V7, RCP85_ET_V7 = SLP_Filter(RCP85_Data_V6, RCP85_ET_V6)"
   ]
  },
  {
   "cell_type": "code",
   "execution_count": null,
   "id": "579a8100-7e2e-44d1-842d-845ff83a0546",
   "metadata": {},
   "outputs": [],
   "source": [
    "print (len(Control_ET_V7), len(RCP45_ET_V7), len(RCP85_ET_V7))"
   ]
  },
  {
   "cell_type": "code",
   "execution_count": null,
   "id": "af306b0b-edb5-4f4b-990c-1cf1f34846b1",
   "metadata": {},
   "outputs": [],
   "source": []
  },
  {
   "cell_type": "code",
   "execution_count": null,
   "id": "05efa345-66ac-4b65-834b-b5d57d50e339",
   "metadata": {},
   "outputs": [],
   "source": []
  },
  {
   "cell_type": "code",
   "execution_count": null,
   "id": "67e0cdd6-8aff-4f1c-b56f-933484e6ad25",
   "metadata": {},
   "outputs": [],
   "source": [
    "# Filter For Storms Based on ET Location\n",
    "def ET_Loc_Filter(Data_DF_Orig, ET_DF_Orig):\n",
    "# Filter Out ETs Near European Coast\n",
    "    ET_DF_Filt = ET_DF_Orig[(ET_DF_Orig[\"ET Complete Lon\"] < -12)]\n",
    "# Filter Out ETs Deep Inland Within North America\n",
    "    ET_DF_Filt = ET_DF_Filt[(ET_DF_Filt[\"ET Begin Lat\"] < 31) | (ET_DF_Filt[\"ET Begin Lon\"] > -83)]\n",
    "    ET_DF_Filt = ET_DF_Filt[(ET_DF_Filt[\"ET Begin Lat\"] < 34) | (ET_DF_Filt[\"ET Begin Lon\"] > -81)]\n",
    "    ET_DF_Filt = ET_DF_Filt[(ET_DF_Filt[\"ET Begin Lat\"] < 36) | (ET_DF_Filt[\"ET Begin Lon\"] > -78)]\n",
    "    ET_DF_Filt = ET_DF_Filt[(ET_DF_Filt[\"ET Begin Lat\"] < 40) | (ET_DF_Filt[\"ET Begin Lon\"] > -76)]\n",
    "    ET_DF_Filt = ET_DF_Filt[(ET_DF_Filt[\"ET Begin Lat\"] < 45) | (ET_DF_Filt[\"ET Begin Lon\"] > -72)]\n",
    "    ET_DF_Filt = ET_DF_Filt[(ET_DF_Filt[\"ET Begin Lat\"] < 49) | (ET_DF_Filt[\"ET Begin Lon\"] > -68)]\n",
    "    ET_DF_Filt = ET_DF_Filt[(ET_DF_Filt[\"ET Begin Lat\"] < 52) | (ET_DF_Filt[\"ET Begin Lon\"] > -62)]\n",
    "    ET_DF_Filt = ET_DF_Filt[(ET_DF_Filt[\"ET Complete Lat\"] < 31) | (ET_DF_Filt[\"ET Complete Lon\"] > -83)]\n",
    "    ET_DF_Filt = ET_DF_Filt[(ET_DF_Filt[\"ET Complete Lat\"] < 34) | (ET_DF_Filt[\"ET Complete Lon\"] > -81)]\n",
    "    ET_DF_Filt = ET_DF_Filt[(ET_DF_Filt[\"ET Complete Lat\"] < 36) | (ET_DF_Filt[\"ET Complete Lon\"] > -78)]\n",
    "    ET_DF_Filt = ET_DF_Filt[(ET_DF_Filt[\"ET Complete Lat\"] < 40) | (ET_DF_Filt[\"ET Complete Lon\"] > -76)]\n",
    "    ET_DF_Filt = ET_DF_Filt[(ET_DF_Filt[\"ET Complete Lat\"] < 45) | (ET_DF_Filt[\"ET Complete Lon\"] > -72)]\n",
    "    ET_DF_Filt = ET_DF_Filt[(ET_DF_Filt[\"ET Complete Lat\"] < 49) | (ET_DF_Filt[\"ET Complete Lon\"] > -68)]\n",
    "    ET_DF_Filt = ET_DF_Filt[(ET_DF_Filt[\"ET Complete Lat\"] < 52) | (ET_DF_Filt[\"ET Complete Lon\"] > -62)]\n",
    "    ET_DF = ET_DF_Filt.reset_index().drop(\"index\", axis=1)\n",
    "    Code_List = ET_DF[\"Code\"]\n",
    "    Filtered_DF = Data_DF_Orig[Data_DF_Orig[\"Code\"].isin(Code_List)].reset_index().drop(\"index\", axis=1)\n",
    "    return (Filtered_DF, ET_DF)"
   ]
  },
  {
   "cell_type": "code",
   "execution_count": null,
   "id": "8bd794f1-e51c-44bf-9a5e-7811d669b4c0",
   "metadata": {},
   "outputs": [],
   "source": [
    "# Apply Function\n",
    "Control_Data_V8, Control_ET_V8 = ET_Loc_Filter(Control_Data_V7, Control_ET_V7)\n",
    "RCP45_Data_V8, RCP45_ET_V8 = ET_Loc_Filter(RCP45_Data_V7, RCP45_ET_V7)\n",
    "RCP85_Data_V8, RCP85_ET_V8 = ET_Loc_Filter(RCP85_Data_V7, RCP85_ET_V7)"
   ]
  },
  {
   "cell_type": "code",
   "execution_count": null,
   "id": "6d2c0f08-3dfb-454d-aed9-627e23ee70ae",
   "metadata": {},
   "outputs": [],
   "source": [
    "print (len(Control_ET_V8), len(RCP45_ET_V8), len(RCP85_ET_V8))"
   ]
  },
  {
   "cell_type": "code",
   "execution_count": null,
   "id": "c97fb1a6-6b83-4a23-827e-5bcf98b7ae6a",
   "metadata": {},
   "outputs": [],
   "source": []
  },
  {
   "cell_type": "code",
   "execution_count": null,
   "id": "ac99ed0c-7aa3-49bd-a401-69029024932f",
   "metadata": {},
   "outputs": [],
   "source": []
  },
  {
   "cell_type": "code",
   "execution_count": null,
   "id": "d105efda-aa39-45b4-bc2a-aea72cb927dd",
   "metadata": {},
   "outputs": [],
   "source": [
    "# Filter For Storms Based on Movement Direction\n",
    "def ET_Direction_Filter(Data_DF_Orig, ET_DF_Orig):\n",
    "# Only Storms That Move Northeastward Between ET Begin and ET Complete\n",
    "    ET_DF_Filt = ET_DF_Orig[(ET_DF_Orig[\"ET Begin Lat\"] <= ET_DF_Orig[\"ET Complete Lat\"]) \\\n",
    "    & (ET_DF_Orig[\"ET Begin Lon\"] <= ET_DF_Orig[\"ET Complete Lon\"])]\n",
    "# For Storms Where ET Begin == ET Complete\n",
    "    ET_DF_Unsure = ET_DF_Filt[(ET_DF_Filt[\"ET Begin Lat\"] == ET_DF_Filt[\"ET Complete Lat\"]) \\\n",
    "    & (ET_DF_Filt[\"ET Begin Lon\"] == ET_DF_Filt[\"ET Complete Lon\"])]\n",
    "    Unsure_Codes = list(ET_DF_Unsure[\"Code\"])\n",
    "    Codes_Remove = []\n",
    "# Check If Storm Move Northeastward Between Last Tropical Datapoint and ET Complete\n",
    "    for i in range(len(Unsure_Codes)):\n",
    "        DF_Storm = Find_Storm(Data_DF_Orig, Unsure_Codes[i])\n",
    "        DF_Storm_TC = DF_Storm[DF_Storm[\"Storm Phase\"] == \"Tropical\"].reset_index()\n",
    "        DF_Storm_ExTC = DF_Storm[DF_Storm[\"Storm Phase\"] == \"Extratropical\"].reset_index()\n",
    "        if (DF_Storm_TC[\"Lat\"][len(DF_Storm_TC)-1] > DF_Storm_ExTC[\"Lat\"][0]) or \\\n",
    "        (DF_Storm_TC[\"Lon\"][len(DF_Storm_TC)-1] > DF_Storm_ExTC[\"Lon\"][0]):\n",
    "            Codes_Remove.append(Unsure_Codes[i])\n",
    "# Remove Filtered Out Storms\n",
    "    ET_DF = ET_DF_Filt[~ET_DF_Filt[\"Code\"].isin(Codes_Remove)].reset_index().drop(\"index\", axis=1)\n",
    "    Code_List = ET_DF[\"Code\"]\n",
    "    Filtered_DF = Data_DF_Orig[Data_DF_Orig[\"Code\"].isin(Code_List)].reset_index().drop(\"index\", axis=1)\n",
    "    return (Filtered_DF, ET_DF)"
   ]
  },
  {
   "cell_type": "code",
   "execution_count": null,
   "id": "d68f3fcc-b57b-416f-ba9b-e6d28ee8b9dc",
   "metadata": {},
   "outputs": [],
   "source": [
    "# Apply Function\n",
    "Control_Data_V9, Control_ET_V9 = ET_Direction_Filter(Control_Data_V8, Control_ET_V8)\n",
    "RCP45_Data_V9, RCP45_ET_V9 = ET_Direction_Filter(RCP45_Data_V8, RCP45_ET_V8)\n",
    "RCP85_Data_V9, RCP85_ET_V9 = ET_Direction_Filter(RCP85_Data_V8, RCP85_ET_V8)"
   ]
  },
  {
   "cell_type": "code",
   "execution_count": null,
   "id": "4e69a8ca-3042-4abb-a9e0-a5bdc2ed81a1",
   "metadata": {},
   "outputs": [],
   "source": [
    "print (len(Control_ET_V9), len(RCP45_ET_V9), len(RCP85_ET_V9))"
   ]
  },
  {
   "cell_type": "code",
   "execution_count": null,
   "id": "5c2631aa-873c-40b7-97d8-145102597592",
   "metadata": {},
   "outputs": [],
   "source": []
  },
  {
   "cell_type": "code",
   "execution_count": null,
   "id": "6fa2a2ca-898f-4a2d-978e-453a38f73496",
   "metadata": {},
   "outputs": [],
   "source": []
  },
  {
   "cell_type": "code",
   "execution_count": null,
   "id": "acb1c328-3a9b-4ce6-81c4-07006a62f993",
   "metadata": {},
   "outputs": [],
   "source": [
    "# Filter For Storms Based on Phase Space Parameters\n",
    "def Phase_Space_Filter(Data_DF_Orig, ET_DF_Orig):\n",
    "    Unsure_Codes = ET_DF_Orig[\"Code\"]\n",
    "    Codes_Remove = []\n",
    "    for i in range(len(Unsure_Codes)):\n",
    "        DF_Storm = Find_Storm(Data_DF_Orig, Unsure_Codes[i])\n",
    "        DF_Storm_TC = DF_Storm[DF_Storm[\"Storm Phase\"] == \"Tropical\"].reset_index()\n",
    "# Remove Storms With Trop Peak Outside Bottom Right Quadrant\n",
    "        Trop_Peak_SLP = numpy.min(DF_Storm_TC[\"SLP(hPa)\"])\n",
    "        for j in range(len(DF_Storm_TC)):\n",
    "            if DF_Storm_TC[\"SLP(hPa)\"][j] == Trop_Peak_SLP:\n",
    "                if (DF_Storm_TC[\"B\"][j] > 15) or (DF_Storm_TC[\"VLT\"][j] < 0):\n",
    "                    if Unsure_Codes[i] not in Codes_Remove:\n",
    "                        Codes_Remove.append(Unsure_Codes[i])\n",
    "# Remove Filtered Out Storms\n",
    "    ET_DF = ET_DF_Orig[~ET_DF_Orig[\"Code\"].isin(Codes_Remove)].reset_index().drop(\"index\", axis=1)\n",
    "    Code_List = ET_DF[\"Code\"]\n",
    "    Filtered_DF = Data_DF_Orig[Data_DF_Orig[\"Code\"].isin(Code_List)].reset_index().drop(\"index\", axis=1)\n",
    "#    print (Codes_Remove)\n",
    "    return (Filtered_DF, ET_DF)"
   ]
  },
  {
   "cell_type": "code",
   "execution_count": null,
   "id": "367483d9-4688-494a-883d-4e77867ca4e4",
   "metadata": {},
   "outputs": [],
   "source": [
    "# Apply Function\n",
    "Control_Data_V10, Control_ET_V10 = Phase_Space_Filter(Control_Data_V9, Control_ET_V9)\n",
    "RCP45_Data_V10, RCP45_ET_V10 = Phase_Space_Filter(RCP45_Data_V9, RCP45_ET_V9)\n",
    "RCP85_Data_V10, RCP85_ET_V10 = Phase_Space_Filter(RCP85_Data_V9, RCP85_ET_V9)"
   ]
  },
  {
   "cell_type": "code",
   "execution_count": null,
   "id": "7f0a001a-0941-4918-9756-84330f5c9184",
   "metadata": {},
   "outputs": [],
   "source": [
    "print (len(Control_ET_V10), len(RCP45_ET_V10), len(RCP85_ET_V10))"
   ]
  },
  {
   "cell_type": "code",
   "execution_count": null,
   "id": "a4b36a53-7910-49fc-9957-0959289e0f37",
   "metadata": {},
   "outputs": [],
   "source": []
  },
  {
   "cell_type": "code",
   "execution_count": null,
   "id": "2755b371-e6dc-4b01-a129-837a14721c1d",
   "metadata": {},
   "outputs": [],
   "source": []
  },
  {
   "cell_type": "code",
   "execution_count": null,
   "id": "2029a173-ecf1-4ec4-86d4-492f08a79b87",
   "metadata": {},
   "outputs": [],
   "source": [
    "# Filter For Storms Based on Tropical Peak SLP and Tropical Duration\n",
    "def Peak_SLP_Filter(Data_DF_Orig, ET_DF_Orig):\n",
    "    Unsure_Codes = list(ET_DF_Orig[\"Code\"])\n",
    "    Codes_Remove = []\n",
    "    for i in range(len(Unsure_Codes)):\n",
    "        DF_Storm = Find_Storm(Data_DF_Orig, Unsure_Codes[i])\n",
    "        DF_Storm_Trop = DF_Storm[DF_Storm[\"Storm Phase\"] == \"Tropical\"].reset_index()\n",
    "# Filter Out Storms With Genesis SLP - Tropical Peak SLP < 10:\n",
    "        if DF_Storm_Trop[\"SLP(hPa)\"][0] - numpy.min(DF_Storm_Trop[\"SLP(hPa)\"]) < 10 and Unsure_Codes[i] not in Codes_Remove:\n",
    "            Codes_Remove.append(Unsure_Codes[i])\n",
    "# Filter Out Storms With Tropical Duration < 72 hours:\n",
    "        elif len(DF_Storm_Trop[\"SLP(hPa)\"]) < 12 and Unsure_Codes[i] not in Codes_Remove:\n",
    "            Codes_Remove.append(Unsure_Codes[i])\n",
    "# Remove Filtered Out Storms\n",
    "    ET_DF = ET_DF_Orig[~ET_DF_Orig[\"Code\"].isin(Codes_Remove)].reset_index().drop(\"index\", axis=1)\n",
    "    Code_List = ET_DF[\"Code\"]\n",
    "    Filtered_DF = Data_DF_Orig[Data_DF_Orig[\"Code\"].isin(Code_List)].reset_index().drop(\"index\", axis=1)\n",
    "#    print (Codes_Remove)\n",
    "    return (Filtered_DF, ET_DF)"
   ]
  },
  {
   "cell_type": "code",
   "execution_count": null,
   "id": "17581574-6a9e-4fe5-8b96-bfe0a7efdd7b",
   "metadata": {},
   "outputs": [],
   "source": [
    "# Apply Function\n",
    "Control_Data_V11, Control_ET_V11 = Peak_SLP_Filter(Control_Data_V10, Control_ET_V10)\n",
    "RCP45_Data_V11, RCP45_ET_V11 = Peak_SLP_Filter(RCP45_Data_V10, RCP45_ET_V10)\n",
    "RCP85_Data_V11, RCP85_ET_V11 = Peak_SLP_Filter(RCP85_Data_V10, RCP85_ET_V10)"
   ]
  },
  {
   "cell_type": "code",
   "execution_count": null,
   "id": "c75d1a7d-7cb0-4c97-af2d-8ad1c39b4133",
   "metadata": {},
   "outputs": [],
   "source": [
    "print (len(Control_ET_V11), len(RCP45_ET_V11), len(RCP85_ET_V11))"
   ]
  },
  {
   "cell_type": "code",
   "execution_count": null,
   "id": "1a90e48c-0fe4-4015-95bf-9bd2e574af1f",
   "metadata": {},
   "outputs": [],
   "source": []
  },
  {
   "cell_type": "code",
   "execution_count": null,
   "id": "7e10886f-3e19-4ed4-8e31-a639e41ff7d0",
   "metadata": {},
   "outputs": [],
   "source": []
  },
  {
   "cell_type": "code",
   "execution_count": null,
   "id": "b754d9c1-9811-45a8-9be3-b11f22101564",
   "metadata": {},
   "outputs": [],
   "source": []
  },
  {
   "cell_type": "code",
   "execution_count": null,
   "id": "b933ea2e-71c8-4ed8-95d3-a57c8e19d1c1",
   "metadata": {},
   "outputs": [],
   "source": []
  },
  {
   "cell_type": "code",
   "execution_count": null,
   "id": "b16280c6-33a9-4dab-a132-f1f6c10cb417",
   "metadata": {},
   "outputs": [],
   "source": [
    "Incomplete_Codes = [\"TC191013\", \"TC191309\", \"TC192010\", \"TC192211\", \"TC192306\", \"TC192904\", \"TC193601\", \"TC194802\", \"TC195107\", \"TC195309\", \"TC195808\", \\\n",
    "\"TC200004\", \"TC201309\", \"TC202406\", \"TC202508\", \"TC202601\", \"TC203303\", \"TC203803\", \"TC204304\", \"TC206201\", \"TC206601\", \"TC207801\", \"TC208806\", \\\n",
    "\"TC210005\", \"TC211501\", \"TC212201\", \"TC213506\", \"TC214601\", \"TC214805\", \"TC215101\", \"TC215702\", \"TC216202\", \"TC216209\", \"TC218204\"]"
   ]
  },
  {
   "cell_type": "code",
   "execution_count": null,
   "id": "7e7b2e2f-0b72-45fa-9c32-8274db13ec07",
   "metadata": {},
   "outputs": [],
   "source": [
    "# Filter Out Storms With Incomplete Composite Data\n",
    "def Incomplete_Filter(Data_DF_Orig, ET_DF_Orig, Incomplete_Codes):\n",
    "    Unsure_Codes = list(ET_DF_Orig[\"Code\"])\n",
    "    Codes_Remove = []\n",
    "    for i in range(len(Unsure_Codes)):\n",
    "        if Unsure_Codes[i] in Incomplete_Codes:\n",
    "            Codes_Remove.append(Unsure_Codes[i])\n",
    "    ET_DF = ET_DF_Orig[~ET_DF_Orig[\"Code\"].isin(Codes_Remove)].reset_index().drop(\"index\", axis=1)\n",
    "    Code_List = ET_DF[\"Code\"]\n",
    "    Filtered_DF = Data_DF_Orig[Data_DF_Orig[\"Code\"].isin(Code_List)].reset_index().drop(\"index\", axis=1)\n",
    "#    print (Codes_Remove)\n",
    "    return (Filtered_DF, ET_DF)"
   ]
  },
  {
   "cell_type": "code",
   "execution_count": null,
   "id": "04ee639b-4a05-4a65-a311-2b583c50633c",
   "metadata": {},
   "outputs": [],
   "source": [
    "# Apply Function\n",
    "Control_Data_V12, Control_ET_V12 = Incomplete_Filter(Control_Data_V11, Control_ET_V11, Incomplete_Codes)\n",
    "RCP45_Data_V12, RCP45_ET_V12 = Incomplete_Filter(RCP45_Data_V11, RCP45_ET_V11, Incomplete_Codes)\n",
    "RCP85_Data_V12, RCP85_ET_V12 = Incomplete_Filter(RCP85_Data_V11, RCP85_ET_V11, Incomplete_Codes)"
   ]
  },
  {
   "cell_type": "code",
   "execution_count": null,
   "id": "4239770b-e0ca-415a-be3b-62bd22e20c21",
   "metadata": {},
   "outputs": [],
   "source": [
    "print (len(Control_ET_V12), len(RCP45_ET_V12), len(RCP85_ET_V12))"
   ]
  },
  {
   "cell_type": "code",
   "execution_count": null,
   "id": "df6e806b-dfe8-44ca-aba6-b2d6bbdf5022",
   "metadata": {},
   "outputs": [],
   "source": []
  },
  {
   "cell_type": "code",
   "execution_count": null,
   "id": "9460fc1c-8f7e-4233-9a34-c798dd34bb9c",
   "metadata": {},
   "outputs": [],
   "source": []
  },
  {
   "cell_type": "code",
   "execution_count": null,
   "id": "906f7e9f-f2d1-4d83-b895-8ef1a498ee5c",
   "metadata": {},
   "outputs": [],
   "source": []
  },
  {
   "cell_type": "code",
   "execution_count": null,
   "id": "65af8bd2-2836-4710-82d8-1f99641148df",
   "metadata": {},
   "outputs": [],
   "source": [
    "# Output DF to csv File\n",
    "def Output_File(DF, Model, Type):\n",
    "    File_Name = str(Model+'_'+Type+'_Output_V6.csv')\n",
    "    DF.to_csv(Output_Diri+File_Name)"
   ]
  },
  {
   "cell_type": "code",
   "execution_count": null,
   "id": "0ae38449-c33a-436a-b21a-b13e53da09e3",
   "metadata": {},
   "outputs": [],
   "source": [
    "# Output Control Files\n",
    "Output_File(Control_Data_V5, \"Control\", \"Data_SubsetA\")\n",
    "Output_File(Control_Data_V6, \"Control\", \"Data_SubsetB\")\n",
    "Output_File(Control_Data_V12, \"Control\", \"Data_SubsetC\")\n",
    "Output_File(Control_ET_V5, \"Control\", \"ET_SubsetA\")\n",
    "Output_File(Control_ET_V6, \"Control\", \"ET_SubsetB\")\n",
    "Output_File(Control_ET_V12, \"Control\", \"ET_SubsetC\")\n",
    "Output_File(Control_Codes_V5, \"Control\", \"Codes\")"
   ]
  },
  {
   "cell_type": "code",
   "execution_count": null,
   "id": "b1551b6d-dab1-4ba7-b54e-f1d273c66d9b",
   "metadata": {
    "editable": true,
    "slideshow": {
     "slide_type": ""
    },
    "tags": []
   },
   "outputs": [],
   "source": [
    "# Output RCP4.5 Files\n",
    "Output_File(RCP45_Data_V5, \"RCP45\", \"Data_SubsetA\")\n",
    "Output_File(RCP45_Data_V6, \"RCP45\", \"Data_SubsetB\")\n",
    "Output_File(RCP45_Data_V12, \"RCP45\", \"Data_SubsetC\")\n",
    "Output_File(RCP45_ET_V5, \"RCP45\", \"ET_SubsetA\")\n",
    "Output_File(RCP45_ET_V6, \"RCP45\", \"ET_SubsetB\")\n",
    "Output_File(RCP45_ET_V12, \"RCP45\", \"ET_SubsetC\")\n",
    "Output_File(RCP45_Codes_V5, \"RCP45\", \"Codes\")"
   ]
  },
  {
   "cell_type": "code",
   "execution_count": null,
   "id": "99b2c29d-3df8-4202-a77d-62e703af9082",
   "metadata": {},
   "outputs": [],
   "source": [
    "# Output RCP8.5 Files\n",
    "Output_File(RCP85_Data_V5, \"RCP85\", \"Data_SubsetA\")\n",
    "Output_File(RCP85_Data_V6, \"RCP85\", \"Data_SubsetB\")\n",
    "Output_File(RCP85_Data_V12, \"RCP85\", \"Data_SubsetC\")\n",
    "Output_File(RCP85_ET_V5, \"RCP85\", \"ET_SubsetA\")\n",
    "Output_File(RCP85_ET_V6, \"RCP85\", \"ET_SubsetB\")\n",
    "Output_File(RCP85_ET_V12, \"RCP85\", \"ET_SubsetC\")\n",
    "Output_File(RCP85_Codes_V5, \"RCP85\", \"Codes\")"
   ]
  },
  {
   "cell_type": "code",
   "execution_count": null,
   "id": "41060b26-018f-498c-81c3-718a5f2e6eba",
   "metadata": {
    "editable": true,
    "slideshow": {
     "slide_type": ""
    },
    "tags": []
   },
   "outputs": [],
   "source": []
  },
  {
   "cell_type": "code",
   "execution_count": null,
   "id": "20d7f87a-c382-4011-9f44-2cda448ad84e",
   "metadata": {},
   "outputs": [],
   "source": []
  },
  {
   "cell_type": "code",
   "execution_count": null,
   "id": "b45a9577-2ae6-468f-8451-18e4903bbc2b",
   "metadata": {},
   "outputs": [],
   "source": []
  },
  {
   "cell_type": "code",
   "execution_count": null,
   "id": "9bdaa266-a110-460f-8854-3668c1a9c16a",
   "metadata": {},
   "outputs": [],
   "source": []
  }
 ],
 "metadata": {
  "kernelspec": {
   "display_name": "NPL 2023b",
   "language": "python",
   "name": "npl-2023b"
  },
  "language_info": {
   "codemirror_mode": {
    "name": "ipython",
    "version": 3
   },
   "file_extension": ".py",
   "mimetype": "text/x-python",
   "name": "python",
   "nbconvert_exporter": "python",
   "pygments_lexer": "ipython3",
   "version": "3.10.12"
  }
 },
 "nbformat": 4,
 "nbformat_minor": 5
}
