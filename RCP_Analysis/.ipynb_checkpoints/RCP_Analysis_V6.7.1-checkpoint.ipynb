{
 "cells": [
  {
   "cell_type": "code",
   "execution_count": 1,
   "id": "460aa4fd-935e-46b2-8d09-f3d07edb3065",
   "metadata": {},
   "outputs": [],
   "source": [
    "import cartopy.crs as ccrs\n",
    "import cartopy.feature as cfeature\n",
    "from cartopy.mpl.gridliner import LATITUDE_FORMATTER, LONGITUDE_FORMATTER\n",
    "import cftime\n",
    "import datetime\n",
    "from datetime import date\n",
    "from matplotlib import pyplot\n",
    "from matplotlib import colors\n",
    "from matplotlib import font_manager\n",
    "from matplotlib.cm import ScalarMappable\n",
    "import matplotlib.colors as mcolors\n",
    "import matplotlib.dates as mdates\n",
    "import matplotlib.lines as mlines\n",
    "import matplotlib.patches as mpatches\n",
    "import matplotlib.ticker as mticker\n",
    "import numpy\n",
    "import pandas\n",
    "from PIL import Image\n",
    "import random\n",
    "import xarray as xr"
   ]
  },
  {
   "cell_type": "code",
   "execution_count": 2,
   "id": "f1d3b5ab-9a6b-4341-b33d-4b3c62ac4ded",
   "metadata": {},
   "outputs": [],
   "source": [
    "Diri = '/glade/u/home/whimkao//ExtraTrack/ExtraTrack_Data/Output_Files_V6/'\n",
    "Output_Diri = '/glade/u/home/whimkao//ExtraTrack/ExtraTrack_Github/RCP_Figs/Analysis_Figs_V6.7.1/'"
   ]
  },
  {
   "cell_type": "code",
   "execution_count": 3,
   "id": "65ee41e7-3935-4bfb-8b91-8288053ef83e",
   "metadata": {},
   "outputs": [],
   "source": [
    "# Open File\n",
    "def Open_File(File):\n",
    "    DF = pandas.read_csv(File)\n",
    "    DF = DF.drop(\"Unnamed: 0\", axis=1)\n",
    "    return (DF)"
   ]
  },
  {
   "cell_type": "code",
   "execution_count": 4,
   "id": "7b3944dc-fd07-42a7-a849-fb5dee781245",
   "metadata": {},
   "outputs": [],
   "source": [
    "# Open Each File\n",
    "def Files_Open(Model, Diri):\n",
    "    Data_DF = Open_File(Diri+Model+'_Data_SubsetD_Output_V6.csv')\n",
    "    ET_DF = Open_File(Diri+Model+'_ET_SubsetD_Output_V6.csv')\n",
    "    Codes_DF = Open_File(Diri+Model+'_Codes_Output_V6.csv')\n",
    "    Time, Begin_Time, Compl_Time, Peak_Time = [], [], [], []\n",
    "# Edit Time Format\n",
    "    for i in range(len(Data_DF)):\n",
    "        Time.append(Datetime(Data_DF[\"Time(Z)\"][i]))\n",
    "    for j in range(len(ET_DF)):\n",
    "        Begin_Time.append(Datetime(ET_DF[\"ET Begin Time\"][j]))\n",
    "        Compl_Time.append(Datetime(ET_DF[\"ET Complete Time\"][j]))\n",
    "        Peak_Time.append(Datetime(ET_DF[\"Peak Time\"][j]))\n",
    "    Data_DF[\"Time(Z)\"] = Time\n",
    "    ET_DF[\"ET Begin Time\"] = Begin_Time\n",
    "    ET_DF[\"ET Complete Time\"] = Compl_Time\n",
    "    ET_DF[\"Peak Time\"] = Peak_Time\n",
    "    return (Data_DF, ET_DF, Codes_DF)"
   ]
  },
  {
   "cell_type": "code",
   "execution_count": 5,
   "id": "bc1c85a4-d03e-4da1-9b3b-56d94ee801b7",
   "metadata": {},
   "outputs": [],
   "source": [
    "def Datetime(Time):\n",
    "    New_Time = datetime.datetime.strptime(Time, '%Y-%m-%d %H:%M:%S')\n",
    "    return (New_Time)"
   ]
  },
  {
   "cell_type": "code",
   "execution_count": 6,
   "id": "eb2c8177-0000-4e92-b2f6-35733f1293bd",
   "metadata": {},
   "outputs": [],
   "source": [
    "# Find a Specific Storm Within the DataFrame\n",
    "def Find_Storm(DF, Code):\n",
    "    DF_Storm = DF[DF[\"Code\"] == Code].reset_index()\n",
    "    return (DF_Storm)"
   ]
  },
  {
   "cell_type": "code",
   "execution_count": 7,
   "id": "41193dbd-36f3-4bcf-b7b0-b9b2f537ef3b",
   "metadata": {},
   "outputs": [],
   "source": [
    "# Create Bins\n",
    "def Create_Bins(Min, Max, Bin_Width):\n",
    "    Bins = numpy.arange(Min, Max+Bin_Width, Bin_Width)\n",
    "    return (Bins)"
   ]
  },
  {
   "cell_type": "code",
   "execution_count": 8,
   "id": "4f1253f9-e844-448b-97cf-5b0f8df3da11",
   "metadata": {},
   "outputs": [],
   "source": [
    "Control_Data, Control_ET, Control_Codes = Files_Open(\"Control\", Diri)\n",
    "RCP45_Data, RCP45_ET, RCP45_Codes = Files_Open(\"RCP45\", Diri)\n",
    "RCP85_Data, RCP85_ET, RCP85_Codes = Files_Open(\"RCP85\", Diri)"
   ]
  },
  {
   "cell_type": "code",
   "execution_count": 9,
   "id": "423247d4-a1ba-4ba9-accc-e8d13bf956a6",
   "metadata": {},
   "outputs": [],
   "source": [
    "# Function to Find Distance Between Two Points\n",
    "def Find_Distance(y1, y2, x1, x2):\n",
    "    Start_Lat = y1 * numpy.pi / 180\n",
    "    End_Lat = y2 * numpy.pi / 180\n",
    "    Start_Lon = x1 * numpy.pi / 180\n",
    "    End_Lon = x2 * numpy.pi / 180\n",
    "    Lat_Diff = End_Lat - Start_Lat\n",
    "    Lon_Diff = End_Lon - Start_Lon\n",
    "    Earth_Rad = 6378\n",
    "    Distance = 2 * Earth_Rad * numpy.sqrt((numpy.sin(Lat_Diff/2))**2 + \\\n",
    "    numpy.cos(Start_Lat) * numpy.cos(End_Lat) * (numpy.sin(Lon_Diff/2))**2)\n",
    "    return (Distance)"
   ]
  },
  {
   "cell_type": "code",
   "execution_count": null,
   "id": "02a77fde-a978-455f-93ab-159f69716a85",
   "metadata": {},
   "outputs": [],
   "source": []
  },
  {
   "cell_type": "code",
   "execution_count": null,
   "id": "a3639c8b-30fe-4b7b-b933-19fbf9b2a166",
   "metadata": {},
   "outputs": [],
   "source": []
  },
  {
   "cell_type": "code",
   "execution_count": null,
   "id": "7e2180ad-fcee-40c9-a1e2-1178685d70ce",
   "metadata": {},
   "outputs": [],
   "source": []
  },
  {
   "cell_type": "code",
   "execution_count": 10,
   "id": "e66d51f8-9bf3-417d-a754-5f0d4d8b0adb",
   "metadata": {},
   "outputs": [],
   "source": [
    "# Create Function to Open Storm Composite Files\n",
    "def Composite_File(File):\n",
    "    Diri = '/glade/campaign/univ/upsu0032/Hyperion_ET/composites/'\n",
    "    Compo_File = xr.open_dataset(Diri + File)\n",
    "    return (Compo_File)"
   ]
  },
  {
   "cell_type": "code",
   "execution_count": 11,
   "id": "3eb4a2e7-35ec-4503-b78c-c05af2834e1a",
   "metadata": {},
   "outputs": [],
   "source": [
    "# Open Storm Composite Files\n",
    "Control_A_Compo_nc = Composite_File('composite_h3_CHEY.VR28.NATL.REF.CAM5.4CLM5.0.dtime900.002.nc')\n",
    "Control_B_Compo_nc = Composite_File('composite_h3_CORI.VR28.NATL.REF.CAM5.4CLM5.0.dtime900.003.nc')\n",
    "Control_C_Compo_nc = Composite_File('composite_h3_CHEY.VR28.NATL.REF.CAM5.4CLM5.0.dtime900.nc')"
   ]
  },
  {
   "cell_type": "code",
   "execution_count": null,
   "id": "071cf1f6-3c72-460c-bd1a-4431352059b3",
   "metadata": {},
   "outputs": [],
   "source": [
    "# Open Storm Composite Files\n",
    "RCP45_A_Compo_nc = Composite_File('composite_h3_CHEY.RCP45.VR28.NATL.REF.CAM5.4CLM5.0.dtime900.nc')\n",
    "RCP45_B_Compo_nc = Composite_File('composite_h3_CHEY.RCP45.VR28.NATL.REF.CAM5.4CLM5.0.dtime900.002.nc')\n",
    "RCP45_C_Compo_nc = Composite_File('composite_h3_CHEY.RCP45.VR28.NATL.REF.CAM5.4CLM5.0.dtime900.003.nc')"
   ]
  },
  {
   "cell_type": "code",
   "execution_count": null,
   "id": "bf489ea8-1ff1-4e5a-9332-9b7ffdb65a86",
   "metadata": {},
   "outputs": [],
   "source": [
    "# Open Storm Composite Files\n",
    "RCP85_A_Compo_nc = Composite_File('composite_h3_CHEY.RCP85.VR28.NATL.REF.CAM5.4CLM5.0.dtime900.nc')\n",
    "RCP85_B_Compo_nc = Composite_File('composite_h3_CHEY.RCP85.VR28.NATL.REF.CAM5.4CLM5.0.dtime900.003.nc')\n",
    "RCP85_C_Compo_nc = Composite_File('composite_h3_CHEY.RCP85.VR28.NATL.REF.CAM5.4CLM5.0.dtime900.004.nc')"
   ]
  },
  {
   "cell_type": "code",
   "execution_count": null,
   "id": "9e7d1a58-5b9b-4c84-9091-0c47d7772704",
   "metadata": {},
   "outputs": [],
   "source": [
    "# Create DataFrame With Lat Lon Time Data of the Composite Files\n",
    "def Composite_DF(Compo_nc, ABC):\n",
    "    Snap_Time = pandas.Series(Compo_nc.snap_time)\n",
    "    Snap_Lon = pandas.Series(Compo_nc.snap_lon)\n",
    "    Snap_Lat = pandas.Series(Compo_nc.snap_lat)\n",
    "    Snap_PathID = pandas.Series(Compo_nc.snap_pathid)\n",
    "    Index = numpy.arange(0,len(Snap_Time),1)\n",
    "    ABC_List = []\n",
    "    for m in range(len(Index)):\n",
    "        ABC_List.append(ABC)\n",
    "    Compo_DF = pandas.DataFrame({\"Orig Index\": Index, \"ABC\": ABC_List, \\\n",
    "    \"Time\": Snap_Time, \"Lon\": Snap_Lon, \"Lat\": Snap_Lat, \"PathID\": Snap_PathID})\n",
    "    return (Compo_DF)"
   ]
  },
  {
   "cell_type": "code",
   "execution_count": null,
   "id": "30832c8b-8e71-46f5-96ab-38ec7148fe85",
   "metadata": {},
   "outputs": [],
   "source": [
    "# Combine Composite DFs\n",
    "def Combine_Compo_DF(Compo_A, Compo_B, Compo_C):\n",
    "    Compo_DF_A = Composite_DF(Compo_A, \"A\")\n",
    "    Compo_DF_B = Composite_DF(Compo_B, \"B\")\n",
    "    Compo_DF_C = Composite_DF(Compo_C, \"C\")\n",
    "    Compo_DF = pandas.concat([Compo_DF_A, Compo_DF_B, Compo_DF_C]).reset_index()\n",
    "    Compo_DF = Compo_DF.drop(\"index\", axis=1)\n",
    "    return (Compo_DF)"
   ]
  },
  {
   "cell_type": "code",
   "execution_count": null,
   "id": "fe1f4df3-eb20-4824-9cbe-8844a6c04c17",
   "metadata": {},
   "outputs": [],
   "source": [
    "Control_Compo = Combine_Compo_DF(Control_A_Compo_nc, Control_B_Compo_nc, Control_C_Compo_nc)"
   ]
  },
  {
   "cell_type": "code",
   "execution_count": null,
   "id": "df8aa1fa-3bfa-4172-8a84-66f16de06f0f",
   "metadata": {},
   "outputs": [],
   "source": [
    "RCP45_Compo = Combine_Compo_DF(RCP45_A_Compo_nc, RCP45_B_Compo_nc, RCP45_C_Compo_nc)"
   ]
  },
  {
   "cell_type": "code",
   "execution_count": null,
   "id": "a463bd4e-5a9e-476b-85b1-591d526cccb0",
   "metadata": {},
   "outputs": [],
   "source": [
    "RCP85_Compo = Combine_Compo_DF(RCP85_A_Compo_nc, RCP85_B_Compo_nc, RCP85_C_Compo_nc)"
   ]
  },
  {
   "cell_type": "code",
   "execution_count": null,
   "id": "8b0b5c5a-1603-4455-b95e-a7f74a2afd1c",
   "metadata": {},
   "outputs": [],
   "source": []
  },
  {
   "cell_type": "code",
   "execution_count": null,
   "id": "9436389a-04da-463e-ac70-72c0385f74f0",
   "metadata": {},
   "outputs": [],
   "source": []
  },
  {
   "cell_type": "code",
   "execution_count": null,
   "id": "7f121dfc-c90b-4a39-bf1a-2a2939e347f7",
   "metadata": {},
   "outputs": [],
   "source": [
    "# Change Year of Data\n",
    "def Reverse_Update_Year(New_Time, Year_Diff):\n",
    "    Year_Orig = New_Time.year + Year_Diff\n",
    "#    print (Year_Orig)\n",
    "    Orig_Time = New_Time.replace(year=Year_Orig)\n",
    "    return (Orig_Time)"
   ]
  },
  {
   "cell_type": "code",
   "execution_count": null,
   "id": "45491917-18a9-4114-9f48-32369186c5a6",
   "metadata": {},
   "outputs": [],
   "source": [
    "# Create Function to Find Year Diff\n",
    "def Year_Diff_Find(New_Time):\n",
    "    Years = [1900,1930,1960,2000,2031,2062,2100,2131,2162,2193]\n",
    "    New_Time_Index = -728\n",
    "    for i in range(len(Years)):\n",
    "        if i < 3:\n",
    "            if New_Time.year >= Years[i] and New_Time.year < Years[i+1]:\n",
    "                Year_Diff = 1985 - Years[i]\n",
    "                New_Time_Index = i\n",
    "        elif i < 6:\n",
    "            if New_Time.year >= Years[i] and New_Time.year < Years[i+1]:\n",
    "                Year_Diff = 2070 - Years[i]\n",
    "                New_Time_Index = i\n",
    "        else:\n",
    "            if New_Time.year >= Years[i] and New_Time.year < Years[i+1]:\n",
    "                Year_Diff = 2070 - Years[i]\n",
    "                New_Time_Index = i\n",
    "    if New_Time_Index % 3 == 0:\n",
    "        ABC = \"A\"\n",
    "    elif New_Time_Index % 3 == 1:\n",
    "        ABC = \"B\"\n",
    "    elif New_Time_Index % 3 == 2:\n",
    "        ABC = \"C\"\n",
    "    return (int(Year_Diff), ABC)"
   ]
  },
  {
   "cell_type": "code",
   "execution_count": null,
   "id": "c470e0c8-2044-4913-bb09-dfcc2f207dea",
   "metadata": {},
   "outputs": [],
   "source": [
    "# Create Function to Find Indexes of Composite Data For Selected Storm\n",
    "def Find_Composite_Data(Code, Data_DF, Compo_DF):\n",
    "    DF_Storm = Find_Storm(Data_DF, Code)\n",
    "    Code_List = DF_Storm[\"Code\"]\n",
    "    Name_List = DF_Storm[\"Name\"]\n",
    "    New_Time = DF_Storm[\"Time(Z)\"]\n",
    "    Lat = DF_Storm[\"Lat\"]\n",
    "    Lon = DF_Storm[\"Lon\"]\n",
    "    SLP = DF_Storm[\"SLP(hPa)\"]\n",
    "    Storm_Phase = DF_Storm[\"Storm Phase\"]\n",
    "    Compo_Indexes = numpy.zeros(len(New_Time))\n",
    "    for i in range(len(New_Time)):\n",
    "        Year_Diff, ABC = Year_Diff_Find(New_Time[0])\n",
    "        Orig_Time = Reverse_Update_Year(New_Time[i], Year_Diff)\n",
    "# Find Possible Storms that Occur at the Same Time\n",
    "        Compo_Storm = Compo_DF[(Compo_DF[\"ABC\"] == ABC) & (Compo_DF[\"Time\"] == Orig_Time)].reset_index()\n",
    "# If No Storm Found:\n",
    "        if len(Compo_Storm) == 0:\n",
    "            Compo_Indexes[i] = -728\n",
    "# Storms Found:\n",
    "        else:\n",
    "            Dist_Min = [7428,-728]\n",
    "            for c in range(len(Compo_Storm)):\n",
    "                Dist = Find_Distance(Lat[i], Compo_Storm[\"Lat\"][c], Lon[i], Compo_Storm[\"Lon\"][c])\n",
    "# Find Storm Closest to Storm Center\n",
    "                if Dist < Dist_Min[0]:\n",
    "# At Most 300km of Error in Location Permitted\n",
    "                    if Dist < 300:\n",
    "                        Dist_Min = [Dist, Compo_Storm[\"Orig Index\"][c]]\n",
    "                    else:\n",
    "                        Dist_Min = [Dist, -728]\n",
    "            Compo_Indexes[i] = Dist_Min[1]\n",
    "    DF_Storm_Compo_Init = pandas.DataFrame({\"Code\": Code_List, \"Name\": Name_List, \\\n",
    "    \"Compo Index\": Compo_Indexes, \"Time\": New_Time, \\\n",
    "    \"Lon\": Lon, \"Lat\": Lat, \"SLP\": SLP, \"Storm Phase\": Storm_Phase})\n",
    "# Remove Datapoints With Missing Compo Index\n",
    "    DF_Storm_Compo = DF_Storm_Compo_Init[DF_Storm_Compo_Init[\"Compo Index\"] >= 0].reset_index()\n",
    "    DF_Storm_Compo = DF_Storm_Compo.drop(\"index\", axis=1)\n",
    "    return (DF_Storm_Compo)"
   ]
  },
  {
   "cell_type": "code",
   "execution_count": null,
   "id": "4c8c10f7-5b7f-4d25-b2c5-2bdcf3a7c09d",
   "metadata": {},
   "outputs": [],
   "source": []
  },
  {
   "cell_type": "code",
   "execution_count": null,
   "id": "88a53afe-f516-47cb-83d4-ebc148a52766",
   "metadata": {},
   "outputs": [],
   "source": []
  },
  {
   "cell_type": "code",
   "execution_count": null,
   "id": "95d353bb-a1a1-4084-91a5-3dfe3314cd7e",
   "metadata": {},
   "outputs": [],
   "source": []
  },
  {
   "cell_type": "code",
   "execution_count": null,
   "id": "1f315874-3a37-43f7-85b7-ef6c7cfd7604",
   "metadata": {},
   "outputs": [],
   "source": [
    "def Windspeed_850hPa(Compo_nc, Compo_Index):\n",
    "    U850 = numpy.array(Compo_nc.snap_U850[int(Compo_Index)])\n",
    "    V850 = numpy.array(Compo_nc.snap_V850[int(Compo_Index)])\n",
    "    Snap_850 = numpy.sqrt(U850 **2 + V850 **2)\n",
    "    return (Snap_850)"
   ]
  },
  {
   "cell_type": "code",
   "execution_count": null,
   "id": "bdcf167b-6aaa-4693-8c06-e20be5fbad1b",
   "metadata": {},
   "outputs": [],
   "source": [
    "# Find Precip Rate From Compo File\n",
    "def Precip_Rate(Compo_nc, Compo_Index):\n",
    "    Precip_ms = numpy.array(Compo_nc.snap_PRECT[int(Compo_Index)])\n",
    "    Precip_mmhr = Precip_ms * 3600 * 1000\n",
    "    return (Precip_mmhr)"
   ]
  },
  {
   "cell_type": "code",
   "execution_count": null,
   "id": "5ee0848c-96d7-433f-9c28-150a0332f3a9",
   "metadata": {},
   "outputs": [],
   "source": [
    "# Find Precipitable Water From Compo File\n",
    "def Precip_Water(Compo_nc, Compo_Index):\n",
    "    Precipitable_Water = numpy.array(Compo_nc.snap_TMQ[int(Compo_Index)])\n",
    "    return (Precipitable_Water)"
   ]
  },
  {
   "cell_type": "code",
   "execution_count": null,
   "id": "1e551b30-b74a-4994-8d30-dd1977aad751",
   "metadata": {},
   "outputs": [],
   "source": [
    "# Find Outgoing Longwave Radiation and Cloud Top Temperature From Compo File\n",
    "def Cloud_Temp(Compo_nc, Compo_Index):\n",
    "    Outgoing_Longwave = numpy.array(Compo_nc.snap_FLUT[int(Compo_Index)])\n",
    "    Sigma = 5.67 * 10**-8\n",
    "    Cloud_Temp_K = (Outgoing_Longwave / (0.95 * Sigma)) ** 0.25\n",
    "    Cloud_Temp_C = Cloud_Temp_K - 273.15\n",
    "    return (Cloud_Temp_C)"
   ]
  },
  {
   "cell_type": "code",
   "execution_count": null,
   "id": "195a00be-33a8-407e-afef-f806a1ac3bae",
   "metadata": {},
   "outputs": [],
   "source": [
    "# Find Surface Temperature From Compo File\n",
    "def Temp_Surface(Compo_nc, Compo_Index):\n",
    "    Temp_K = numpy.array(Compo_nc.snap_TS[int(Compo_Index)])\n",
    "    Temp_C = Temp_K - 273.15\n",
    "    return (Temp_C)"
   ]
  },
  {
   "cell_type": "code",
   "execution_count": null,
   "id": "8d972939-ac18-43de-91e2-cf5d66f64059",
   "metadata": {},
   "outputs": [],
   "source": [
    "# Find 500hPa Temperature From Compo File\n",
    "def Temp_500hPa(Compo_nc, Compo_Index):\n",
    "    Temp_K = numpy.array(Compo_nc.snap_T500[int(Compo_Index)])\n",
    "    Temp_C = Temp_K - 273.15\n",
    "    return (Temp_C)"
   ]
  },
  {
   "cell_type": "code",
   "execution_count": null,
   "id": "dfb12f34-cd1e-4370-9752-df0354cf152b",
   "metadata": {},
   "outputs": [],
   "source": [
    "# Find 200hPa Temperature From Compo File\n",
    "def Temp_200hPa(Compo_nc, Compo_Index):\n",
    "    Temp_K = numpy.array(Compo_nc.snap_T200[int(Compo_Index)])\n",
    "    Temp_C = Temp_K - 273.15\n",
    "    return (Temp_C)"
   ]
  },
  {
   "cell_type": "code",
   "execution_count": null,
   "id": "29905ec3-4cbd-4d69-9740-efb847741d0a",
   "metadata": {},
   "outputs": [],
   "source": [
    "# Find 500hPa Vertical Velocity From Compo File\n",
    "def Omega_500hPa(Compo_nc, Compo_Index):\n",
    "    Vert_Velo = numpy.array(Compo_nc.snap_OMEGA500[int(Compo_Index)])\n",
    "    return (Vert_Velo)"
   ]
  },
  {
   "cell_type": "code",
   "execution_count": null,
   "id": "16f74413-1b76-44f8-bba2-5ca3add198c6",
   "metadata": {},
   "outputs": [],
   "source": [
    "# Find 200hPa Zonal Winds From Compo File\n",
    "def U_200hPa(Compo_nc, Compo_Index):\n",
    "    Zonal_Wind = numpy.array(Compo_nc.snap_U200[int(Compo_Index)])\n",
    "    return (Zonal_Wind)"
   ]
  },
  {
   "cell_type": "code",
   "execution_count": null,
   "id": "f63d843b-b2a2-4980-b3ef-6e4987ed8f42",
   "metadata": {},
   "outputs": [],
   "source": [
    "Temp_Surface(Control_A_Compo_nc, 3987)[17:23,17:23]"
   ]
  },
  {
   "cell_type": "code",
   "execution_count": null,
   "id": "6d78c466-b54b-4e7f-a693-d8547301f5d8",
   "metadata": {},
   "outputs": [],
   "source": []
  },
  {
   "cell_type": "code",
   "execution_count": null,
   "id": "6050bb47-ab34-4ec9-b2f6-688c0a7d7e1a",
   "metadata": {},
   "outputs": [],
   "source": []
  },
  {
   "cell_type": "code",
   "execution_count": null,
   "id": "e87960f4-da82-4d0e-80b3-e570f7eea8af",
   "metadata": {},
   "outputs": [],
   "source": [
    "# Find 850hPa Max Windspeed and Wind Field Size at Each 6 Hourly Data Point\n",
    "def Wind_Field_Find(DF_Storm_Compo, Compo_nc):\n",
    "    Compo_Index = DF_Storm_Compo[\"Compo Index\"]\n",
    "    Time_List = DF_Storm_Compo[\"Time\"]\n",
    "    SLP = DF_Storm_Compo[\"SLP\"]\n",
    "#\n",
    "# Create Array to Store Data\n",
    "    Wind_Field_Info = numpy.zeros((6,len(Compo_Index)))\n",
    "    Wind_Field_Info[0] = SLP\n",
    "#\n",
    "# At Each 6 Hourly Data Point\n",
    "    for k in range(len(Compo_Index)):\n",
    "# Find 850hPa Windspeed Snap From Compo_nc\n",
    "        Snap_850 = Windspeed_850hPa(Compo_nc, Compo_Index[k])\n",
    "# Find Maximum 850hPa Windspeed\n",
    "        Windspeed_850 = numpy.max(Snap_850)\n",
    "        Wind_Field_Info[1][k] = Windspeed_850\n",
    "# Count Number of Data Points With Windspeed Above 13,18,25,33m/s\n",
    "        Snap_Sort = numpy.sort(Snap_850.ravel())\n",
    "        Count_13 = len(Snap_Sort[Snap_Sort >= 13])\n",
    "        Count_18 = len(Snap_Sort[Snap_Sort >= 18])\n",
    "        Count_25 = len(Snap_Sort[Snap_Sort >= 25])\n",
    "        Count_33 = len(Snap_Sort[Snap_Sort >= 33])\n",
    "        Wind_Field_Info[2][k] = Count_13\n",
    "        Wind_Field_Info[3][k] = Count_18\n",
    "        Wind_Field_Info[4][k] = Count_25\n",
    "        Wind_Field_Info[5][k] = Count_33\n",
    "#\n",
    "# Add Wind Field Info Into DF Storm Compo\n",
    "    DF_Storm_Compo[\"850hPa Winds\"] = Wind_Field_Info[1]\n",
    "    DF_Storm_Compo[\"13m/s\"] = Wind_Field_Info[2]\n",
    "    DF_Storm_Compo[\"18m/s\"] = Wind_Field_Info[3]\n",
    "    DF_Storm_Compo[\"25m/s\"] = Wind_Field_Info[4]\n",
    "    DF_Storm_Compo[\"33m/s\"] = Wind_Field_Info[5]\n",
    "    return (DF_Storm_Compo)"
   ]
  },
  {
   "cell_type": "code",
   "execution_count": null,
   "id": "b39e3359-7644-438f-897e-498ec05f7c32",
   "metadata": {},
   "outputs": [],
   "source": [
    "# Find Max Precip and Total Precip Over Area\n",
    "def Precip_Field_Find(DF_Storm_Compo, Compo_nc):\n",
    "    Compo_Index = DF_Storm_Compo[\"Compo Index\"]\n",
    "    Time_List = DF_Storm_Compo[\"Time\"]\n",
    "#\n",
    "# Create Array to Store Data\n",
    "    Precip_Field_Info = numpy.zeros((7,len(Compo_Index)))\n",
    "#\n",
    "# At Each 6 Hourly Data Point\n",
    "    for k in range(len(Compo_Index)):\n",
    "# Find Precip Snap From Compo_nc\n",
    "        Snap_Precip = Precip_Rate(Compo_nc, Compo_Index[k])\n",
    "# Find Maximum Precip Rate\n",
    "        Max_Precip = numpy.max(Snap_Precip)\n",
    "        Precip_Field_Info[0][k] = Max_Precip\n",
    "# Find Total Areal Precip\n",
    "        Snap_Sort = numpy.sort(Snap_Precip.ravel())\n",
    "        Areal_Precip_Total = numpy.sum(Snap_Sort)\n",
    "        Precip_Field_Info[1][k] = Areal_Precip_Total\n",
    "# Count Number of Data Points With Precip Rate Above 1, 5, 10mm/hr\n",
    "        Count_1 = len(Snap_Sort[Snap_Sort >= 1])\n",
    "        Count_5 = len(Snap_Sort[Snap_Sort >= 5])\n",
    "        Count_10 = len(Snap_Sort[Snap_Sort >= 10])\n",
    "        Precip_Field_Info[2][k] = Count_1\n",
    "        Precip_Field_Info[3][k] = Count_5\n",
    "        Precip_Field_Info[4][k] = Count_10\n",
    "#\n",
    "# Find Precipitable Water Snap From Compo_nc\n",
    "        Snap_Precip_Water = Precip_Water(Compo_nc, Compo_Index[k])\n",
    "# Find Maximum Precipitable Water\n",
    "        Max_Precip_Water = numpy.max(Snap_Precip_Water)\n",
    "        Precip_Field_Info[5][k] = Max_Precip_Water\n",
    "# Find Areal Precipitable Water Total\n",
    "        Precip_Water_Total = numpy.sum(Snap_Precip_Water.ravel())\n",
    "        Precip_Field_Info[6][k] = Precip_Water_Total\n",
    "# \n",
    "# Add Precip Field Info Into DF Storm Compo\n",
    "    DF_Storm_Compo[\"Max Precip Rate\"] = Precip_Field_Info[0]\n",
    "    DF_Storm_Compo[\"Total Areal Precip\"] = Precip_Field_Info[1]\n",
    "    DF_Storm_Compo[\"1mm/hr\"] = Precip_Field_Info[2]\n",
    "    DF_Storm_Compo[\"5mm/hr\"] = Precip_Field_Info[3]\n",
    "    DF_Storm_Compo[\"10mm/hr\"] = Precip_Field_Info[4]\n",
    "    DF_Storm_Compo[\"Max Precip Water\"] = Precip_Field_Info[5]\n",
    "    DF_Storm_Compo[\"Total Precip Water\"] = Precip_Field_Info[6]\n",
    "    return (DF_Storm_Compo)"
   ]
  },
  {
   "cell_type": "code",
   "execution_count": null,
   "id": "8926b718-c995-4817-af00-894a57830f7e",
   "metadata": {},
   "outputs": [],
   "source": [
    "# Find Temperature Variables\n",
    "def Temp_Vars_Find(DF_Storm_Compo, Compo_nc):\n",
    "    Compo_Index = DF_Storm_Compo[\"Compo Index\"]\n",
    "#\n",
    "# Create Array to Store Data\n",
    "    Temp_Field_Info = numpy.zeros((7,len(Compo_Index)))\n",
    "#\n",
    "# At Each 6 Hourly Data Point\n",
    "    for k in range(len(Compo_Index)):\n",
    "# Find Each Variable From Compo_nc\n",
    "        Snap_Temp_Cloud = Cloud_Temp(Compo_nc, Compo_Index[k])\n",
    "        Snap_Temp_Sfc = Temp_Surface(Compo_nc, Compo_Index[k])\n",
    "        Snap_Temp_500hPa = Temp_500hPa(Compo_nc, Compo_Index[k])\n",
    "        Snap_Temp_200hPa = Temp_200hPa(Compo_nc, Compo_Index[k])\n",
    "        Snap_Omega_500hPa = Omega_500hPa(Compo_nc, Compo_Index[k])\n",
    "        Snap_U_200hPa = U_200hPa(Compo_nc, Compo_Index[k])\n",
    "#\n",
    "# Find Minimum Cloud Top Temperature\n",
    "        Min_Temp_Cloud = numpy.min(Snap_Temp_Cloud)\n",
    "# Find Mean Surface, 500hPa, 200hPa Temperatures Within 1 Lat/Lon of Storm Center\n",
    "        Mean_Temp_Sfc = numpy.mean(Snap_Temp_Sfc[17:23,17:23])\n",
    "        Mean_Temp_500hPa = numpy.mean(Snap_Temp_500hPa[17:23,17:23])\n",
    "        Mean_Temp_200hPa = numpy.mean(Snap_Temp_200hPa[17:23,17:23])\n",
    "        Mean_U_200hPa = numpy.mean(Snap_U_200hPa[17:23,17:23])\n",
    "# Find Maximum Rising and Sinking Vertical Velocity\n",
    "        Min_Omega = numpy.min(Snap_Omega_500hPa) * -1\n",
    "        Max_Omega = numpy.max(Snap_Omega_500hPa)\n",
    "#\n",
    "# Add To Array\n",
    "        Temp_Field_Info[0][k] = Min_Temp_Cloud\n",
    "        Temp_Field_Info[1][k] = Mean_Temp_Sfc\n",
    "        Temp_Field_Info[2][k] = Mean_Temp_500hPa\n",
    "        Temp_Field_Info[3][k] = Mean_Temp_200hPa\n",
    "        Temp_Field_Info[4][k] = Mean_U_200hPa\n",
    "        Temp_Field_Info[5][k] = Min_Omega\n",
    "        Temp_Field_Info[6][k] = Max_Omega\n",
    "#\n",
    "# Add To DF Storm Compo\n",
    "    DF_Storm_Compo[\"Min Cloud Temp\"] = Temp_Field_Info[0]\n",
    "    DF_Storm_Compo[\"Sfc Temp\"] = Temp_Field_Info[1]\n",
    "    DF_Storm_Compo[\"500hPa Temp\"] = Temp_Field_Info[2]\n",
    "    DF_Storm_Compo[\"200hPa Temp\"] = Temp_Field_Info[3]\n",
    "    DF_Storm_Compo[\"200hPa U\"] = Temp_Field_Info[4]\n",
    "    DF_Storm_Compo[\"Max Rising\"] = Temp_Field_Info[5]\n",
    "    DF_Storm_Compo[\"Max Sinking\"] = Temp_Field_Info[6]\n",
    "    return (DF_Storm_Compo)"
   ]
  },
  {
   "cell_type": "code",
   "execution_count": null,
   "id": "3ecf51eb-b413-40ee-a377-2de4afc1bc15",
   "metadata": {},
   "outputs": [],
   "source": []
  },
  {
   "cell_type": "code",
   "execution_count": null,
   "id": "e0755da6-02f0-45d3-a03b-2c77b5632499",
   "metadata": {},
   "outputs": [],
   "source": []
  },
  {
   "cell_type": "code",
   "execution_count": null,
   "id": "2bac8b32-ce38-4e9e-86d6-046f95ac0c95",
   "metadata": {},
   "outputs": [],
   "source": []
  },
  {
   "cell_type": "code",
   "execution_count": null,
   "id": "861633ab-4902-468b-a249-99aa95d10b00",
   "metadata": {},
   "outputs": [],
   "source": [
    "# Create New Data DF\n",
    "def DF_Data_Compo(Data_DF, ET_DF, Compo_DF, Compo_nc_A, Compo_nc_B, Compo_nc_C):\n",
    "    Code_List = ET_DF[\"Code\"]\n",
    "    ABC_List = ET_DF[\"ABC\"]\n",
    "# Loop Over Each Storm in Dataset\n",
    "    for n in range(len(Code_List)):\n",
    "        DF_Storm_Compo = Find_Composite_Data(Code_List[n], Data_DF, Compo_DF)\n",
    "# Find Which Compo nc To Use\n",
    "        if ABC_List[n] == \"A\":\n",
    "            Compo_nc = Compo_nc_A\n",
    "        elif ABC_List[n] == \"B\":\n",
    "            Compo_nc = Compo_nc_B\n",
    "        elif ABC_List[n] == \"C\":\n",
    "            Compo_nc = Compo_nc_C\n",
    "# Apply Functions For Finding Wind Field and Precip Field\n",
    "        DF_Storm_Compo = Wind_Field_Find(DF_Storm_Compo, Compo_nc)\n",
    "        DF_Storm_Compo = Precip_Field_Find(DF_Storm_Compo, Compo_nc)\n",
    "        DF_Storm_Compo = Temp_Vars_Find(DF_Storm_Compo, Compo_nc)\n",
    "# Only Keep Storms With Complete ET Data\n",
    "        if len(DF_Storm_Compo) > 0:\n",
    "            if DF_Storm_Compo[\"Storm Phase\"][len(DF_Storm_Compo)-1] == \"Extratropical\":\n",
    "# Combine DF Storm Compos\n",
    "                try:\n",
    "                    Data_Compo = pandas.concat([Data_Compo, DF_Storm_Compo])\n",
    "                except:\n",
    "                    Data_Compo = DF_Storm_Compo.copy()\n",
    "    Data_Compo_Final = Data_Compo.reset_index().drop(\"index\", axis=1)\n",
    "    return (Data_Compo_Final)"
   ]
  },
  {
   "cell_type": "code",
   "execution_count": null,
   "id": "ffe91ec8-9f68-4917-93a0-264e31ae51c9",
   "metadata": {},
   "outputs": [],
   "source": [
    "# Create New ET DF\n",
    "def DF_ET_Compo(Data_Compo, ET_DF, Compo_DF, Compo_nc_A, Compo_nc_B, Compo_nc_C):\n",
    "    Code_List = ET_DF[\"Code\"]\n",
    "# Loop Over Each Storm in Dataset\n",
    "    for n in range(len(Code_List)):\n",
    "        ET_Storm = Find_Storm(ET_DF, Code_List[n])\n",
    "        DF_Storm_Compo = Find_Storm(Data_Compo, Code_List[n])\n",
    "# Find ET Begin and ET Complete Time\n",
    "        Trop_Peak_Time = ET_Storm[\"Trop Peak Time\"][0]\n",
    "        Begin_Time = ET_Storm[\"ET Begin Time\"][0]\n",
    "        Compl_Time = ET_Storm[\"ET Complete Time\"][0]\n",
    "        DF_Trop_Peak = DF_Storm_Compo[DF_Storm_Compo[\"Time\"] == Trop_Peak_Time].reset_index()\n",
    "        DF_Begin = DF_Storm_Compo[DF_Storm_Compo[\"Time\"] == Begin_Time].reset_index()\n",
    "        DF_Compl = DF_Storm_Compo[DF_Storm_Compo[\"Time\"] == Compl_Time].reset_index()\n",
    "# Only Keep Storms With Complete ET Data\n",
    "        if len(DF_Storm_Compo) > 0 and len(DF_Trop_Peak) and len(DF_Begin) > 0 and len(DF_Compl) > 0:\n",
    "# Combine ET Storm Compos\n",
    "            ET_Storm_Compo = Find_ET_Compo(Code_List[n], ET_Storm, DF_Trop_Peak, DF_Begin, DF_Compl)\n",
    "            try:\n",
    "                ET_Compo = pandas.concat([ET_Compo, ET_Storm_Compo])\n",
    "            except:\n",
    "                ET_Compo = ET_Storm_Compo.copy()\n",
    "        else:\n",
    "            print (Code_List[n], len(DF_Trop_Peak), len(DF_Begin), len(DF_Compl))\n",
    "    ET_Compo_Final = ET_Compo.reset_index().drop(\"index\", axis=1)\n",
    "    return (ET_Compo_Final)"
   ]
  },
  {
   "cell_type": "code",
   "execution_count": null,
   "id": "c77d2bce-9ec2-46ee-b1cc-3009a6526db9",
   "metadata": {},
   "outputs": [],
   "source": [
    "def Find_ET_Compo(Code, ET_Storm, DF_Trop_Peak, DF_Begin, DF_Compl):\n",
    "    ET_Storm_Compo = ET_Storm[[\"Code\", \"Name\", \"Trop Peak Time\", \"ET Begin Time\", \"ET Complete Time\", \\\n",
    "    \"Trop Peak SLP\", \"ET Begin SLP\", \"ET Complete SLP\"]].copy()\n",
    "    Vars = [\"850hPa Winds\", \"13m/s\", \"18m/s\", \"25m/s\", \"33m/s\", \\\n",
    "    \"1mm/hr\", \"5mm/hr\", \"10mm/hr\", \"Max Precip Rate\", \"Max Precip Water\", \"Total Precip Water\", \\\n",
    "    \"Min Cloud Temp\", \"Sfc Temp\", \"500hPa Temp\", \"200hPa Temp\", \"200hPa U\", \"Max Rising\", \"Max Sinking\"]\n",
    "    for m in range(len(Vars)):\n",
    "        Var = Vars[m]\n",
    "        Trop_Peak_Var = str(\"Trop Peak \" + Var)\n",
    "        Begin_Var = str(\"ET Begin \" + Var)\n",
    "        Compl_Var = str(\"ET Complete \" + Var)\n",
    "        ET_Storm_Compo[Trop_Peak_Var] = DF_Trop_Peak[Var][0]\n",
    "        ET_Storm_Compo[Begin_Var] = DF_Begin[Var][0]\n",
    "        ET_Storm_Compo[Compl_Var] = DF_Compl[Var][0]\n",
    "    return (ET_Storm_Compo)"
   ]
  },
  {
   "cell_type": "code",
   "execution_count": null,
   "id": "34debae0-ac90-44b3-bfd4-d06ad94bfa80",
   "metadata": {},
   "outputs": [],
   "source": []
  },
  {
   "cell_type": "code",
   "execution_count": null,
   "id": "709b90c9-10f3-4741-883a-206a6158b998",
   "metadata": {},
   "outputs": [],
   "source": []
  },
  {
   "cell_type": "code",
   "execution_count": null,
   "id": "e8bdf64d-6767-402a-8999-5f753aa1a718",
   "metadata": {},
   "outputs": [],
   "source": []
  },
  {
   "cell_type": "code",
   "execution_count": null,
   "id": "df401e2b-10b1-4b03-ab0b-c55de33537a6",
   "metadata": {
    "scrolled": true
   },
   "outputs": [],
   "source": [
    "Control_Data_Compo = DF_Data_Compo(Control_Data, Control_ET, Control_Compo, \\\n",
    "Control_A_Compo_nc, Control_B_Compo_nc, Control_C_Compo_nc)"
   ]
  },
  {
   "cell_type": "code",
   "execution_count": null,
   "id": "9edfdd67-aad1-4ea6-8fba-09a632d3b5ea",
   "metadata": {
    "scrolled": true
   },
   "outputs": [],
   "source": [
    "Control_ET_Compo = DF_ET_Compo(Control_Data_Compo, Control_ET, Control_Compo, \\\n",
    "Control_A_Compo_nc, Control_B_Compo_nc, Control_C_Compo_nc)"
   ]
  },
  {
   "cell_type": "code",
   "execution_count": null,
   "id": "d5680825-0227-4e9a-8245-299c62c4e807",
   "metadata": {},
   "outputs": [],
   "source": [
    "RCP45_Data_Compo = DF_Data_Compo(RCP45_Data, RCP45_ET, RCP45_Compo, \\\n",
    "RCP45_A_Compo_nc, RCP45_B_Compo_nc, RCP45_C_Compo_nc)"
   ]
  },
  {
   "cell_type": "code",
   "execution_count": null,
   "id": "b5838767-603f-4865-ab09-63b298baa555",
   "metadata": {
    "scrolled": true
   },
   "outputs": [],
   "source": [
    "RCP45_ET_Compo = DF_ET_Compo(RCP45_Data_Compo, RCP45_ET, RCP45_Compo, \\\n",
    "RCP45_A_Compo_nc, RCP45_B_Compo_nc, RCP45_C_Compo_nc)"
   ]
  },
  {
   "cell_type": "code",
   "execution_count": null,
   "id": "3a0ac090-94c2-40b6-bb01-4abf67d77d4e",
   "metadata": {},
   "outputs": [],
   "source": [
    "RCP85_Data_Compo = DF_Data_Compo(RCP85_Data, RCP85_ET, RCP85_Compo, \\\n",
    "RCP85_A_Compo_nc, RCP85_B_Compo_nc, RCP85_C_Compo_nc)"
   ]
  },
  {
   "cell_type": "code",
   "execution_count": null,
   "id": "e0db3cdd-e0e1-4838-9d1d-d4f29d67c479",
   "metadata": {
    "scrolled": true
   },
   "outputs": [],
   "source": [
    "RCP85_ET_Compo = DF_ET_Compo(RCP85_Data_Compo, RCP85_ET, RCP85_Compo, \\\n",
    "RCP85_A_Compo_nc, RCP85_B_Compo_nc, RCP85_C_Compo_nc)"
   ]
  },
  {
   "cell_type": "code",
   "execution_count": null,
   "id": "cdc5d3aa-3c3e-4830-b564-bcb2b1376671",
   "metadata": {},
   "outputs": [],
   "source": []
  },
  {
   "cell_type": "code",
   "execution_count": null,
   "id": "7038d7e4-2564-44b9-93ff-f2d72b47dcab",
   "metadata": {},
   "outputs": [],
   "source": []
  },
  {
   "cell_type": "code",
   "execution_count": null,
   "id": "d8a0fd8c-2f9e-479b-a453-c525ee4e6efa",
   "metadata": {},
   "outputs": [],
   "source": []
  },
  {
   "cell_type": "code",
   "execution_count": null,
   "id": "f161001f-e215-45c3-8cdc-9b0c2f6e49f1",
   "metadata": {},
   "outputs": [],
   "source": [
    "# Define Bins\n",
    "Lat_Bins = Create_Bins(10,60,5)\n",
    "Lon_Bins = Create_Bins(-100,0,10)\n",
    "SLP_Bins = Create_Bins(900,1010,10)"
   ]
  },
  {
   "cell_type": "code",
   "execution_count": null,
   "id": "bea66341-ddc5-41b8-9d88-4e964a2abac1",
   "metadata": {},
   "outputs": [],
   "source": [
    "# Function For Creating Cumulative Distribution\n",
    "def Cum_Dist(Array, Ascend):\n",
    "    Array = Array[Array > -728]\n",
    "    if Ascend == True:\n",
    "        Sorted = numpy.sort(Array)\n",
    "    else:\n",
    "        Sorted = numpy.sort(Array)[::-1]\n",
    "    Len = len(Sorted)\n",
    "    Density = numpy.arange(0,1.0000001,1/(Len-1))\n",
    "    return (Sorted, Density)"
   ]
  },
  {
   "cell_type": "code",
   "execution_count": null,
   "id": "892a6c32-ad29-435b-83b0-68d33e5a6b46",
   "metadata": {},
   "outputs": [],
   "source": [
    "# Create Function to Plot ET Cumulative Distributions\n",
    "def ET_Cum_Dist_Plot(Control_ET, RCP45_ET, RCP85_ET, Var, Var_Title, Var_Label, Ascend, Vert, \\\n",
    "    Min, Max, Width, Savefig, Figname):\n",
    "    Fig = pyplot.figure(figsize=(24,8))\n",
    "#\n",
    "# Plot Tropical Peak\n",
    "    Axis = Fig.add_subplot(1,3,1)\n",
    "    Var0 = \"Trop Peak \" + Var\n",
    "# Apply Cumulative Distribution Function\n",
    "    Control_Sorted, Control_Density = Cum_Dist(Control_ET[Var0], Ascend)\n",
    "    RCP45_Sorted, RCP45_Density = Cum_Dist(RCP45_ET[Var0], Ascend)\n",
    "    RCP85_Sorted, RCP85_Density = Cum_Dist(RCP85_ET[Var0], Ascend)\n",
    "# Plotting\n",
    "    if Vert == False:\n",
    "        Axis.plot(Control_Sorted, Control_Density, color='limegreen', linewidth=3.8, label='Control', alpha=0.8)\n",
    "        Axis.plot(RCP45_Sorted, RCP45_Density, color='orange', linewidth=3.8, label='RCP4.5', alpha=0.8)\n",
    "        Axis.plot(RCP85_Sorted, RCP85_Density, color='red', linewidth=3.8, label='RCP8.5', alpha=0.8)\n",
    "    else:\n",
    "        Axis.plot(Control_Density, Control_Sorted, color='limegreen', linewidth=3.8, label='Control', alpha=0.8)\n",
    "        Axis.plot(RCP45_Density, RCP45_Sorted, color='orange', linewidth=3.8, label='RCP4.5', alpha=0.8)\n",
    "        Axis.plot(RCP85_Density, RCP85_Sorted, color='red', linewidth=3.8, label='RCP8.5', alpha=0.8)\n",
    "# Formatting Based on Variable\n",
    "    ET_Cum_Dist_Formatting(Var, Var_Title, Var_Label, Vert, Min, Max, Width, \"Tropical Peak \")\n",
    "#\n",
    "# Plot ET Initiation\n",
    "    Axis = Fig.add_subplot(1,3,2)\n",
    "    Var1 = \"ET Begin \" + Var\n",
    "# Apply Cumulative Distribution Function\n",
    "    Control_Sorted, Control_Density = Cum_Dist(Control_ET[Var1], Ascend)\n",
    "    RCP45_Sorted, RCP45_Density = Cum_Dist(RCP45_ET[Var1], Ascend)\n",
    "    RCP85_Sorted, RCP85_Density = Cum_Dist(RCP85_ET[Var1], Ascend)\n",
    "# Plotting\n",
    "    if Vert == False:\n",
    "        Axis.plot(Control_Sorted, Control_Density, color='limegreen', linewidth=3.8, label='Control', alpha=0.8)\n",
    "        Axis.plot(RCP45_Sorted, RCP45_Density, color='orange', linewidth=3.8, label='RCP4.5', alpha=0.8)\n",
    "        Axis.plot(RCP85_Sorted, RCP85_Density, color='red', linewidth=3.8, label='RCP8.5', alpha=0.8)\n",
    "    else:\n",
    "        Axis.plot(Control_Density, Control_Sorted, color='limegreen', linewidth=3.8, label='Control', alpha=0.8)\n",
    "        Axis.plot(RCP45_Density, RCP45_Sorted, color='orange', linewidth=3.8, label='RCP4.5', alpha=0.8)\n",
    "        Axis.plot(RCP85_Density, RCP85_Sorted, color='red', linewidth=3.8, label='RCP8.5', alpha=0.8)\n",
    "# Formatting Based on Variable\n",
    "    ET_Cum_Dist_Formatting(Var, Var_Title, Var_Label, Vert, Min, Max, Width, \"ET Begin \")\n",
    "#\n",
    "# Legend\n",
    "    pyplot.legend(loc=4, fontsize=15)\n",
    "#\n",
    "# Plot ET Completion\n",
    "    Axis = Fig.add_subplot(1,3,3)\n",
    "    Var2 = \"ET Complete \" + Var\n",
    "# Apply Cumulative Distribution Function\n",
    "    Control_Sorted, Control_Density = Cum_Dist(Control_ET[Var2], Ascend)\n",
    "    RCP45_Sorted, RCP45_Density = Cum_Dist(RCP45_ET[Var2], Ascend)\n",
    "    RCP85_Sorted, RCP85_Density = Cum_Dist(RCP85_ET[Var2], Ascend)\n",
    "# Plotting\n",
    "    if Vert == False:\n",
    "        Axis.plot(Control_Sorted, Control_Density, color='limegreen', linewidth=3.8, label='Control', alpha=0.8)\n",
    "        Axis.plot(RCP45_Sorted, RCP45_Density, color='orange', linewidth=3.8, label='RCP45', alpha=0.8)\n",
    "        Axis.plot(RCP85_Sorted, RCP85_Density, color='red', linewidth=3.8, label='RCP85', alpha=0.8)\n",
    "    else:\n",
    "        Axis.plot(Control_Density, Control_Sorted, color='limegreen', linewidth=3.8, label='Control', alpha=0.8)\n",
    "        Axis.plot(RCP45_Density, RCP45_Sorted, color='orange', linewidth=3.8, label='RCP45', alpha=0.8)\n",
    "        Axis.plot(RCP85_Density, RCP85_Sorted, color='red', linewidth=3.8, label='RCP85', alpha=0.8)\n",
    "# Formatting Based on Variable\n",
    "    ET_Cum_Dist_Formatting(Var, Var_Title, Var_Label, Vert, Min, Max, Width, \"ET Complete \")\n",
    "#\n",
    "# Save Fig\n",
    "    Fig.tight_layout()\n",
    "    if Savefig == True:\n",
    "        Fig.savefig(Output_Diri+Figname, bbox_inches='tight')"
   ]
  },
  {
   "cell_type": "code",
   "execution_count": null,
   "id": "4fae7e5e-ab4c-4cf7-aa61-f123d02221d7",
   "metadata": {},
   "outputs": [],
   "source": [
    "# Formatting Based on Variable\n",
    "def ET_Cum_Dist_Formatting(Var, Var_Title, Var_Label, Vert, Min, Max, Width, Title1):\n",
    "# x Ticks and Lims\n",
    "    x_Ticks = Create_Bins(Min, Max, Width)\n",
    "# y Ticks and Lims\n",
    "    if Vert == True:\n",
    "        pyplot.yticks(x_Ticks)\n",
    "        pyplot.ylim(Min, Max)\n",
    "        pyplot.xticks(Create_Bins(0,1,0.125))\n",
    "        pyplot.xlim(0,1)\n",
    "    else:\n",
    "        pyplot.xticks(x_Ticks)\n",
    "        pyplot.xlim(Min, Max)\n",
    "        pyplot.yticks(Create_Bins(0,1,0.125))\n",
    "        pyplot.ylim(0,1)\n",
    "#\n",
    "# Labels and Title\n",
    "    if Vert == True:\n",
    "        pyplot.ylabel(Var_Label, fontsize=18)\n",
    "        pyplot.xlabel(\"Cumulative Frequency Density\", fontsize=18)\n",
    "    else:\n",
    "        pyplot.xlabel(Var_Label, fontsize=18)\n",
    "        pyplot.ylabel(\"Cumulative Frequency Density\", fontsize=18)\n",
    "    Title = Title1 + Var_Title\n",
    "    pyplot.title(Title, fontsize=25)\n",
    "#\n",
    "# Gridlines\n",
    "    pyplot.grid(linewidth=0.3, color='silver', linestyle='-')"
   ]
  },
  {
   "cell_type": "code",
   "execution_count": null,
   "id": "f7d86ff0-baa3-421e-b3bd-050f2a2017de",
   "metadata": {},
   "outputs": [],
   "source": []
  },
  {
   "cell_type": "code",
   "execution_count": null,
   "id": "b3850b92-b65b-4e1f-88a6-d17d12f8d7c2",
   "metadata": {},
   "outputs": [],
   "source": []
  },
  {
   "cell_type": "code",
   "execution_count": null,
   "id": "41de4f6b-5061-4093-8609-a0459051c023",
   "metadata": {},
   "outputs": [],
   "source": []
  },
  {
   "cell_type": "code",
   "execution_count": null,
   "id": "051c2dfa-7a87-4c42-b67d-fe4d73241b8e",
   "metadata": {},
   "outputs": [],
   "source": [
    "# Latitude\n",
    "Var = \"Lat\"\n",
    "Var_Title = \"Latitude\"\n",
    "Var_Label = \"Latitude\"\n",
    "Ascend = True\n",
    "Vert = True\n",
    "Min, Max, Width = 10, 60, 5\n",
    "Savefig = True\n",
    "Figname = 'ET_Latitude_Cumulative.png'\n",
    "ET_Cum_Dist_Plot(Control_ET, RCP45_ET, RCP85_ET, Var, Var_Title, Var_Label, Ascend, Vert, \\\n",
    "Min, Max, Width, Savefig, Figname)"
   ]
  },
  {
   "cell_type": "code",
   "execution_count": null,
   "id": "23436dcf-28d7-47a2-bed3-a37da9a3e491",
   "metadata": {},
   "outputs": [],
   "source": [
    "# Longitude\n",
    "Var = \"Lon\"\n",
    "Var_Title = \"Longitude\"\n",
    "Var_Label = \"Longitude\"\n",
    "Ascend = True\n",
    "Vert = False\n",
    "Min, Max, Width = -100, 0, 10\n",
    "Savefig = True\n",
    "Figname = 'ET_Longitude_Cumulative.png'\n",
    "ET_Cum_Dist_Plot(Control_ET, RCP45_ET, RCP85_ET, Var, Var_Title, Var_Label, Ascend, Vert, \\\n",
    "Min, Max, Width, Savefig, Figname)"
   ]
  },
  {
   "cell_type": "code",
   "execution_count": null,
   "id": "2295d3e6-4e26-4498-b0b0-62888ef9a132",
   "metadata": {},
   "outputs": [],
   "source": [
    "# Sea Level Pressure\n",
    "Var = \"SLP\"\n",
    "Var_Title = \"Sea Level Pressure\"\n",
    "Var_Label = \"Sea Level Pressure (SLP)\"\n",
    "Ascend = True\n",
    "Vert = False\n",
    "Min, Max, Width = 900, 1010, 10\n",
    "Savefig = True\n",
    "Figname = 'ET_SLP_Cumulative.png'\n",
    "ET_Cum_Dist_Plot(Control_ET, RCP45_ET, RCP85_ET, Var, Var_Title, Var_Label, Ascend, Vert, \\\n",
    "Min, Max, Width, Savefig, Figname)"
   ]
  },
  {
   "cell_type": "code",
   "execution_count": null,
   "id": "3d4a398b-3ba4-4e21-87bf-680e7a40fd9c",
   "metadata": {},
   "outputs": [],
   "source": []
  },
  {
   "cell_type": "code",
   "execution_count": null,
   "id": "675622ce-262f-4e2d-ad0d-bc13d44ce3f3",
   "metadata": {},
   "outputs": [],
   "source": []
  },
  {
   "cell_type": "code",
   "execution_count": null,
   "id": "64a38469-3daf-4dc5-91f9-3222f793d158",
   "metadata": {},
   "outputs": [],
   "source": []
  },
  {
   "cell_type": "code",
   "execution_count": null,
   "id": "33d5fa1e-b3ea-4a94-b20e-b711c23cd097",
   "metadata": {},
   "outputs": [],
   "source": [
    "# 850hPa Winds\n",
    "Var = \"850hPa Winds\"\n",
    "Var_Title = \"850hPa Winds\"\n",
    "Var_Label = \"850hPa Windspeed (m/s)\"\n",
    "Ascend = True\n",
    "Vert = False\n",
    "Min, Max, Width = 0, 90, 10\n",
    "Savefig = True\n",
    "Figname = 'ET_850hPa_Winds_Cumulative.png'\n",
    "ET_Cum_Dist_Plot(Control_ET_Compo, RCP45_ET_Compo, RCP85_ET_Compo, Var, Var_Title, Var_Label, Ascend, Vert, \\\n",
    "Min, Max, Width, Savefig, Figname)"
   ]
  },
  {
   "cell_type": "code",
   "execution_count": null,
   "id": "5e472de0-7b84-491a-af44-852e49fb2ea1",
   "metadata": {},
   "outputs": [],
   "source": [
    "# 13m/s Wind Field\n",
    "Var = \"13m/s\"\n",
    "Var_Title = \"13m/s Wind Field\"\n",
    "Var_Label = \"# of Gridpoints\"\n",
    "Ascend = True\n",
    "Vert = False\n",
    "Min, Max, Width = 0, 4500, 500\n",
    "Savefig = True\n",
    "Figname = 'ET_Wind_13ms_Cumulative.png'\n",
    "ET_Cum_Dist_Plot(Control_ET_Compo, RCP45_ET_Compo, RCP85_ET_Compo, Var, Var_Title, Var_Label, Ascend, Vert, \\\n",
    "Min, Max, Width, Savefig, Figname)"
   ]
  },
  {
   "cell_type": "code",
   "execution_count": null,
   "id": "37e871a8-0b1b-477f-8212-3983476f76da",
   "metadata": {},
   "outputs": [],
   "source": [
    "# 18m/s Wind Field\n",
    "Var = \"18m/s\"\n",
    "Var_Title = \"18m/s Wind Field\"\n",
    "Var_Label = \"# of Gridpoints\"\n",
    "Ascend = True\n",
    "Vert = False\n",
    "Min, Max, Width = 0, 3500, 500\n",
    "Savefig = True\n",
    "Figname = 'ET_Wind_18ms_Cumulative.png'\n",
    "ET_Cum_Dist_Plot(Control_ET_Compo, RCP45_ET_Compo, RCP85_ET_Compo, Var, Var_Title, Var_Label, Ascend, Vert, \\\n",
    "Min, Max, Width, Savefig, Figname)"
   ]
  },
  {
   "cell_type": "code",
   "execution_count": null,
   "id": "51934aae-f06e-4e4b-8335-645be0c7ed17",
   "metadata": {},
   "outputs": [],
   "source": [
    "# 25m/s Wind Field\n",
    "Var = \"25m/s\"\n",
    "Var_Title = \"25m/s Wind Field\"\n",
    "Var_Label = \"# of Gridpoints\"\n",
    "Ascend = True\n",
    "Vert = False\n",
    "Min, Max, Width = 0, 1800, 200\n",
    "Savefig = True\n",
    "Figname = 'ET_Wind_25ms_Cumulative.png'\n",
    "ET_Cum_Dist_Plot(Control_ET_Compo, RCP45_ET_Compo, RCP85_ET_Compo, Var, Var_Title, Var_Label, Ascend, Vert, \\\n",
    "Min, Max, Width, Savefig, Figname)"
   ]
  },
  {
   "cell_type": "code",
   "execution_count": null,
   "id": "74061875-2379-4392-84b7-b28d47eb9721",
   "metadata": {},
   "outputs": [],
   "source": [
    "# 33m/s Wind Field\n",
    "Var = \"33m/s\"\n",
    "Var_Title = \"33m/s Wind Field\"\n",
    "Var_Label = \"# of Gridpoints\"\n",
    "Ascend = True\n",
    "Vert = False\n",
    "Min, Max, Width = 0, 1000, 100\n",
    "Savefig = True\n",
    "Figname = 'ET_Wind_33ms_Cumulative.png'\n",
    "ET_Cum_Dist_Plot(Control_ET_Compo, RCP45_ET_Compo, RCP85_ET_Compo, Var, Var_Title, Var_Label, Ascend, Vert, \\\n",
    "Min, Max, Width, Savefig, Figname)"
   ]
  },
  {
   "cell_type": "code",
   "execution_count": null,
   "id": "eede49b4-65a5-44e7-bd7b-d94957f97147",
   "metadata": {},
   "outputs": [],
   "source": [
    "# 1mm/hr Precip Field\n",
    "Var = \"1mm/hr\"\n",
    "Var_Title = \"1mm/hr Precip Field\"\n",
    "Var_Label = \"# of Gridpoints\"\n",
    "Ascend = True\n",
    "Vert = False\n",
    "Min, Max, Width = 0, 900, 100\n",
    "Savefig = True\n",
    "Figname = 'ET_Precip_1mmhr_Cumulative.png'\n",
    "ET_Cum_Dist_Plot(Control_ET_Compo, RCP45_ET_Compo, RCP85_ET_Compo, Var, Var_Title, Var_Label, Ascend, Vert, \\\n",
    "Min, Max, Width, Savefig, Figname)"
   ]
  },
  {
   "cell_type": "code",
   "execution_count": null,
   "id": "d3226a63-db9b-4352-9ea4-d6530d3d9159",
   "metadata": {},
   "outputs": [],
   "source": [
    "# 5mm/hr Precip Field\n",
    "Var = \"5mm/hr\"\n",
    "Var_Title = \"5mm/hr Precip Field\"\n",
    "Var_Label = \"# of Gridpoints\"\n",
    "Ascend = True\n",
    "Vert = False\n",
    "Min, Max, Width = 0, 225, 25\n",
    "Savefig = True\n",
    "Figname = 'ET_Precip_5mmhr_Cumulative.png'\n",
    "ET_Cum_Dist_Plot(Control_ET_Compo, RCP45_ET_Compo, RCP85_ET_Compo, Var, Var_Title, Var_Label, Ascend, Vert, \\\n",
    "Min, Max, Width, Savefig, Figname)"
   ]
  },
  {
   "cell_type": "code",
   "execution_count": null,
   "id": "af06427e-7d97-49f9-945a-11793487b68f",
   "metadata": {},
   "outputs": [],
   "source": [
    "# 10mm/hr Precip Field\n",
    "Var = \"10mm/hr\"\n",
    "Var_Title = \"10mm/hr Precip Field\"\n",
    "Var_Label = \"# of Gridpoints\"\n",
    "Ascend = True\n",
    "Vert = False\n",
    "Min, Max, Width = 0, 80, 10\n",
    "Savefig = True\n",
    "Figname = 'ET_Precip_10mmhr_Cumulative.png'\n",
    "ET_Cum_Dist_Plot(Control_ET_Compo, RCP45_ET_Compo, RCP85_ET_Compo, Var, Var_Title, Var_Label, Ascend, Vert, \\\n",
    "Min, Max, Width, Savefig, Figname)"
   ]
  },
  {
   "cell_type": "code",
   "execution_count": null,
   "id": "15cf9af3-9d32-4562-8af3-f655fa31c656",
   "metadata": {},
   "outputs": [],
   "source": [
    "# Max Precip Rate\n",
    "Var = \"Max Precip Rate\"\n",
    "Var_Title = \"Max Precip Rate\"\n",
    "Var_Label = \"Max Precip Rate (mm/hr)\"\n",
    "Ascend = True\n",
    "Vert = False\n",
    "Min, Max, Width = 0, 110, 10\n",
    "Savefig = True\n",
    "Figname = 'ET_Max_Precip_Rate_Cumulative.png'\n",
    "ET_Cum_Dist_Plot(Control_ET_Compo, RCP45_ET_Compo, RCP85_ET_Compo, Var, Var_Title, Var_Label, Ascend, Vert, \\\n",
    "Min, Max, Width, Savefig, Figname)"
   ]
  },
  {
   "cell_type": "code",
   "execution_count": null,
   "id": "f7ebfb98-db09-445c-96a5-9931b0362952",
   "metadata": {},
   "outputs": [],
   "source": [
    "# Max Precipitable Water\n",
    "Var = \"Max Precip Water\"\n",
    "Var_Title = \"Max Precipitable Water\"\n",
    "Var_Label = \"Max Precipitable Water (mm)\"\n",
    "Ascend = True\n",
    "Vert = False\n",
    "Min, Max, Width = 30, 130, 10\n",
    "Savefig = True\n",
    "Figname = 'ET_Max_Precip_Water_Cumulative.png'\n",
    "ET_Cum_Dist_Plot(Control_ET_Compo, RCP45_ET_Compo, RCP85_ET_Compo, Var, Var_Title, Var_Label, Ascend, Vert, \\\n",
    "Min, Max, Width, Savefig, Figname)"
   ]
  },
  {
   "cell_type": "code",
   "execution_count": null,
   "id": "3e4b4fbf-5e5a-4798-9c45-6d3275d26400",
   "metadata": {},
   "outputs": [],
   "source": [
    "# Total Precipitable Water\n",
    "Var = \"Total Precip Water\"\n",
    "Var_Title = \"Total Precipitable Water\"\n",
    "Var_Label = \"Total Precipitable Water (mm #gridpoints)\"\n",
    "Ascend = True\n",
    "Vert = False\n",
    "Min, Max, Width = 0, 450000, 50000\n",
    "Savefig = True\n",
    "Figname = 'ET_Total_Precip_Water_Cumulative.png'\n",
    "ET_Cum_Dist_Plot(Control_ET_Compo, RCP45_ET_Compo, RCP85_ET_Compo, Var, Var_Title, Var_Label, Ascend, Vert, \\\n",
    "Min, Max, Width, Savefig, Figname)"
   ]
  },
  {
   "cell_type": "code",
   "execution_count": null,
   "id": "d85e89ad-5318-4b0d-9482-025588a8832c",
   "metadata": {},
   "outputs": [],
   "source": [
    "# Min Cloud Top Temperature\n",
    "Var = \"Min Cloud Temp\"\n",
    "Var_Title = \"Min Cloud Top Temperature\"\n",
    "Var_Label = \"Min Cloud Top Temperature (C)\"\n",
    "Ascend = True\n",
    "Vert = False\n",
    "Min, Max, Width = -80, 0, 10\n",
    "Savefig = True\n",
    "Figname = 'ET_Temp_Cloud_Min_Cumulative.png'\n",
    "ET_Cum_Dist_Plot(Control_ET_Compo, RCP45_ET_Compo, RCP85_ET_Compo, Var, Var_Title, Var_Label, Ascend, Vert, \\\n",
    "Min, Max, Width, Savefig, Figname)"
   ]
  },
  {
   "cell_type": "code",
   "execution_count": null,
   "id": "96beba45-5805-4375-8694-06ef37d2c065",
   "metadata": {},
   "outputs": [],
   "source": [
    "# Surface Temperature\n",
    "Var = \"Sfc Temp\"\n",
    "Var_Title = \"Surface Temperature\"\n",
    "Var_Label = \"Surface Temperature (C)\"\n",
    "Ascend = True\n",
    "Vert = False\n",
    "Min, Max, Width = 12, 34, 2\n",
    "Savefig = True\n",
    "Figname = 'ET_Temp_Sfc_Cumulative.png'\n",
    "ET_Cum_Dist_Plot(Control_ET_Compo, RCP45_ET_Compo, RCP85_ET_Compo, Var, Var_Title, Var_Label, Ascend, Vert, \\\n",
    "Min, Max, Width, Savefig, Figname)"
   ]
  },
  {
   "cell_type": "code",
   "execution_count": null,
   "id": "ffb520b0-f8b8-4997-83e4-e0709a332fb5",
   "metadata": {},
   "outputs": [],
   "source": [
    "# 500hPa Temperature\n",
    "Var = \"500hPa Temp\"\n",
    "Var_Title = \"500hPa Temperature\"\n",
    "Var_Label = \"500hPa Temperature (C)\"\n",
    "Ascend = True\n",
    "Vert = False\n",
    "Min, Max, Width = -30, 5, 5\n",
    "Savefig = True\n",
    "Figname = 'ET_Temp_500hPa_Cumulative.png'\n",
    "ET_Cum_Dist_Plot(Control_ET_Compo, RCP45_ET_Compo, RCP85_ET_Compo, Var, Var_Title, Var_Label, Ascend, Vert, \\\n",
    "Min, Max, Width, Savefig, Figname)"
   ]
  },
  {
   "cell_type": "code",
   "execution_count": null,
   "id": "b81301ea-43db-408a-bb68-3206bbe991c9",
   "metadata": {},
   "outputs": [],
   "source": [
    "# 200hPa Temperature\n",
    "Var = \"200hPa Temp\"\n",
    "Var_Title = \"200hPa Temperature\"\n",
    "Var_Label = \"200hPa Temperature (C)\"\n",
    "Ascend = True\n",
    "Vert = False\n",
    "Min, Max, Width = -65, -30, 5\n",
    "Savefig = True\n",
    "Figname = 'ET_Temp_200hPa_Cumulative.png'\n",
    "ET_Cum_Dist_Plot(Control_ET_Compo, RCP45_ET_Compo, RCP85_ET_Compo, Var, Var_Title, Var_Label, Ascend, Vert, \\\n",
    "Min, Max, Width, Savefig, Figname)"
   ]
  },
  {
   "cell_type": "code",
   "execution_count": null,
   "id": "72baca1a-0669-4499-8128-373fbf4c89c5",
   "metadata": {},
   "outputs": [],
   "source": [
    "# 200hPa Zonal Wind\n",
    "Var = \"200hPa U\"\n",
    "Var_Title = \"200hPa Zonal Wind\"\n",
    "Var_Label = \"200hPa Zonal Wind (m/s)\"\n",
    "Ascend = True\n",
    "Vert = False\n",
    "Min, Max, Width = -20, 70, 10\n",
    "Savefig = True\n",
    "Figname = 'ET_U_200hPa_Cumulative.png'\n",
    "ET_Cum_Dist_Plot(Control_ET_Compo, RCP45_ET_Compo, RCP85_ET_Compo, Var, Var_Title, Var_Label, Ascend, Vert, \\\n",
    "Min, Max, Width, Savefig, Figname)"
   ]
  },
  {
   "cell_type": "code",
   "execution_count": null,
   "id": "c2b57832-8b55-498e-9569-a4821aa69850",
   "metadata": {},
   "outputs": [],
   "source": [
    "# Max Rising Velocity\n",
    "Var = \"Max Rising\"\n",
    "Var_Title = \"Max Rising Velocity\"\n",
    "Var_Label = \"Max Rising Velocity (m/s)\"\n",
    "Ascend = True\n",
    "Vert = False\n",
    "Min, Max, Width = 0, 16, 2\n",
    "Savefig = True\n",
    "Figname = 'ET_Max_Rising_Cumulative.png'\n",
    "ET_Cum_Dist_Plot(Control_ET_Compo, RCP45_ET_Compo, RCP85_ET_Compo, Var, Var_Title, Var_Label, Ascend, Vert, \\\n",
    "Min, Max, Width, Savefig, Figname)"
   ]
  },
  {
   "cell_type": "code",
   "execution_count": null,
   "id": "11bcdb44-df6e-441b-9afc-4dd080ff37da",
   "metadata": {},
   "outputs": [],
   "source": [
    "# Max Sinking Velocity\n",
    "Var = \"Max Sinking\"\n",
    "Var_Title = \"Max Sinking Velocity\"\n",
    "Var_Label = \"Max Sinking Velocity (m/s)\"\n",
    "Ascend = True\n",
    "Vert = False\n",
    "Min, Max, Width = 0, 10, 1\n",
    "Savefig = True\n",
    "Figname = 'ET_Max_Sinking_Cumulative.png'\n",
    "ET_Cum_Dist_Plot(Control_ET_Compo, RCP45_ET_Compo, RCP85_ET_Compo, Var, Var_Title, Var_Label, Ascend, Vert, \\\n",
    "Min, Max, Width, Savefig, Figname)"
   ]
  },
  {
   "cell_type": "code",
   "execution_count": null,
   "id": "6df91db1-685e-4107-b5b9-73db81765b46",
   "metadata": {},
   "outputs": [],
   "source": []
  }
 ],
 "metadata": {
  "kernelspec": {
   "display_name": "NPL 2023b",
   "language": "python",
   "name": "npl-2023b"
  },
  "language_info": {
   "codemirror_mode": {
    "name": "ipython",
    "version": 3
   },
   "file_extension": ".py",
   "mimetype": "text/x-python",
   "name": "python",
   "nbconvert_exporter": "python",
   "pygments_lexer": "ipython3",
   "version": "3.10.12"
  }
 },
 "nbformat": 4,
 "nbformat_minor": 5
}
