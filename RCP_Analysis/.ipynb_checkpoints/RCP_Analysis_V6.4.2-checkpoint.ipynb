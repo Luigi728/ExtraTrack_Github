{
 "cells": [
  {
   "cell_type": "code",
   "execution_count": 1,
   "id": "460aa4fd-935e-46b2-8d09-f3d07edb3065",
   "metadata": {},
   "outputs": [],
   "source": [
    "import cartopy.crs as ccrs\n",
    "import cartopy.feature as cfeature\n",
    "from cartopy.mpl.gridliner import LATITUDE_FORMATTER, LONGITUDE_FORMATTER\n",
    "import cftime\n",
    "import datetime\n",
    "from datetime import date\n",
    "from matplotlib import pyplot\n",
    "from matplotlib import colors\n",
    "from matplotlib import font_manager\n",
    "from matplotlib.cm import ScalarMappable\n",
    "import matplotlib.colors as mcolors\n",
    "import matplotlib.dates as mdates\n",
    "import matplotlib.lines as mlines\n",
    "import matplotlib.patches as mpatches\n",
    "import matplotlib.ticker as mticker\n",
    "import numpy\n",
    "import pandas\n",
    "from PIL import Image\n",
    "import random\n",
    "import xarray as xr"
   ]
  },
  {
   "cell_type": "code",
   "execution_count": 2,
   "id": "510faee9-64bf-401a-b4b1-d7b31fdab60f",
   "metadata": {},
   "outputs": [],
   "source": [
    "Diri = '/glade/u/home/whimkao//ExtraTrack/ExtraTrack_Data/Output_Files_V6/'\n",
    "Output_Diri = '/glade/u/home/whimkao//ExtraTrack/ExtraTrack_Github/RCP_Figs/Analysis_Figs_V6.4.1/'"
   ]
  },
  {
   "cell_type": "code",
   "execution_count": 3,
   "id": "e31d3afb-ad9e-496a-b7cf-3b730a2a2c27",
   "metadata": {},
   "outputs": [],
   "source": [
    "# Open File\n",
    "def Open_File(File):\n",
    "    DF = pandas.read_csv(File)\n",
    "    DF = DF.drop(\"Unnamed: 0\", axis=1)\n",
    "    return (DF)"
   ]
  },
  {
   "cell_type": "code",
   "execution_count": 4,
   "id": "b89828f9-ad21-4018-aca8-3892b619bc39",
   "metadata": {},
   "outputs": [],
   "source": [
    "# Open Each File\n",
    "def Files_Open(Model, Diri):\n",
    "    Data_DF = Open_File(Diri+Model+'_Data_SubsetB_Output_V6.csv')\n",
    "    ET_DF = Open_File(Diri+Model+'_ET_SubsetB_Output_V6.csv')\n",
    "    Codes_DF = Open_File(Diri+Model+'_Codes_Output_V6.csv')\n",
    "    Time, Begin_Time, Compl_Time, Peak_Time, Trop_Peak_Time = [], [], [], [], []\n",
    "# Edit Time Format\n",
    "    for i in range(len(Data_DF)):\n",
    "        Time.append(Datetime(Data_DF[\"Time(Z)\"][i]))\n",
    "    for j in range(len(ET_DF)):\n",
    "        Begin_Time.append(Datetime(ET_DF[\"ET Begin Time\"][j]))\n",
    "        Compl_Time.append(Datetime(ET_DF[\"ET Complete Time\"][j]))\n",
    "        Trop_Peak_Time.append(Datetime(ET_DF[\"Trop Peak Time\"][j]))\n",
    "        Peak_Time.append(Datetime(ET_DF[\"Peak Time\"][j]))\n",
    "    Data_DF[\"Time(Z)\"] = Time\n",
    "    ET_DF[\"ET Begin Time\"] = Begin_Time\n",
    "    ET_DF[\"ET Complete Time\"] = Compl_Time\n",
    "    ET_DF[\"Trop Peak Time\"] = Trop_Peak_Time\n",
    "    ET_DF[\"Peak Time\"] = Peak_Time\n",
    "    return (Data_DF, ET_DF, Codes_DF)"
   ]
  },
  {
   "cell_type": "code",
   "execution_count": 5,
   "id": "30e0bae7-878f-4de9-bb6d-99f77ea13cbf",
   "metadata": {},
   "outputs": [],
   "source": [
    "def Datetime(Time):\n",
    "    try:\n",
    "        New_Time = datetime.datetime.strptime(Time, '%Y-%m-%d %H:%M:%S')\n",
    "    except:\n",
    "        New_Time = numpy.nan\n",
    "    return (New_Time)"
   ]
  },
  {
   "cell_type": "code",
   "execution_count": 6,
   "id": "57222253-5f2d-456f-99be-509a1fe6a34a",
   "metadata": {},
   "outputs": [],
   "source": [
    "# Create Phase Distribution Bins\n",
    "def Create_Bins(Min, Max, Bin_Width):\n",
    "    Bins = numpy.arange(Min, Max+Bin_Width, Bin_Width)\n",
    "    return (Bins)\n",
    "Lat_Bins = Create_Bins(10,60,5)\n",
    "Lon_Bins = Create_Bins(-100,20,5)"
   ]
  },
  {
   "cell_type": "code",
   "execution_count": 7,
   "id": "037243d8-c76d-4468-90d8-c979463ec7f8",
   "metadata": {},
   "outputs": [],
   "source": [
    "Num_Years = numpy.array([90,93,93])"
   ]
  },
  {
   "cell_type": "code",
   "execution_count": 8,
   "id": "33b4ac8c-0f55-4b22-9fa7-892f71c66d0c",
   "metadata": {},
   "outputs": [],
   "source": [
    "Control_Data, Control_ET, Control_Codes = Files_Open(\"Control\", Diri)\n",
    "RCP45_Data, RCP45_ET, RCP45_Codes = Files_Open(\"RCP45\", Diri)\n",
    "RCP85_Data, RCP85_ET, RCP85_Codes = Files_Open(\"RCP85\", Diri)"
   ]
  },
  {
   "cell_type": "code",
   "execution_count": null,
   "id": "3e7acd40-649f-4498-8041-424c5a977bb2",
   "metadata": {},
   "outputs": [],
   "source": []
  },
  {
   "cell_type": "code",
   "execution_count": null,
   "id": "6ed77d58-3c22-4f5a-89de-755c844ca7d3",
   "metadata": {},
   "outputs": [],
   "source": []
  },
  {
   "cell_type": "code",
   "execution_count": null,
   "id": "cd57fdce-9d9e-4cbd-8503-3d3e6bb79c24",
   "metadata": {},
   "outputs": [],
   "source": []
  },
  {
   "cell_type": "code",
   "execution_count": null,
   "id": "0110e771-0cf7-4387-8d49-5038dfef98c1",
   "metadata": {},
   "outputs": [],
   "source": []
  },
  {
   "cell_type": "code",
   "execution_count": null,
   "id": "e1d2e174-3ea0-41ed-b145-18bee2ba60aa",
   "metadata": {},
   "outputs": [],
   "source": []
  }
 ],
 "metadata": {
  "kernelspec": {
   "display_name": "NPL 2023b",
   "language": "python",
   "name": "npl-2023b"
  },
  "language_info": {
   "codemirror_mode": {
    "name": "ipython",
    "version": 3
   },
   "file_extension": ".py",
   "mimetype": "text/x-python",
   "name": "python",
   "nbconvert_exporter": "python",
   "pygments_lexer": "ipython3",
   "version": "3.10.12"
  }
 },
 "nbformat": 4,
 "nbformat_minor": 5
}
