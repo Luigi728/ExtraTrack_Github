{
 "cells": [
  {
   "cell_type": "code",
   "execution_count": null,
   "id": "460aa4fd-935e-46b2-8d09-f3d07edb3065",
   "metadata": {},
   "outputs": [],
   "source": [
    "import datetime\n",
    "import os\n",
    "import random\n",
    "import readline\n",
    "from datetime import date\n",
    "import cartopy.crs as ccrs\n",
    "import cartopy.feature as cfeature\n",
    "import cftime\n",
    "import matplotlib.colors as mcolors\n",
    "import matplotlib.dates as mdates\n",
    "import matplotlib.lines as mlines\n",
    "import matplotlib.patches as mpatches\n",
    "import matplotlib.ticker as mticker\n",
    "import netCDF4\n",
    "import numpy\n",
    "import pandas\n",
    "import scipy\n",
    "import seaborn\n",
    "import xarray as xr\n",
    "from cartopy.mpl.gridliner import LATITUDE_FORMATTER, LONGITUDE_FORMATTER\n",
    "from matplotlib import colors, font_manager, pyplot\n",
    "from matplotlib.cm import ScalarMappable\n",
    "from mpl_toolkits.mplot3d import Axes3D\n",
    "from PIL import Image\n",
    "from scipy import fft, linalg, stats\n",
    "from scipy.stats import poisson, ttest_ind\n",
    "from sklearn.linear_model import LinearRegression, LogisticRegression\n",
    "from sklearn.preprocessing import normalize\n",
    "from statsmodels.tsa.ar_model import AutoReg"
   ]
  },
  {
   "cell_type": "code",
   "execution_count": null,
   "id": "bba2911b-d769-468b-9229-061a124e679f",
   "metadata": {},
   "outputs": [],
   "source": [
    "Diri = '/glade/u/home/whimkao//ExtraTrack/ExtraTrack_Data/Output_Files_V6/'\n",
    "Output_Diri = '/glade/u/home/whimkao//ExtraTrack/ExtraTrack_Github/RCP_Figs/Analysis_Figs_V6/'"
   ]
  },
  {
   "cell_type": "code",
   "execution_count": null,
   "id": "d033720c-9137-42fc-8084-ae7f913b825c",
   "metadata": {},
   "outputs": [],
   "source": [
    "# Open File\n",
    "def Open_File(File):\n",
    "    DF = pandas.read_csv(File)\n",
    "    DF = DF.drop(\"Unnamed: 0\", axis=1)\n",
    "    return (DF)"
   ]
  },
  {
   "cell_type": "code",
   "execution_count": null,
   "id": "eb9e9c47-7bfe-4b13-8423-6e5a87b4a9b3",
   "metadata": {},
   "outputs": [],
   "source": [
    "# Open Each File\n",
    "def Files_Open(Model, Diri):\n",
    "    Data_DF = Open_File(Diri+Model+'_Data_All_Output_V6.csv')\n",
    "    ET_DF = Open_File(Diri+Model+'_ET_All_Output_V6.csv')\n",
    "    Codes_DF = Open_File(Diri+Model+'_Codes_Output_V6.csv')\n",
    "    Time = []\n",
    "    Birth_Time = []\n",
    "    Start_Time = []\n",
    "    End_Time = []\n",
    "    Death_Time = []\n",
    "    Peak_Time = []\n",
    "# Edit Time Format\n",
    "    for i in range(len(Data_DF)):\n",
    "        Time.append(Datetime(Data_DF[\"Time(Z)\"][i]))\n",
    "    for j in range(len(ET_DF)):\n",
    "        Birth_Time.append(Datetime(ET_DF[\"Genesis Time\"][j]))\n",
    "        Start_Time.append(Datetime(ET_DF[\"ET Begin Time\"][j]))\n",
    "        End_Time.append(Datetime(ET_DF[\"ET Complete Time\"][j]))\n",
    "        Death_Time.append(Datetime(ET_DF[\"Dissipate Time\"][j]))\n",
    "        Peak_Time.append(Datetime(ET_DF[\"Peak Time\"][j]))\n",
    "    Data_DF[\"Time(Z)\"] = Time\n",
    "    ET_DF[\"Genesis Time\"] = Birth_Time\n",
    "    ET_DF[\"ET Begin Time\"] = Start_Time\n",
    "    ET_DF[\"ET Complete Time\"] = End_Time\n",
    "    ET_DF[\"Dissipate Time\"] = Death_Time\n",
    "    ET_DF[\"Peak Time\"] = Peak_Time\n",
    "    return (Data_DF, ET_DF, Codes_DF)"
   ]
  },
  {
   "cell_type": "code",
   "execution_count": null,
   "id": "47f030d8-f7d1-4ebb-83bc-2aad6b254f1c",
   "metadata": {},
   "outputs": [],
   "source": [
    "def Datetime(Time):\n",
    "    try:\n",
    "        New_Time = datetime.datetime.strptime(Time, '%Y-%m-%d %H:%M:%S')\n",
    "    except:\n",
    "        New_Time = numpy.nan\n",
    "    return (New_Time)"
   ]
  },
  {
   "cell_type": "code",
   "execution_count": null,
   "id": "e98b81a7-dbce-48fe-a327-77943b2a85db",
   "metadata": {},
   "outputs": [],
   "source": [
    "# Create Phase Distribution Bins\n",
    "def Create_Bins(Min, Max, Bin_Width):\n",
    "    Bins = numpy.arange(Min, Max+Bin_Width, Bin_Width)\n",
    "    return (Bins)\n",
    "Lon_Bins = Create_Bins(-100,20,5)\n",
    "Lat_Bins = Create_Bins(0,60,5)"
   ]
  },
  {
   "cell_type": "code",
   "execution_count": null,
   "id": "db3958d4-a4e4-4994-80c7-4ef8473fdfc7",
   "metadata": {},
   "outputs": [],
   "source": [
    "Num_Years = numpy.array([90,93,93])"
   ]
  },
  {
   "cell_type": "code",
   "execution_count": null,
   "id": "4c1487ee-465a-4cde-8f9a-8f50b64587b8",
   "metadata": {},
   "outputs": [],
   "source": [
    "Control_Data_All, Control_ET_All, Control_Codes = Files_Open(\"Control\", Diri)\n",
    "RCP45_Data_All, RCP45_ET_All, RCP45_Codes = Files_Open(\"RCP45\", Diri)\n",
    "RCP85_Data_All, RCP85_ET_All, RCP85_Codes = Files_Open(\"RCP85\", Diri)"
   ]
  },
  {
   "cell_type": "code",
   "execution_count": null,
   "id": "818edfb6-7fe4-434a-9378-488c8cfb4903",
   "metadata": {},
   "outputs": [],
   "source": []
  },
  {
   "cell_type": "code",
   "execution_count": null,
   "id": "ed73e803-ba5e-411f-9016-12ff10990f4e",
   "metadata": {},
   "outputs": [],
   "source": []
  },
  {
   "cell_type": "code",
   "execution_count": null,
   "id": "b58f18ae-7959-42e9-9a09-9f4c964bd57c",
   "metadata": {},
   "outputs": [],
   "source": []
  },
  {
   "cell_type": "code",
   "execution_count": null,
   "id": "50719143-ee36-42f5-a358-3a6727094381",
   "metadata": {},
   "outputs": [],
   "source": [
    "Control_ET_All"
   ]
  },
  {
   "cell_type": "code",
   "execution_count": null,
   "id": "9dee58b2-c98d-41b6-b74a-933945dde23e",
   "metadata": {},
   "outputs": [],
   "source": []
  },
  {
   "cell_type": "code",
   "execution_count": null,
   "id": "94d24903-8e90-42c3-b1f0-8f53bccccbbf",
   "metadata": {},
   "outputs": [],
   "source": [
    "# Find Percentage of Storms That Complete ET Transition\n",
    "def Storm_Types(ET_DF, Years):\n",
    "    Storm_Type_Count = numpy.zeros(3)\n",
    "    Total_Len = len(ET_DF)\n",
    "    for i in range(Total_Len):\n",
    "        if ET_DF[\"Trans Type\"][i] == -1:\n",
    "            Storm_Type_Count[0] += 1\n",
    "        elif ET_DF[\"Trans Type\"][i] == 0:\n",
    "            Storm_Type_Count[1] += 1\n",
    "        elif ET_DF[\"Trans Type\"][i] >= 1:\n",
    "            Storm_Type_Count[2] += 1\n",
    "    Storm_Type_Percent = Storm_Type_Count / Total_Len\n",
    "    Storm_Type_Annual = Storm_Type_Count / Years\n",
    "    return (Storm_Type_Percent, Storm_Type_Annual)"
   ]
  },
  {
   "cell_type": "code",
   "execution_count": null,
   "id": "9c079d27-1bbe-497b-8347-0af341c59fed",
   "metadata": {},
   "outputs": [],
   "source": [
    "Storm_Types(Control_ET_All, Num_Years[0])"
   ]
  },
  {
   "cell_type": "code",
   "execution_count": null,
   "id": "2874e3eb-1f42-4fbb-98e4-c891950b39e4",
   "metadata": {},
   "outputs": [],
   "source": [
    "Storm_Types(RCP45_ET_All, Num_Years[1])"
   ]
  },
  {
   "cell_type": "code",
   "execution_count": null,
   "id": "a5d82998-93ad-4f05-b458-0f8cc0f36928",
   "metadata": {},
   "outputs": [],
   "source": [
    "Storm_Types(RCP85_ET_All, Num_Years[2])"
   ]
  },
  {
   "cell_type": "code",
   "execution_count": null,
   "id": "5cfd47ab-541a-4e6d-b310-3dffa7b70b40",
   "metadata": {},
   "outputs": [],
   "source": []
  }
 ],
 "metadata": {
  "kernelspec": {
   "display_name": "NPL 2023b",
   "language": "python",
   "name": "npl-2023b"
  },
  "language_info": {
   "codemirror_mode": {
    "name": "ipython",
    "version": 3
   },
   "file_extension": ".py",
   "mimetype": "text/x-python",
   "name": "python",
   "nbconvert_exporter": "python",
   "pygments_lexer": "ipython3",
   "version": "3.10.12"
  }
 },
 "nbformat": 4,
 "nbformat_minor": 5
}
