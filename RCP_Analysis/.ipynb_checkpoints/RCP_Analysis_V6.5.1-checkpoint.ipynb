{
 "cells": [
  {
   "cell_type": "code",
   "execution_count": 1,
   "id": "460aa4fd-935e-46b2-8d09-f3d07edb3065",
   "metadata": {},
   "outputs": [],
   "source": [
    "import cartopy.crs as ccrs\n",
    "import cartopy.feature as cfeature\n",
    "from cartopy.mpl.gridliner import LATITUDE_FORMATTER, LONGITUDE_FORMATTER\n",
    "import cftime\n",
    "import datetime\n",
    "from datetime import date\n",
    "from matplotlib import pyplot\n",
    "from matplotlib import colors\n",
    "from matplotlib import font_manager\n",
    "from matplotlib.cm import ScalarMappable\n",
    "import matplotlib.colors as mcolors\n",
    "import matplotlib.dates as mdates\n",
    "import matplotlib.lines as mlines\n",
    "import matplotlib.patches as mpatches\n",
    "import matplotlib.ticker as mticker\n",
    "import numpy\n",
    "import pandas\n",
    "from PIL import Image\n",
    "import random\n",
    "import xarray as xr"
   ]
  },
  {
   "cell_type": "code",
   "execution_count": 2,
   "id": "bba2911b-d769-468b-9229-061a124e679f",
   "metadata": {},
   "outputs": [],
   "source": [
    "Diri = '/glade/u/home/whimkao//ExtraTrack/ExtraTrack_Data/Output_Files_V6/'\n",
    "Output_Diri = '/glade/u/home/whimkao//ExtraTrack/ExtraTrack_Github/RCP_Figs/Analysis_Figs_V6.5.1/'"
   ]
  },
  {
   "cell_type": "code",
   "execution_count": 3,
   "id": "d033720c-9137-42fc-8084-ae7f913b825c",
   "metadata": {},
   "outputs": [],
   "source": [
    "# Open File\n",
    "def Open_File(File):\n",
    "    DF = pandas.read_csv(File)\n",
    "    DF = DF.drop(\"Unnamed: 0\", axis=1)\n",
    "    return (DF)"
   ]
  },
  {
   "cell_type": "code",
   "execution_count": 4,
   "id": "eb9e9c47-7bfe-4b13-8423-6e5a87b4a9b3",
   "metadata": {},
   "outputs": [],
   "source": [
    "# Open Each File\n",
    "def Files_Open(Model, Diri):\n",
    "    Data_DF = Open_File(Diri+Model+'_Data_hPa_Output_V6.csv')\n",
    "    ET_DF = Open_File(Diri+Model+'_ET_hPa_Output_V6.csv')\n",
    "    Codes_DF = Open_File(Diri+Model+'_Codes_Output_V6.csv')\n",
    "    Time, Begin_Time, Compl_Time, Peak_Time = [], [], [], []\n",
    "# Edit Time Format\n",
    "    for i in range(len(Data_DF)):\n",
    "        Time.append(Datetime(Data_DF[\"Time(Z)\"][i]))\n",
    "    for j in range(len(ET_DF)):\n",
    "        Begin_Time.append(Datetime(ET_DF[\"ET Begin Time\"][j]))\n",
    "        Compl_Time.append(Datetime(ET_DF[\"ET Complete Time\"][j]))\n",
    "        Peak_Time.append(Datetime(ET_DF[\"Peak Time\"][j]))\n",
    "    Data_DF[\"Time(Z)\"] = Time\n",
    "    ET_DF[\"ET Begin Time\"] = Begin_Time\n",
    "    ET_DF[\"ET Complete Time\"] = Compl_Time\n",
    "    ET_DF[\"Peak Time\"] = Peak_Time\n",
    "    return (Data_DF, ET_DF, Codes_DF)"
   ]
  },
  {
   "cell_type": "code",
   "execution_count": 5,
   "id": "47f030d8-f7d1-4ebb-83bc-2aad6b254f1c",
   "metadata": {},
   "outputs": [],
   "source": [
    "def Datetime(Time):\n",
    "    try:\n",
    "        New_Time = datetime.datetime.strptime(Time, '%Y-%m-%d %H:%M:%S')\n",
    "    except:\n",
    "        New_Time = numpy.nan\n",
    "    return (New_Time)"
   ]
  },
  {
   "cell_type": "code",
   "execution_count": 6,
   "id": "54bd114b-c20d-451e-8bf4-9ddc9a58226e",
   "metadata": {},
   "outputs": [],
   "source": [
    "def Month(Time):\n",
    "    try:\n",
    "        New_Time = datetime.datetime.strptime(Time, '%Y-%m-%d %H:%M:%S')\n",
    "        Month = New_Time.month\n",
    "    except:\n",
    "        Month = numpy.nan\n",
    "    return (Month)"
   ]
  },
  {
   "cell_type": "code",
   "execution_count": 7,
   "id": "e98b81a7-dbce-48fe-a327-77943b2a85db",
   "metadata": {},
   "outputs": [],
   "source": [
    "# Create Phase Distribution Bins\n",
    "def Create_Bins(Min, Max, Bin_Width):\n",
    "    Bins = numpy.arange(Min, Max+Bin_Width, Bin_Width)\n",
    "    return (Bins)\n",
    "Lon_Bins = Create_Bins(-100,20,5)\n",
    "Lat_Bins = Create_Bins(0,60,5)"
   ]
  },
  {
   "cell_type": "code",
   "execution_count": 8,
   "id": "db3958d4-a4e4-4994-80c7-4ef8473fdfc7",
   "metadata": {},
   "outputs": [],
   "source": [
    "Num_Years = numpy.array([90,93,93])"
   ]
  },
  {
   "cell_type": "code",
   "execution_count": 9,
   "id": "4c1487ee-465a-4cde-8f9a-8f50b64587b8",
   "metadata": {},
   "outputs": [],
   "source": [
    "Control_Data, Control_ET, Control_Codes = Files_Open(\"Control\", Diri)\n",
    "RCP45_Data, RCP45_ET, RCP45_Codes = Files_Open(\"RCP45\", Diri)\n",
    "RCP85_Data, RCP85_ET, RCP85_Codes = Files_Open(\"RCP85\", Diri)"
   ]
  },
  {
   "cell_type": "code",
   "execution_count": null,
   "id": "818edfb6-7fe4-434a-9378-488c8cfb4903",
   "metadata": {},
   "outputs": [],
   "source": []
  },
  {
   "cell_type": "code",
   "execution_count": null,
   "id": "ed73e803-ba5e-411f-9016-12ff10990f4e",
   "metadata": {},
   "outputs": [],
   "source": []
  },
  {
   "cell_type": "code",
   "execution_count": null,
   "id": "b58f18ae-7959-42e9-9a09-9f4c964bd57c",
   "metadata": {},
   "outputs": [],
   "source": []
  },
  {
   "cell_type": "code",
   "execution_count": 10,
   "id": "9dee58b2-c98d-41b6-b74a-933945dde23e",
   "metadata": {},
   "outputs": [],
   "source": [
    "# Function For Creating Cumulative Distribution\n",
    "def Cum_Dist(Array, Ascend):\n",
    "    Array = Array[Array > -728]\n",
    "    if Ascend == True:\n",
    "        Sorted = numpy.sort(Array)\n",
    "    else:\n",
    "        Sorted = numpy.sort(Array)[::-1]\n",
    "    Len = len(Sorted)\n",
    "    Density = numpy.arange(0,1.0000001,1/(Len-1))\n",
    "    return (Sorted, Density)"
   ]
  },
  {
   "cell_type": "code",
   "execution_count": 15,
   "id": "5cfd47ab-541a-4e6d-b310-3dffa7b70b40",
   "metadata": {},
   "outputs": [],
   "source": [
    "# Create Function to Plot ET Cumulative Distributions\n",
    "def ET_Cum_Dist_Plot(Control_ET, RCP45_ET, RCP85_ET, Var, Ascend, Horiz, Savefig, Figname):\n",
    "    Fig = pyplot.figure(figsize=(16,8))\n",
    "#\n",
    "# Plot ET Initiation\n",
    "    Axis = Fig.add_subplot(1,2,1)\n",
    "    Var1 = \"ET Begin \" + Var\n",
    "# Apply Cumulative Distribution Function\n",
    "    Control_Sorted, Control_Density = Cum_Dist(Control_ET[Var1], Ascend)\n",
    "    RCP45_Sorted, RCP45_Density = Cum_Dist(RCP45_ET[Var1], Ascend)\n",
    "    RCP85_Sorted, RCP85_Density = Cum_Dist(RCP85_ET[Var1], Ascend)\n",
    "# Plotting\n",
    "    if Horiz == False:\n",
    "        Axis.plot(Control_Sorted, Control_Density, color='limegreen', linewidth=3.8, label='Control', alpha=0.8)\n",
    "        Axis.plot(RCP45_Sorted, RCP45_Density, color='orange', linewidth=3.8, label='RCP45', alpha=0.8)\n",
    "        Axis.plot(RCP85_Sorted, RCP85_Density, color='red', linewidth=3.8, label='RCP85', alpha=0.8)\n",
    "    else:\n",
    "        Axis.plot(Control_Density, Control_Sorted, color='limegreen', linewidth=3.8, label='Control', alpha=0.8)\n",
    "        Axis.plot(RCP45_Density, RCP45_Sorted, color='orange', linewidth=3.8, label='RCP45', alpha=0.8)\n",
    "        Axis.plot(RCP85_Density, RCP85_Sorted, color='red', linewidth=3.8, label='RCP85', alpha=0.8)\n",
    "# Formatting Based on Variable\n",
    "    ET_Cum_Dist_Formatting(Var, Horiz, \"ET Begin \")\n",
    "#\n",
    "# Plot ET Completion\n",
    "    Axis = Fig.add_subplot(1,2,2)\n",
    "    Var2 = \"ET Complete \" + Var\n",
    "# Apply Cumulative Distribution Function\n",
    "    Control_Sorted, Control_Density = Cum_Dist(Control_ET[Var2], Ascend)\n",
    "    RCP45_Sorted, RCP45_Density = Cum_Dist(RCP45_ET[Var2], Ascend)\n",
    "    RCP85_Sorted, RCP85_Density = Cum_Dist(RCP85_ET[Var2], Ascend)\n",
    "# Plotting\n",
    "    if Horiz == False:\n",
    "        Axis.plot(Control_Sorted, Control_Density, color='limegreen', linewidth=3.8, label='Control', alpha=0.8)\n",
    "        Axis.plot(RCP45_Sorted, RCP45_Density, color='orange', linewidth=3.8, label='RCP45', alpha=0.8)\n",
    "        Axis.plot(RCP85_Sorted, RCP85_Density, color='red', linewidth=3.8, label='RCP85', alpha=0.8)\n",
    "    else:\n",
    "        Axis.plot(Control_Density, Control_Sorted, color='limegreen', linewidth=3.8, label='Control', alpha=0.8)\n",
    "        Axis.plot(RCP45_Density, RCP45_Sorted, color='orange', linewidth=3.8, label='RCP45', alpha=0.8)\n",
    "        Axis.plot(RCP85_Density, RCP85_Sorted, color='red', linewidth=3.8, label='RCP85', alpha=0.8)\n",
    "# Formatting Based on Variable\n",
    "    ET_Cum_Dist_Formatting(Var, Horiz, \"ET Complete \")\n",
    "#\n",
    "# Legend\n",
    "    pyplot.legend(loc=3, fontsize=15)\n",
    "#\n",
    "# Save Fig\n",
    "    Fig.tight_layout()\n",
    "    if Savefig == True:\n",
    "        Fig.savefig(Output_Diri+Figname, bbox_inches='tight')"
   ]
  },
  {
   "cell_type": "code",
   "execution_count": 12,
   "id": "6d6aa1fa-af0d-4b55-94c0-ef6fd23c8718",
   "metadata": {},
   "outputs": [],
   "source": [
    "# Formatting Based on Variable\n",
    "def ET_Cum_Dist_Formatting(Var, Horiz, Title1):\n",
    "# x Ticks and Lims\n",
    "    if Var == \"Lat\":\n",
    "        Min, Max, Width = 0, 60, 5\n",
    "    elif Var == \"Lon\":\n",
    "        Min, Max, Width = -100, 10, 10\n",
    "    elif Var == \"SLP\":\n",
    "        Min, Max, Width = 900, 1020, 10\n",
    "    x_Ticks = Create_Bins(Min, Max, Width)\n",
    "#\n",
    "# y Ticks and Lims\n",
    "    if Horiz == False:\n",
    "        pyplot.xticks(x_Ticks)\n",
    "        pyplot.xlim(Min, Max)\n",
    "        pyplot.yticks(Create_Bins(0,1,0.125))\n",
    "        pyplot.ylim(0,1)\n",
    "    else:\n",
    "        pyplot.yticks(x_Ticks)\n",
    "        pyplot.ylim(Min, Max)\n",
    "        pyplot.xticks(Create_Bins(0,1,0.125))\n",
    "        pyplot.xlim(0,1)\n",
    "#\n",
    "# Labels and Title\n",
    "    if Var == \"Lat\":\n",
    "        pyplot.xlabel(\"Cumulative Frequency Density\", fontsize=18)\n",
    "        pyplot.ylabel(\"Latitude\", fontsize=18)\n",
    "    elif Var == \"Lon\":\n",
    "        pyplot.ylabel(\"Cumulative Frequency Density\", fontsize=18)\n",
    "        pyplot.xlabel(\"Longitude\", fontsize=18)\n",
    "    elif Var == \"SLP\":\n",
    "        pyplot.xlabel(\"Cumulative Frequency Density\", fontsize=18)\n",
    "        pyplot.ylabel(\"Sea Level Pressure (SLP)\", fontsize=18)\n",
    "    Title = Title1 + Var\n",
    "    pyplot.title(Title, fontsize=25)\n",
    "#\n",
    "# Gridlines\n",
    "    pyplot.grid(linewidth=0.3, color='silver', linestyle='-')"
   ]
  },
  {
   "cell_type": "code",
   "execution_count": null,
   "id": "f0e82590-57e3-45a0-bd4f-dc5b064e316a",
   "metadata": {},
   "outputs": [],
   "source": []
  },
  {
   "cell_type": "code",
   "execution_count": null,
   "id": "e3b65d7b-65ff-4633-bac1-4dd0180794ca",
   "metadata": {},
   "outputs": [],
   "source": []
  },
  {
   "cell_type": "code",
   "execution_count": null,
   "id": "adaa0a10-4ee5-475d-8627-e203fc9a3ad7",
   "metadata": {},
   "outputs": [],
   "source": []
  },
  {
   "cell_type": "code",
   "execution_count": 13,
   "id": "c4ddca07-560c-48a2-8b63-8d39b4883e48",
   "metadata": {},
   "outputs": [],
   "source": [
    "# Plot Cumulative Density Functions"
   ]
  },
  {
   "cell_type": "code",
   "execution_count": 16,
   "id": "aa0079c2-31da-4692-b218-ca9cc04e675e",
   "metadata": {},
   "outputs": [
    {
     "ename": "NameError",
     "evalue": "name 'Type' is not defined",
     "output_type": "error",
     "traceback": [
      "\u001b[0;31m---------------------------------------------------------------------------\u001b[0m",
      "\u001b[0;31mNameError\u001b[0m                                 Traceback (most recent call last)",
      "Cell \u001b[0;32mIn[16], line 2\u001b[0m\n\u001b[1;32m      1\u001b[0m \u001b[38;5;66;03m# ET Initiation and Completion Latitude\u001b[39;00m\n\u001b[0;32m----> 2\u001b[0m \u001b[43mET_Cum_Dist_Plot\u001b[49m\u001b[43m(\u001b[49m\u001b[43mControl_ET\u001b[49m\u001b[43m,\u001b[49m\u001b[43m \u001b[49m\u001b[43mRCP45_ET\u001b[49m\u001b[43m,\u001b[49m\u001b[43m \u001b[49m\u001b[43mRCP85_ET\u001b[49m\u001b[43m,\u001b[49m\u001b[43m \u001b[49m\u001b[38;5;124;43m\"\u001b[39;49m\u001b[38;5;124;43mLat\u001b[39;49m\u001b[38;5;124;43m\"\u001b[39;49m\u001b[43m,\u001b[49m\u001b[43m \u001b[49m\u001b[38;5;28;43;01mTrue\u001b[39;49;00m\u001b[43m,\u001b[49m\u001b[43m \u001b[49m\u001b[38;5;28;43;01mTrue\u001b[39;49;00m\u001b[43m,\u001b[49m\u001b[43m \u001b[49m\u001b[38;5;28;43;01mTrue\u001b[39;49;00m\u001b[43m,\u001b[49m\u001b[43m \u001b[49m\u001b[38;5;124;43m'\u001b[39;49m\u001b[38;5;124;43mET_Latitude_Cumulative.png\u001b[39;49m\u001b[38;5;124;43m'\u001b[39;49m\u001b[43m)\u001b[49m\n",
      "Cell \u001b[0;32mIn[15], line 22\u001b[0m, in \u001b[0;36mET_Cum_Dist_Plot\u001b[0;34m(Control_ET, RCP45_ET, RCP85_ET, Var, Ascend, Horiz, Savefig, Figname)\u001b[0m\n\u001b[1;32m     20\u001b[0m         Axis\u001b[38;5;241m.\u001b[39mplot(RCP85_Density, RCP85_Sorted, color\u001b[38;5;241m=\u001b[39m\u001b[38;5;124m'\u001b[39m\u001b[38;5;124mred\u001b[39m\u001b[38;5;124m'\u001b[39m, linewidth\u001b[38;5;241m=\u001b[39m\u001b[38;5;241m3.8\u001b[39m, label\u001b[38;5;241m=\u001b[39m\u001b[38;5;124m'\u001b[39m\u001b[38;5;124mRCP85\u001b[39m\u001b[38;5;124m'\u001b[39m, alpha\u001b[38;5;241m=\u001b[39m\u001b[38;5;241m0.8\u001b[39m)\n\u001b[1;32m     21\u001b[0m \u001b[38;5;66;03m# Formatting Based on Variable\u001b[39;00m\n\u001b[0;32m---> 22\u001b[0m     \u001b[43mET_Cum_Dist_Formatting\u001b[49m\u001b[43m(\u001b[49m\u001b[43mVar\u001b[49m\u001b[43m,\u001b[49m\u001b[43m \u001b[49m\u001b[43mHoriz\u001b[49m\u001b[43m,\u001b[49m\u001b[43m \u001b[49m\u001b[38;5;124;43m\"\u001b[39;49m\u001b[38;5;124;43mET Begin \u001b[39;49m\u001b[38;5;124;43m\"\u001b[39;49m\u001b[43m)\u001b[49m\n\u001b[1;32m     23\u001b[0m \u001b[38;5;66;03m#\u001b[39;00m\n\u001b[1;32m     24\u001b[0m \u001b[38;5;66;03m# Plot ET Completion\u001b[39;00m\n\u001b[1;32m     25\u001b[0m     Axis \u001b[38;5;241m=\u001b[39m Fig\u001b[38;5;241m.\u001b[39madd_subplot(\u001b[38;5;241m1\u001b[39m,\u001b[38;5;241m2\u001b[39m,\u001b[38;5;241m2\u001b[39m)\n",
      "Cell \u001b[0;32mIn[12], line 34\u001b[0m, in \u001b[0;36mET_Cum_Dist_Formatting\u001b[0;34m(Var, Horiz, Title1)\u001b[0m\n\u001b[1;32m     32\u001b[0m         pyplot\u001b[38;5;241m.\u001b[39mxlabel(\u001b[38;5;124m\"\u001b[39m\u001b[38;5;124mCumulative Frequency Density\u001b[39m\u001b[38;5;124m\"\u001b[39m, fontsize\u001b[38;5;241m=\u001b[39m\u001b[38;5;241m18\u001b[39m)\n\u001b[1;32m     33\u001b[0m         pyplot\u001b[38;5;241m.\u001b[39mylabel(\u001b[38;5;124m\"\u001b[39m\u001b[38;5;124mSea Level Pressure (SLP)\u001b[39m\u001b[38;5;124m\"\u001b[39m, fontsize\u001b[38;5;241m=\u001b[39m\u001b[38;5;241m18\u001b[39m)\n\u001b[0;32m---> 34\u001b[0m     Title \u001b[38;5;241m=\u001b[39m Title1 \u001b[38;5;241m+\u001b[39m Var \u001b[38;5;241m+\u001b[39m \u001b[38;5;124m'\u001b[39m\u001b[38;5;124m (\u001b[39m\u001b[38;5;124m'\u001b[39m \u001b[38;5;241m+\u001b[39m \u001b[43mType\u001b[49m \u001b[38;5;241m+\u001b[39m \u001b[38;5;124m'\u001b[39m\u001b[38;5;124m)\u001b[39m\u001b[38;5;124m'\u001b[39m\n\u001b[1;32m     35\u001b[0m     pyplot\u001b[38;5;241m.\u001b[39mtitle(Title, fontsize\u001b[38;5;241m=\u001b[39m\u001b[38;5;241m25\u001b[39m)\n\u001b[1;32m     36\u001b[0m \u001b[38;5;66;03m#\u001b[39;00m\n\u001b[1;32m     37\u001b[0m \u001b[38;5;66;03m# Gridlines\u001b[39;00m\n",
      "\u001b[0;31mNameError\u001b[0m: name 'Type' is not defined"
     ]
    },
    {
     "data": {
      "image/png": "[encoded data removed]",
      "text/plain": [
       "<Figure size 1600x800 with 1 Axes>"
      ]
     },
     "metadata": {},
     "output_type": "display_data"
    }
   ],
   "source": [
    "# ET Initiation and Completion Latitude\n",
    "ET_Cum_Dist_Plot(Control_ET, RCP45_ET, RCP85_ET, \"Lat\", True, True, True, 'ET_Latitude_Cumulative.png')"
   ]
  },
  {
   "cell_type": "code",
   "execution_count": null,
   "id": "d1a25ee1-6985-467b-beef-eae0983b8d24",
   "metadata": {},
   "outputs": [],
   "source": [
    "# ET Initiation and Completion Longitude\n",
    "ET_Cum_Dist_Plot(Control_ET, RCP45_ET, RCP85_ET, \"Lon\", True, False, True, 'ET_Longitude_Cumulative.png')"
   ]
  },
  {
   "cell_type": "code",
   "execution_count": null,
   "id": "300184d5-3aee-42ac-91ee-85899e0669a4",
   "metadata": {},
   "outputs": [],
   "source": [
    "# ET Initiation and Completion Sea Level Pressure\n",
    "ET_Cum_Dist_Plot(Control_ET, RCP45_ET, RCP85_ET, \"SLP\", True, True, True, 'ET_SLP_Cumulative.png')"
   ]
  },
  {
   "cell_type": "code",
   "execution_count": null,
   "id": "03aa1a2c-7ea5-43b8-99ac-63494e0b651e",
   "metadata": {},
   "outputs": [],
   "source": []
  },
  {
   "cell_type": "code",
   "execution_count": null,
   "id": "8bd15e5a-e526-41c7-881a-6ca970dde0ce",
   "metadata": {},
   "outputs": [],
   "source": []
  },
  {
   "cell_type": "code",
   "execution_count": null,
   "id": "70fd933b-a0de-4b8e-ab2b-8a3792690ae5",
   "metadata": {},
   "outputs": [],
   "source": []
  }
 ],
 "metadata": {
  "kernelspec": {
   "display_name": "NPL 2023b",
   "language": "python",
   "name": "npl-2023b"
  },
  "language_info": {
   "codemirror_mode": {
    "name": "ipython",
    "version": 3
   },
   "file_extension": ".py",
   "mimetype": "text/x-python",
   "name": "python",
   "nbconvert_exporter": "python",
   "pygments_lexer": "ipython3",
   "version": "3.10.12"
  }
 },
 "nbformat": 4,
 "nbformat_minor": 5
}
