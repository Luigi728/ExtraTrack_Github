{
 "cells": [
  {
   "cell_type": "code",
   "execution_count": 1,
   "id": "538d34bf-0dc9-410b-8078-a95fe327f2d6",
   "metadata": {},
   "outputs": [],
   "source": [
    "import datetime\n",
    "import os\n",
    "import random\n",
    "import readline\n",
    "from datetime import date\n",
    "import cartopy.crs as ccrs\n",
    "import cartopy.feature as cfeature\n",
    "import cftime\n",
    "import matplotlib.colors as mcolors\n",
    "import matplotlib.dates as mdates\n",
    "import matplotlib.lines as mlines\n",
    "import matplotlib.patches as mpatches\n",
    "import matplotlib.ticker as mticker\n",
    "import netCDF4\n",
    "import numpy\n",
    "import pandas\n",
    "import scipy\n",
    "import seaborn\n",
    "import xarray as xr\n",
    "from cartopy.mpl.gridliner import LATITUDE_FORMATTER, LONGITUDE_FORMATTER\n",
    "from matplotlib import colors, font_manager, pyplot\n",
    "from matplotlib.cm import ScalarMappable\n",
    "from mpl_toolkits.mplot3d import Axes3D\n",
    "from netCDF4 import Dataset\n",
    "from PIL import Image\n",
    "from scipy import fft, linalg, stats\n",
    "from scipy.stats import poisson, ttest_ind\n",
    "from sklearn.linear_model import LinearRegression, LogisticRegression\n",
    "from sklearn.preprocessing import normalize\n",
    "from statsmodels.tsa.ar_model import AutoReg"
   ]
  },
  {
   "cell_type": "code",
   "execution_count": null,
   "id": "bcb84c90-5dd4-4d06-a803-0f08197825a1",
   "metadata": {},
   "outputs": [],
   "source": []
  }
 ],
 "metadata": {
  "kernelspec": {
   "display_name": "NPL 2023b",
   "language": "python",
   "name": "npl-2023b"
  },
  "language_info": {
   "codemirror_mode": {
    "name": "ipython",
    "version": 3
   },
   "file_extension": ".py",
   "mimetype": "text/x-python",
   "name": "python",
   "nbconvert_exporter": "python",
   "pygments_lexer": "ipython3",
   "version": "3.10.12"
  }
 },
 "nbformat": 4,
 "nbformat_minor": 5
}
