{
 "cells": [
  {
   "cell_type": "code",
   "execution_count": 1,
   "id": "ebf6d4e9-1fd7-4595-9e6d-da728041102c",
   "metadata": {
    "editable": true,
    "slideshow": {
     "slide_type": ""
    },
    "tags": []
   },
   "outputs": [],
   "source": [
    "import cartopy.crs as ccrs\n",
    "import cartopy.feature as cfeature\n",
    "from cartopy.mpl.gridliner import LATITUDE_FORMATTER, LONGITUDE_FORMATTER\n",
    "import cftime\n",
    "import datetime\n",
    "from datetime import date\n",
    "from matplotlib import pyplot\n",
    "from matplotlib import colors\n",
    "from matplotlib import font_manager\n",
    "import matplotlib.colors as mcolors\n",
    "from matplotlib.cm import ScalarMappable\n",
    "import matplotlib.dates as mdates\n",
    "import matplotlib.lines as mlines\n",
    "import matplotlib.patches as mpatches\n",
    "import matplotlib.ticker as mticker\n",
    "from mpl_toolkits.mplot3d import Axes3D\n",
    "import netCDF4\n",
    "from netCDF4 import Dataset\n",
    "import numpy\n",
    "import os\n",
    "import pandas\n",
    "from PIL import Image\n",
    "import random\n",
    "import readline\n",
    "import scipy\n",
    "from scipy import fft\n",
    "from scipy import linalg\n",
    "from scipy import stats\n",
    "from scipy.stats import poisson, ttest_ind\n",
    "import seaborn\n",
    "from sklearn.linear_model import LinearRegression, LogisticRegression\n",
    "from sklearn.preprocessing import normalize\n",
    "from statsmodels.tsa.ar_model import AutoReg\n",
    "import xarray as xr"
   ]
  },
  {
   "cell_type": "code",
   "execution_count": null,
   "id": "b7b05ab4-37cb-417b-9818-12ea5c377e4b",
   "metadata": {},
   "outputs": [],
   "source": []
  },
  {
   "cell_type": "raw",
   "id": "902bc7ec-4088-4dbb-a82c-df3136048722",
   "metadata": {},
   "source": [
    "# Calculate Difference Between Models\n",
    "def Phase_Space_Diff_New(x1, z1, x2, z2):\n",
    "    xDiff = Phase_Diff_Smoothing(x1, x2)\n",
    "    zDiff = Phase_Diff_Smoothing(z1, z2)\n",
    "    return (xDiff, zDiff)"
   ]
  },
  {
   "cell_type": "raw",
   "id": "b564ef15-152c-48c6-93f6-cef40943a08d",
   "metadata": {},
   "source": [
    "# Calculate Difference Between Models\n",
    "def Phase_Diff_Smoothing(x1, x2):\n",
    "    Diff = x1 - x2\n",
    "    Sum = x1 + x2\n",
    "    Diff_Smoothen = numpy.zeros((len(Diff), len(Diff[0])))\n",
    "    for i in range(len(Diff)):\n",
    "        for j in range(len(Diff[0])):\n",
    "            Orig_Diff = Diff[i][j]\n",
    "            Orig_Sum = Sum[i][j]\n",
    "            if i > 0 and i < len(Diff)-1 and j > 0 and j < len(Diff[0])-1:\n",
    "                Surround_Diffs = numpy.array([Diff[i-1][j], Diff[i+1][j], Diff[i][j-1], Diff[i][j+1]])\n",
    "                Surround_Sums = numpy.array([Sum[i-1][j], Sum[i+1][j], Sum[i][j-1], Sum[i][j+1]])\n",
    "                if Orig_Sum > 0 and numpy.sum(Surround_Sums) > 0:\n",
    "                    Median_Diff = numpy.median(Surround_Diffs)\n",
    "                    Diff_Smoothen[i][j] = Orig_Diff + (Median_Diff - Orig_Diff) / 4\n",
    "                else:\n",
    "                    Diff_Smoothen[i][j] = Orig_Diff\n",
    "            else:\n",
    "                Diff_Smoothen[i][j] = Orig_Diff\n",
    "    return (Diff_Smoothen)"
   ]
  }
 ],
 "metadata": {
  "kernelspec": {
   "display_name": "NPL 2023b",
   "language": "python",
   "name": "npl-2023b"
  },
  "language_info": {
   "codemirror_mode": {
    "name": "ipython",
    "version": 3
   },
   "file_extension": ".py",
   "mimetype": "text/x-python",
   "name": "python",
   "nbconvert_exporter": "python",
   "pygments_lexer": "ipython3",
   "version": "3.10.12"
  }
 },
 "nbformat": 4,
 "nbformat_minor": 5
}
